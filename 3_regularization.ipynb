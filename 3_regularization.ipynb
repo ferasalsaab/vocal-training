{
 "cells": [
  {
   "cell_type": "code",
   "execution_count": null,
   "metadata": {
    "collapsed": true
   },
   "outputs": [],
   "source": []
  },
  {
   "cell_type": "markdown",
   "metadata": {},
   "source": [
    "## Table of Content: <a class=\"anchor\" id=\"top\"/>\n",
    "* [Problem 1 - Regularization](#problem-1)\n",
    "* [Problem 2 - Overtraining](#problem-2)\n",
    "* [Problem 3 - Dropout](#problem-3)\n",
    "* [Problem 4 - Best Accuracy](#problem-4)\n"
   ]
  },
  {
   "cell_type": "markdown",
   "metadata": {
    "colab_type": "text",
    "id": "kR-4eNdK6lYS"
   },
   "source": [
    "Deep Learning\n",
    "=============\n",
    "\n",
    "Assignment 3\n",
    "------------\n",
    "\n",
    "Previously in `2_fullyconnected.ipynb`, you trained a logistic regression and a neural network model.\n",
    "\n",
    "The goal of this assignment is to explore regularization techniques."
   ]
  },
  {
   "cell_type": "code",
   "execution_count": 1,
   "metadata": {
    "cellView": "both",
    "colab": {
     "autoexec": {
      "startup": false,
      "wait_interval": 0
     }
    },
    "colab_type": "code",
    "collapsed": true,
    "id": "JLpLa8Jt7Vu4"
   },
   "outputs": [],
   "source": [
    "# These are all the modules we'll be using later. Make sure you can import them\n",
    "# before proceeding further.\n",
    "from __future__ import print_function\n",
    "import numpy as np\n",
    "import tensorflow as tf\n",
    "from six.moves import cPickle as pickle"
   ]
  },
  {
   "cell_type": "markdown",
   "metadata": {
    "colab_type": "text",
    "id": "1HrCK6e17WzV"
   },
   "source": [
    "First reload the data we generated in `1_notmnist.ipynb`."
   ]
  },
  {
   "cell_type": "code",
   "execution_count": 3,
   "metadata": {
    "cellView": "both",
    "colab": {
     "autoexec": {
      "startup": false,
      "wait_interval": 0
     },
     "output_extras": [
      {
       "item_id": 1
      }
     ]
    },
    "colab_type": "code",
    "executionInfo": {
     "elapsed": 11777,
     "status": "ok",
     "timestamp": 1449849322348,
     "user": {
      "color": "",
      "displayName": "",
      "isAnonymous": false,
      "isMe": true,
      "permissionId": "",
      "photoUrl": "",
      "sessionId": "0",
      "userId": ""
     },
     "user_tz": 480
    },
    "id": "y3-cj1bpmuxc",
    "outputId": "e03576f1-ebbe-4838-c388-f1777bcc9873"
   },
   "outputs": [
    {
     "name": "stdout",
     "output_type": "stream",
     "text": [
      "Training set (200000, 28, 28) (200000,)\n",
      "Validation set (10000, 28, 28) (10000,)\n",
      "Test set (10000, 28, 28) (10000,)\n"
     ]
    }
   ],
   "source": [
    "# file for home computer\n",
    "# pickle_file = '/Users/gundeep/Documents/Notebooks/deep-learning/notMNIST.pickle'\n",
    "\n",
    "# file for office computer\n",
    "pickle_file = '/Users/gundeepsingh/Documents/Notebook/notMNIST.pickle'\n",
    "\n",
    "# file for paperspace\n",
    "pickle_file = '/home/paperspace/Notebook/notMNIST.pickle'\n",
    "\n",
    "with open(pickle_file, 'rb') as f:\n",
    "  save = pickle.load(f)\n",
    "  train_dataset = save['train_dataset']\n",
    "  train_labels = save['train_labels']\n",
    "  valid_dataset = save['valid_dataset']\n",
    "  valid_labels = save['valid_labels']\n",
    "  test_dataset = save['test_dataset']\n",
    "  test_labels = save['test_labels']\n",
    "  del save  # hint to help gc free up memory\n",
    "  print('Training set', train_dataset.shape, train_labels.shape)\n",
    "  print('Validation set', valid_dataset.shape, valid_labels.shape)\n",
    "  print('Test set', test_dataset.shape, test_labels.shape)"
   ]
  },
  {
   "cell_type": "markdown",
   "metadata": {
    "colab_type": "text",
    "id": "L7aHrm6nGDMB"
   },
   "source": [
    "Reformat into a shape that's more adapted to the models we're going to train:\n",
    "- data as a flat matrix,\n",
    "- labels as float 1-hot encodings."
   ]
  },
  {
   "cell_type": "code",
   "execution_count": 4,
   "metadata": {
    "cellView": "both",
    "colab": {
     "autoexec": {
      "startup": false,
      "wait_interval": 0
     },
     "output_extras": [
      {
       "item_id": 1
      }
     ]
    },
    "colab_type": "code",
    "executionInfo": {
     "elapsed": 11728,
     "status": "ok",
     "timestamp": 1449849322356,
     "user": {
      "color": "",
      "displayName": "",
      "isAnonymous": false,
      "isMe": true,
      "permissionId": "",
      "photoUrl": "",
      "sessionId": "0",
      "userId": ""
     },
     "user_tz": 480
    },
    "id": "IRSyYiIIGIzS",
    "outputId": "3f8996ee-3574-4f44-c953-5c8a04636582"
   },
   "outputs": [
    {
     "name": "stdout",
     "output_type": "stream",
     "text": [
      "Training set (200000, 784) (200000, 10)\n",
      "Validation set (10000, 784) (10000, 10)\n",
      "Test set (10000, 784) (10000, 10)\n",
      "[ 0.  0.  0.  0.  1.  0.  0.  0.  0.  0.]\n"
     ]
    }
   ],
   "source": [
    "image_size = 28\n",
    "num_labels = 10\n",
    "\n",
    "def reformat(dataset, labels):\n",
    "  dataset = dataset.reshape((-1, image_size * image_size)).astype(np.float32)\n",
    "  # Map 1 to [0.0, 1.0, 0.0 ...], 2 to [0.0, 0.0, 1.0 ...]\n",
    "  labels = (np.arange(num_labels) == labels[:,None]).astype(np.float32)\n",
    "  return dataset, labels\n",
    "train_dataset, train_labels = reformat(train_dataset, train_labels)\n",
    "valid_dataset, valid_labels = reformat(valid_dataset, valid_labels)\n",
    "test_dataset, test_labels = reformat(test_dataset, test_labels)\n",
    "print('Training set', train_dataset.shape, train_labels.shape)\n",
    "print('Validation set', valid_dataset.shape, valid_labels.shape)\n",
    "print('Test set', test_dataset.shape, test_labels.shape)\n",
    "\n",
    "print(train_labels[0])"
   ]
  },
  {
   "cell_type": "code",
   "execution_count": 5,
   "metadata": {
    "cellView": "both",
    "colab": {
     "autoexec": {
      "startup": false,
      "wait_interval": 0
     }
    },
    "colab_type": "code",
    "collapsed": true,
    "id": "RajPLaL_ZW6w"
   },
   "outputs": [],
   "source": [
    "def accuracy(predictions, labels):\n",
    "    '''print('calculating accuracy...prediction 0 - ' + str(predictions[0]) + ', label 0 = ' + str(labels[0]))\n",
    "    print('calculating accuracy...prediction 1 - ' + str(predictions[1]) + ', label 1 = ' + str(labels[1]))\n",
    "    print('calculating accuracy...prediction 2 - ' + str(predictions[2]) + ', label 2 = ' + str(labels[2]))\n",
    "    print('calculating accuracy...prediction 3 - ' + str(predictions[3]) + ', label 3 = ' + str(labels[3]))'''\n",
    "    return (100.0 * np.sum(np.argmax(predictions, 1) == np.argmax(labels, 1))\n",
    "          / predictions.shape[0])"
   ]
  },
  {
   "cell_type": "markdown",
   "metadata": {
    "colab_type": "text",
    "id": "sgLbUAQ1CW-1"
   },
   "source": [
    "---\n",
    "Problem 1 <a class=\"anchor\" id=\"problem-1\"></a>\n",
    "---\n",
    "\n",
    "Introduce and tune L2 regularization for both logistic and neural network models. Remember that L2 amounts to adding a penalty on the norm of the weights to the loss. In TensorFlow, you can compute the L2 loss for a tensor `t` using `nn.l2_loss(t)`. The right amount of regularization should improve your validation / test accuracy.\n",
    "\n",
    "---"
   ]
  },
  {
   "cell_type": "markdown",
   "metadata": {},
   "source": [
    "## 01. Stochastic Descent Optimizer + relu + l2 regularization\n",
    "\n",
    "### Steps:\n",
    "1. Load up the __constants, placeholders and variables(weights, biases)__ with graph = tf.Graph() and graph.as_default():\n",
    "2. __Calculate cross entropy and loss__ and __minimize the loss__ using optimizer\n",
    "2. __Define the optimizer__ using optimizer like tf.train.GradientDescentOptimizer with some learning rate and minimize the loss\n",
    "4. After every __session.run__, the variable values will change and we can print the accuracy after every few 100 runs\n",
    "\n",
    "### Load data:"
   ]
  },
  {
   "cell_type": "code",
   "execution_count": 19,
   "metadata": {
    "collapsed": true
   },
   "outputs": [],
   "source": [
    "batch_size = 128\n",
    "image_size = 28\n",
    "num_nodes = 1024\n",
    "# num_nodes = 1280\n",
    "num_labels = 10\n",
    "learning_rate = 0.5\n",
    "lambda_parameter = 0.003\n",
    "\n",
    "graph = tf.Graph()\n",
    "with graph.as_default():\n",
    "    # input the data as placeholders and constants\n",
    "    tf_train_dataset = tf.placeholder(tf.float32, shape=(batch_size, image_size*image_size))\n",
    "    tf_train_labels = tf.placeholder(tf.float32, shape=(batch_size,num_labels))\n",
    "    tf_valid_dataset = tf.constant(valid_dataset)\n",
    "    tf_test_dataset = tf.constant(test_dataset)\n",
    "    \n",
    "    # initialize the variables like weights and biases\n",
    "    weights1 = tf.Variable(tf.truncated_normal([image_size*image_size, num_nodes]))\n",
    "    biases1 = tf.Variable(tf.zeros([num_nodes]))\n",
    "    \n",
    "    weights2 = tf.Variable(tf.truncated_normal([num_nodes, num_labels]))\n",
    "    biases2 = tf.Variable(tf.zeros([num_labels]))\n",
    "    \n",
    "    relufied_weights = tf.nn.relu(tf.matmul(tf_train_dataset, weights1) + biases1)\n",
    "    \n",
    "    # calculate the logits, cross_entropy and loss\n",
    "    # and then minimize the loss\n",
    "    logits = tf.matmul(relufied_weights, weights2) + biases2\n",
    "    cross_entropy = tf.nn.softmax_cross_entropy_with_logits(labels=tf_train_labels, logits=logits)\n",
    "    loss = tf.reduce_mean(cross_entropy)\n",
    "    \n",
    "    # regularization\n",
    "    loss = loss + 0.5 * lambda_parameter * (tf.nn.l2_loss(weights1) + tf.nn.l2_loss(weights2))\n",
    "    \n",
    "    # minimize the loss using an optimizer\n",
    "    optimizer = tf.train.GradientDescentOptimizer(learning_rate).minimize(loss)\n",
    "    \n",
    "    # calculate the predictions\n",
    "    train_prediction = tf.nn.softmax(logits)\n",
    "    valid_prediction = tf.nn.softmax(tf.matmul(tf.nn.relu(tf.matmul(tf_valid_dataset, weights1) + biases1), weights2) + biases2)\n",
    "    test_prediction = tf.nn.softmax(tf.matmul(tf.nn.relu(tf.matmul(tf_test_dataset, weights1) + biases1), weights2) + biases2)"
   ]
  },
  {
   "cell_type": "markdown",
   "metadata": {},
   "source": [
    "Now run the tf session and train the network\n",
    "### Run session:"
   ]
  },
  {
   "cell_type": "code",
   "execution_count": 20,
   "metadata": {},
   "outputs": [
    {
     "name": "stdout",
     "output_type": "stream",
     "text": [
      "Initialized.\n",
      "loss at step 0 = 736.515625\n",
      "train accuracy at step 0 = 14.843750\n",
      "test accuracy at step 0 = 18.760000\n",
      "loss at step 500 = 225.902008\n",
      "train accuracy at step 500 = 76.562500\n",
      "test accuracy at step 500 = 78.460000\n",
      "loss at step 1000 = 106.617416\n",
      "train accuracy at step 1000 = 83.593750\n",
      "test accuracy at step 1000 = 82.670000\n",
      "loss at step 1500 = 48.897873\n",
      "train accuracy at step 1500 = 85.156250\n",
      "test accuracy at step 1500 = 83.140000\n",
      "loss at step 2000 = 23.003733\n",
      "train accuracy at step 2000 = 88.281250\n",
      "test accuracy at step 2000 = 86.110000\n",
      "loss at step 2500 = 11.181416\n",
      "train accuracy at step 2500 = 84.375000\n",
      "test accuracy at step 2500 = 86.830000\n",
      "loss at step 3000 = 5.481342\n",
      "train accuracy at step 3000 = 89.062500\n",
      "test accuracy at step 3000 = 86.810000\n",
      "test accuracy = 93.180000\n"
     ]
    }
   ],
   "source": [
    "num_steps = (train_dataset.shape[0]/batch_size) * 2\n",
    "\n",
    "with tf.Session(graph=graph) as session:\n",
    "    # initialize global variables\n",
    "    tf.global_variables_initializer().run()\n",
    "    print('Initialized.')\n",
    "    # run the session with the optimizer, prediction and loss\n",
    "    # print the loss and accuracy every 100 steps\n",
    "    for step in range(int(num_steps)):\n",
    "        # 01. calculate the offset for the current batch of the training data\n",
    "        offset = (batch_size * step) % (train_dataset.shape[0] - batch_size)\n",
    "        \n",
    "        # 02. generate a mini batch\n",
    "        batch_data = train_dataset[offset:offset+batch_size, :]\n",
    "        batch_labels = train_labels[offset:offset+batch_size, :]\n",
    "        \n",
    "        # 03. create a feed dict for the placeholders\n",
    "        feed_dict = {tf_train_dataset : batch_data, tf_train_labels : batch_labels}\n",
    "        feed_dict = {tf_train_dataset : batch_data, tf_train_labels : batch_labels}\n",
    "        \n",
    "        # 04. run the optimizer\n",
    "        _, l, predictions = session.run([optimizer, loss, train_prediction], feed_dict = feed_dict )\n",
    "        \n",
    "        if(step % 500 == 0):\n",
    "            print('loss at step %d = %f' % (step, l))\n",
    "            print('train accuracy at step %d = %f' % (step, accuracy(predictions, batch_labels)))\n",
    "            print('test accuracy at step %d = %f' % (step, accuracy(\n",
    "                valid_prediction.eval(), valid_labels)))\n",
    "    print('test accuracy = %f' % accuracy(test_prediction.eval(), test_labels))"
   ]
  },
  {
   "cell_type": "markdown",
   "metadata": {},
   "source": [
    "---\n",
    "\n",
    "## 02. L2 Regularized Stochastic GD Network\n",
    "\n",
    "### Steps:\n",
    "1. Load data just like before\n",
    "2. Calculate the new loss as $\\mathcal{L}' = \\mathcal{L} + \\beta \\frac{1}{2} ||w||^2_{2}$\n",
    "3. Use optimizer to train the network\n",
    "### Load data:"
   ]
  },
  {
   "cell_type": "code",
   "execution_count": 21,
   "metadata": {
    "collapsed": true
   },
   "outputs": [],
   "source": [
    "batch_size = 256\n",
    "image_size = 28\n",
    "# num_nodes = 1024\n",
    "num_labels = 10\n",
    "learning_rate = 0.6\n",
    "lambda_parameter = 0.004\n",
    "\n",
    "graph = tf.Graph()\n",
    "with graph.as_default():\n",
    "    # input the data as placeholders and constants\n",
    "    tf_train_dataset = tf.placeholder(tf.float32, shape=(batch_size, image_size*image_size))\n",
    "    tf_train_labels = tf.placeholder(tf.float32, shape=(batch_size,num_labels))\n",
    "    tf_valid_dataset = tf.constant(valid_dataset)\n",
    "    tf_test_dataset = tf.constant(test_dataset)\n",
    "    # beta = tf.constant()\n",
    "    \n",
    "    # initialize the variables like weights and biases\n",
    "    weights = tf.Variable(tf.truncated_normal([image_size*image_size, num_labels]))\n",
    "    biases = tf.Variable(tf.zeros([num_labels]))\n",
    "    \n",
    "    # calculate the logits, cross_entropy and loss\n",
    "    # and then minimize the loss\n",
    "    logits = tf.matmul(tf_train_dataset, weights) + biases\n",
    "    cross_entropy = tf.nn.softmax_cross_entropy_with_logits(labels=tf_train_labels, logits=logits)\n",
    "    old_loss = tf.reduce_mean(cross_entropy)\n",
    "    loss = old_loss + lambda_parameter/2 * tf.nn.l2_loss(weights)\n",
    "    \n",
    "    # minimize the loss using an optimizer\n",
    "    optimizer = tf.train.GradientDescentOptimizer(learning_rate).minimize(loss)\n",
    "    \n",
    "    # calculate the predictions\n",
    "    train_prediction = tf.nn.softmax(logits)\n",
    "    valid_prediction = tf.nn.softmax(tf.matmul(tf_valid_dataset,weights) + biases)\n",
    "    test_prediction = tf.nn.softmax(tf.matmul(tf_test_dataset, weights) + biases)"
   ]
  },
  {
   "cell_type": "markdown",
   "metadata": {},
   "source": [
    "Now run the tf session and train the network\n",
    "### Run session:"
   ]
  },
  {
   "cell_type": "code",
   "execution_count": 22,
   "metadata": {},
   "outputs": [
    {
     "name": "stdout",
     "output_type": "stream",
     "text": [
      "Initialized.\n",
      "loss at step 0 = 21.187765\n",
      "train accuracy at step 0 = 8.203125\n",
      "test accuracy at step 0 = 11.720000\n",
      "loss at step 500 = 2.352277\n",
      "train accuracy at step 500 = 81.250000\n",
      "test accuracy at step 500 = 77.840000\n",
      "loss at step 1000 = 1.075831\n",
      "train accuracy at step 1000 = 82.031250\n",
      "test accuracy at step 1000 = 80.570000\n",
      "loss at step 1500 = 0.855944\n",
      "train accuracy at step 1500 = 82.031250\n",
      "test accuracy at step 1500 = 81.720000\n",
      "loss at step 1576 = 0.975441\n",
      "train accuracy at step 1576 = 75.000000\n",
      "test accuracy at step 1576 = 81.910000\n",
      "test accuracy = 88.970000\n"
     ]
    }
   ],
   "source": [
    "num_steps = (train_dataset.shape[0]/batch_size) * 2 + 15\n",
    "\n",
    "with tf.Session(graph=graph) as session:\n",
    "    # initialize global variables\n",
    "    tf.global_variables_initializer().run()\n",
    "    print('Initialized.')\n",
    "    # run the session with the optimizer, prediction and loss\n",
    "    # print the loss and accuracy every 100 steps\n",
    "    for step in range(int(num_steps)):\n",
    "        # 01. calculate the offset for the current batch of the training data\n",
    "        offset = (batch_size * step) % (train_dataset.shape[0] - batch_size)\n",
    "        \n",
    "        # 02. generate a mini batch\n",
    "        batch_data = train_dataset[offset:offset+batch_size, :]\n",
    "        batch_labels = train_labels[offset:offset+batch_size, :]\n",
    "        \n",
    "        # 03. create a feed dict for the placeholders\n",
    "        feed_dict = {tf_train_dataset : batch_data, tf_train_labels : batch_labels}\n",
    "        feed_dict = {tf_train_dataset : batch_data, tf_train_labels : batch_labels}\n",
    "        \n",
    "        # 04. run the optimizer\n",
    "        _, l, predictions = session.run([optimizer, loss, train_prediction], feed_dict = feed_dict )\n",
    "        \n",
    "        if(step % 500 == 0 or step == int(num_steps)-1):\n",
    "            print('loss at step %d = %f' % (step, l))\n",
    "            print('train accuracy at step %d = %f' % (step, accuracy(predictions, batch_labels)))\n",
    "            print('test accuracy at step %d = %f' % (step, accuracy(\n",
    "                valid_prediction.eval(), valid_labels)))\n",
    "    print('test accuracy = %f' % accuracy(test_prediction.eval(), test_labels))\n",
    "    # print('test accuracy = %f' % accuracy(train_prediction.eval(), train_labels))"
   ]
  },
  {
   "cell_type": "markdown",
   "metadata": {
    "colab_type": "text",
    "id": "na8xX2yHZzNF"
   },
   "source": [
    "---\n",
    "## Problem 2 <a class=\"anchor\" id=\"problem-2\"></a>\n",
    "\n",
    "Let's demonstrate an extreme case of overfitting. Restrict your training data to just a few batches. What happens?\n",
    "\n",
    "Choses á faire pour l'accaparement:\n",
    "1. Remove the regularization (probably anti regularize)\n",
    "2. Reduce the training dataset\n",
    "3. Increase the learning rate maybe\n",
    "\n",
    "---"
   ]
  },
  {
   "cell_type": "markdown",
   "metadata": {},
   "source": [
    "### Load Data (Overfitting example)"
   ]
  },
  {
   "cell_type": "code",
   "execution_count": 212,
   "metadata": {
    "collapsed": true
   },
   "outputs": [],
   "source": [
    "batch_size = 1\n",
    "image_size = 28\n",
    "# num_nodes = 1024\n",
    "num_labels = 10\n",
    "learning_rate = 0.5\n",
    "lambda_parameter = 0.0045\n",
    "\n",
    "graph = tf.Graph()\n",
    "with graph.as_default():\n",
    "    # input the data as placeholders and constants\n",
    "    tf_train_dataset = tf.placeholder(tf.float32, shape=(batch_size, image_size*image_size))\n",
    "    tf_train_labels = tf.placeholder(tf.float32, shape=(batch_size,num_labels))\n",
    "    tf_valid_dataset = tf.constant(valid_dataset)\n",
    "    tf_test_dataset = tf.constant(test_dataset)\n",
    "    # beta = tf.constant()\n",
    "    \n",
    "    # initialize the variables like weights and biases\n",
    "    weights = tf.Variable(tf.truncated_normal([image_size*image_size, num_labels]))\n",
    "    biases = tf.Variable(tf.zeros([num_labels]))\n",
    "    \n",
    "    # calculate the logits, cross_entropy and loss\n",
    "    # and then minimize the loss\n",
    "    logits = tf.matmul(tf_train_dataset, weights) + biases\n",
    "    cross_entropy = tf.nn.softmax_cross_entropy_with_logits(labels=tf_train_labels, logits=logits)\n",
    "    loss = tf.reduce_mean(cross_entropy)\n",
    "    loss = loss + lambda_parameter/2 * tf.nn.l2_loss(weights)\n",
    "    \n",
    "    # minimize the loss using an optimizer\n",
    "    optimizer = tf.train.GradientDescentOptimizer(learning_rate).minimize(loss)\n",
    "    \n",
    "    # calculate the predictions\n",
    "    train_prediction = tf.nn.softmax(logits)\n",
    "    valid_prediction = tf.nn.softmax(tf.matmul(tf_valid_dataset,weights) + biases)\n",
    "    test_prediction = tf.nn.softmax(tf.matmul(tf_test_dataset, weights) + biases)"
   ]
  },
  {
   "cell_type": "markdown",
   "metadata": {},
   "source": [
    "### Run the session (overfitting)"
   ]
  },
  {
   "cell_type": "code",
   "execution_count": 9,
   "metadata": {},
   "outputs": [
    {
     "name": "stdout",
     "output_type": "stream",
     "text": [
      "Initialized.\n",
      "loss at step 0 = 1438.563965\n",
      "train accuracy at step 0 = 0.000000\n",
      "test accuracy at step 0 = 10.000000\n",
      "loss at step 500 = nan\n",
      "train accuracy at step 500 = 0.000000\n",
      "test accuracy at step 500 = 10.000000\n",
      "loss at step 1000 = nan\n",
      "train accuracy at step 1000 = 0.000000\n",
      "test accuracy at step 1000 = 10.000000\n",
      "loss at step 1042 = nan\n",
      "train accuracy at step 1042 = 0.000000\n",
      "test accuracy at step 1042 = 10.000000\n",
      "num_steps = 1043.0\n",
      "batch_size = 1\n",
      "dataset_size = 257\n",
      "test accuracy = 10.000000\n"
     ]
    }
   ],
   "source": [
    "# reduce the dataset size to half\n",
    "# dataset_size = train_dataset.shape[0]\n",
    "dataset_size = 257\n",
    "num_steps = (dataset_size/batch_size) * 4  + 15\n",
    "\n",
    "with tf.Session(graph=graph) as session:\n",
    "    # initialize global variables\n",
    "    tf.global_variables_initializer().run()\n",
    "    print('Initialized.')\n",
    "    # run the session with the optimizer, prediction and loss\n",
    "    # print the loss and accuracy every 100 steps\n",
    "    for step in range(int(num_steps)):\n",
    "        # 01. calculate the offset for the current batch of the training data\n",
    "        offset = (batch_size * step) % (dataset_size - batch_size)\n",
    "        \n",
    "        # 02. generate a mini batch\n",
    "        batch_data = train_dataset[offset:offset+batch_size, :]\n",
    "        batch_labels = train_labels[offset:offset+batch_size, :]\n",
    "        \n",
    "        # 03. create a feed dict for the placeholders\n",
    "        feed_dict = {tf_train_dataset : batch_data, tf_train_labels : batch_labels}\n",
    "        feed_dict = {tf_train_dataset : batch_data, tf_train_labels : batch_labels}\n",
    "        \n",
    "        # 04. run the optimizer\n",
    "        _, l, predictions = session.run([optimizer, loss, train_prediction], feed_dict = feed_dict )\n",
    "        \n",
    "        if(step % 500 == 0 or step == int(num_steps)-1):\n",
    "            print('loss at step %d = %f' % (step, l))\n",
    "            print('train accuracy at step %d = %f' % (step, accuracy(predictions, batch_labels)))\n",
    "            print('test accuracy at step %d = %f' % (step, accuracy(\n",
    "                valid_prediction.eval(), valid_labels)))\n",
    "    print('num_steps = ' + str(num_steps))\n",
    "    print('batch_size = ' + str(batch_size))\n",
    "    print('dataset_size = ' + str(dataset_size))\n",
    "    print('test accuracy = %f' % accuracy(test_prediction.eval(), test_labels))\n",
    "    # print('test accuracy = %f' % accuracy(train_prediction.eval(), train_labels))"
   ]
  },
  {
   "cell_type": "markdown",
   "metadata": {
    "colab_type": "text",
    "id": "ww3SCBUdlkRc"
   },
   "source": [
    "---\n",
    "## Problem 3 <a class=\"anchor\" id=\"problem-3\"></a>\n",
    "\n",
    "Dropout & Regularization on NN with 1 hidden layer\n",
    "---\n",
    "\n",
    "Introduce Dropout on the hidden layer of the neural network. Remember: Dropout should only be introduced during training, not evaluation, otherwise your evaluation results would be stochastic as well. TensorFlow provides `nn.dropout()` for that, but you have to make sure it's only inserted during training.\n",
    "\n",
    "What happens to our extreme overfitting case?\n",
    "\n",
    "---"
   ]
  },
  {
   "cell_type": "code",
   "execution_count": 24,
   "metadata": {
    "collapsed": true,
    "scrolled": true
   },
   "outputs": [],
   "source": [
    "# \"\"\"\n",
    "# added dropout on relu output\n",
    "batch_size = 128\n",
    "image_size = 28\n",
    "num_nodes = 2048\n",
    "# num_nodes = 1280\n",
    "num_labels = 10\n",
    "learning_rate = 0.5\n",
    "lambda_parameter = 0.003\n",
    "keep_probability = 0.9\n",
    "# \"\"\"\n",
    "\n",
    "# params for overfitting\n",
    "'''\n",
    "batch_size = 10\n",
    "image_size = 28\n",
    "num_nodes = 1024\n",
    "num_labels = 10\n",
    "learning_rate = 0.5\n",
    "lambda_parameter = 0.0045\n",
    "keep_probability = 0.9\n",
    "'''\n",
    "\n",
    "graph = tf.Graph()\n",
    "with graph.as_default():\n",
    "    # input the data as placeholders and constants\n",
    "    tf_train_dataset = tf.placeholder(tf.float32, shape=(batch_size, image_size*image_size))\n",
    "    tf_train_labels = tf.placeholder(tf.float32, shape=(batch_size,num_labels))\n",
    "    tf_valid_dataset = tf.constant(valid_dataset)\n",
    "    tf_test_dataset = tf.constant(test_dataset)\n",
    "    \n",
    "    # initialize the variables like weights and biases\n",
    "    weights1 = tf.Variable(tf.truncated_normal([image_size*image_size, num_nodes]))\n",
    "    biases1 = tf.Variable(tf.zeros([num_nodes]))\n",
    "    \n",
    "    weights2 = tf.Variable(tf.truncated_normal([num_nodes, num_labels]))\n",
    "    biases2 = tf.Variable(tf.zeros([num_labels]))\n",
    "    \n",
    "    relufied_weights = tf.nn.relu(tf.matmul(tf_train_dataset, weights1) + biases1)\n",
    "    \n",
    "    # introduce dropout here\n",
    "    dropped_output = tf.nn.dropout(relufied_weights, keep_prob=keep_probability)\n",
    "    \n",
    "    # calculate the logits, cross_entropy and loss\n",
    "    # and then minimize the loss\n",
    "    logits = tf.matmul(dropped_output, weights2) + biases2\n",
    "    # logits = tf.matmul(relufied_weights, weights2) + biases2\n",
    "    cross_entropy = tf.nn.softmax_cross_entropy_with_logits(labels=tf_train_labels, logits=logits)\n",
    "    loss = tf.reduce_mean(cross_entropy)\n",
    "    \n",
    "    # regularization\n",
    "    loss = loss + 0.5 * lambda_parameter * (tf.nn.l2_loss(weights1) + tf.nn.l2_loss(weights2))\n",
    "    \n",
    "    # minimize the loss using an optimizer\n",
    "    optimizer = tf.train.GradientDescentOptimizer(learning_rate).minimize(loss)\n",
    "    \n",
    "    # calculate the predictions\n",
    "    train_prediction = tf.nn.softmax(logits)\n",
    "    valid_prediction = tf.nn.softmax(tf.matmul(tf.nn.relu(tf.matmul(tf_valid_dataset, weights1) + biases1), weights2) + biases2)\n",
    "    test_prediction = tf.nn.softmax(tf.matmul(tf.nn.relu(tf.matmul(tf_test_dataset, weights1) + biases1), weights2) + biases2)"
   ]
  },
  {
   "cell_type": "markdown",
   "metadata": {},
   "source": [
    "Now run the tf session and train the network\n",
    "### Run session:"
   ]
  },
  {
   "cell_type": "code",
   "execution_count": 25,
   "metadata": {},
   "outputs": [
    {
     "name": "stdout",
     "output_type": "stream",
     "text": [
      "Initialized.\n",
      "loss at step 0 = 1456.982422\n",
      "train accuracy at step 0 = 10.156250\n",
      "test accuracy at step 0 = 39.540000\n",
      "loss at step 500 = 455.016602\n",
      "train accuracy at step 500 = 77.343750\n",
      "test accuracy at step 500 = 82.150000\n",
      "loss at step 1000 = 210.602020\n",
      "train accuracy at step 1000 = 81.250000\n",
      "test accuracy at step 1000 = 82.530000\n",
      "loss at step 1500 = 98.541847\n",
      "train accuracy at step 1500 = 82.031250\n",
      "test accuracy at step 1500 = 83.040000\n",
      "loss at step 2000 = 45.807381\n",
      "train accuracy at step 2000 = 92.187500\n",
      "test accuracy at step 2000 = 86.240000\n",
      "loss at step 2500 = 21.967333\n",
      "train accuracy at step 2500 = 85.937500\n",
      "test accuracy at step 2500 = 86.980000\n",
      "loss at step 3000 = 10.574685\n",
      "train accuracy at step 3000 = 91.406250\n",
      "test accuracy at step 3000 = 86.970000\n",
      "test accuracy = 93.480000\n"
     ]
    }
   ],
   "source": [
    "num_steps = (train_dataset.shape[0]/batch_size) * 2\n",
    "\n",
    "# overfitting params\n",
    "# dataset_size = 2570\n",
    "# num_steps = (dataset_size/batch_size) * 10  + 15\n",
    "\n",
    "with tf.Session(graph=graph) as session:\n",
    "    # initialize global variables\n",
    "    tf.global_variables_initializer().run()\n",
    "    print('Initialized.')\n",
    "    # run the session with the optimizer, prediction and loss\n",
    "    # print the loss and accuracy every 100 steps\n",
    "    for step in range(int(num_steps)):\n",
    "        # 01. calculate the offset for the current batch of the training data\n",
    "        offset = (batch_size * step) % (train_dataset.shape[0] - batch_size)\n",
    "        \n",
    "        # 02. generate a mini batch\n",
    "        batch_data = train_dataset[offset:offset+batch_size, :]\n",
    "        batch_labels = train_labels[offset:offset+batch_size, :]\n",
    "        \n",
    "        # 03. create a feed dict for the placeholders\n",
    "        feed_dict = {tf_train_dataset : batch_data, tf_train_labels : batch_labels}\n",
    "        feed_dict = {tf_train_dataset : batch_data, tf_train_labels : batch_labels}\n",
    "        \n",
    "        # 04. run the optimizer\n",
    "        _, l, predictions = session.run([optimizer, loss, train_prediction], feed_dict = feed_dict )\n",
    "        \n",
    "        if(step % 500 == 0):\n",
    "            print('loss at step %d = %f' % (step, l))\n",
    "            print('train accuracy at step %d = %f' % (step, accuracy(predictions, batch_labels)))\n",
    "            print('test accuracy at step %d = %f' % (step, accuracy(\n",
    "                valid_prediction.eval(), valid_labels)))\n",
    "    print('test accuracy = %f' % accuracy(test_prediction.eval(), test_labels))"
   ]
  },
  {
   "cell_type": "markdown",
   "metadata": {},
   "source": [
    "### Observations\n",
    "#### Params:\n",
    "batch_size = 128\n",
    "image_size = 28\n",
    "num_nodes = 1024\n",
    "num_labels = 10\n",
    "learning_rate = 0.5\n",
    "lambda_parameter = 0.003\n",
    "keep_probability = 0.9\n",
    "\n",
    "\n",
    "---\n",
    "\n",
    "#### test accuracy = 93.21, train accuracy = 87.5 with params: (no dropout)\n",
    "\n",
    "---\n",
    "\n",
    "#### test accuracy = 93.22, train accuracy = 85.15 with params: (with dropout) and same params\n",
    "\n",
    "---\n",
    "\n",
    "when nodes were increased to 2048, then\n",
    "#### test accuracy = 93.24, train accuracy = 86.71\n"
   ]
  },
  {
   "cell_type": "markdown",
   "metadata": {
    "colab_type": "text",
    "id": "-b1hTz3VWZjw"
   },
   "source": [
    "---\n",
    "## Problem 4 <a class=\"anchor\" id=\"problem-4\"/>\n",
    "\n",
    "Try to get the best performance you can using a multi-layer model! The best reported test accuracy using a deep network is [97.1%](http://yaroslavvb.blogspot.com/2011/09/notmnist-dataset.html?showComment=1391023266211#c8758720086795711595).\n",
    "\n",
    "One avenue you can explore is to add multiple layers.\n",
    "\n",
    "Another one is to use learning rate decay:\n",
    "\n",
    "    global_step = tf.Variable(0)  # count the number of steps taken.\n",
    "    learning_rate = tf.train.exponential_decay(0.5, global_step, ...)\n",
    "    optimizer = tf.train.GradientDescentOptimizer(learning_rate).minimize(loss, global_step=global_step)\n",
    " \n",
    " ---\n"
   ]
  },
  {
   "cell_type": "markdown",
   "metadata": {
    "collapsed": true
   },
   "source": [
    "### Trying to get the best accuracy\n",
    "\n",
    "Things to try:\n",
    "1. adding more hidden layers\n",
    "2."
   ]
  },
  {
   "cell_type": "markdown",
   "metadata": {},
   "source": [
    "#### 01. Add 1 more layer\n"
   ]
  },
  {
   "cell_type": "code",
   "execution_count": 6,
   "metadata": {
    "scrolled": true
   },
   "outputs": [
    {
     "name": "stdout",
     "output_type": "stream",
     "text": [
      "weights2.shape = (1024, 500)\n"
     ]
    }
   ],
   "source": [
    "# \"\"\"\n",
    "# added dropout on relu output\n",
    "batch_size = 128\n",
    "image_size = 28\n",
    "num_nodes = 2048\n",
    "num_nodes = 1024\n",
    "num_nodes2 = 500\n",
    "num_labels = 10\n",
    "learning_rate = 0.5\n",
    "lambda_parameter = 0.0025\n",
    "lambda_parameter2 = 5e-6\n",
    "keep_probability = 0.9\n",
    "use_layer_3 = True\n",
    "use_stddev = False\n",
    "base_learning_rate = 0.4\n",
    "decay_rate = 0.65\n",
    "decay_steps = 500\n",
    "train_size = train_dataset.shape[0]\n",
    "num_steps = 5001\n",
    "# \"\"\"\n",
    "\n",
    "graph = tf.Graph()\n",
    "with graph.as_default():\n",
    "    # input the data as placeholders and constants\n",
    "    tf_train_dataset = tf.placeholder(tf.float32, shape=(batch_size, image_size*image_size))\n",
    "    tf_train_labels = tf.placeholder(tf.float32, shape=(batch_size,num_labels))\n",
    "    tf_valid_dataset = tf.constant(valid_dataset)\n",
    "    tf_test_dataset = tf.constant(test_dataset)\n",
    "    \n",
    "    if use_stddev:\n",
    "        std1 = (2/(image_size*image_size))**.5\n",
    "        std2 = (2/num_nodes)**.5\n",
    "        std3 = (2/num_nodes2)**.5\n",
    "    else:\n",
    "        std1 = 0.1\n",
    "        std2 = 0.1\n",
    "        std3 = 0.1\n",
    "    \n",
    "    # initialize the variables like weights and biases\n",
    "    weights1 = tf.Variable(tf.truncated_normal([image_size*image_size, num_nodes], stddev=std1))\n",
    "    biases1 = tf.Variable(tf.zeros([num_nodes]))\n",
    "    \n",
    "    if use_layer_3:\n",
    "        weights2 = tf.Variable(tf.truncated_normal([num_nodes, num_nodes2], stddev=std2))\n",
    "        biases2 = tf.Variable(tf.zeros([num_nodes2]))\n",
    "    else:\n",
    "        weights2 = tf.Variable(tf.truncated_normal([num_nodes, num_labels], stddev=std3))\n",
    "        biases2 = tf.Variable(tf.zeros([num_labels]))\n",
    "        \n",
    "    print('weights2.shape = ' + str(weights2.shape))\n",
    "    \n",
    "    if use_layer_3:\n",
    "        weights3 = tf.Variable(tf.truncated_normal([num_nodes2, num_labels]))\n",
    "        biases3 = tf.Variable(tf.zeros([num_labels]))\n",
    "    \n",
    "    layer_1_logits = tf.matmul(tf_train_dataset, weights1) + biases1\n",
    "    layer_1_relufied = tf.nn.relu(layer_1_logits)\n",
    "    # logits = relufied_weights\n",
    "    \n",
    "    # introduce dropout here\n",
    "    # dropped_output = tf.nn.dropout(relufied_weights, keep_prob=keep_probability)\n",
    "    \n",
    "    # calculate the logits, cross_entropy and loss\n",
    "    # and then minimize the loss\n",
    "    # logits = tf.matmul(dropped_output, weights2) + biases2\n",
    "    # logits = tf.matmul(tf.nn.relu(logits1), weights3) + biases3\n",
    "    layer_2_logits = tf.matmul(layer_1_relufied, weights2) + biases2\n",
    "    layer_2_relufied = tf.nn.relu(layer_2_logits)\n",
    "    if use_layer_3:\n",
    "        logits = tf.matmul(layer_2_relufied, weights3) + biases3\n",
    "    else:\n",
    "        logits = layer_2_logits\n",
    "    \n",
    "    cross_entropy = tf.nn.softmax_cross_entropy_with_logits(labels=tf_train_labels, logits=logits)\n",
    "    loss = tf.reduce_mean(cross_entropy)\n",
    "    \n",
    "    # regularization\n",
    "    loss = loss + 0.5 * lambda_parameter * tf.nn.l2_loss(weights1) + 0.5 * lambda_parameter2 * tf.nn.l2_loss(weights2)\n",
    "    if use_layer_3:\n",
    "        loss = loss + 0.5 * lambda_parameter2 * tf.nn.l2_loss(weights3)\n",
    "        \n",
    "    # minimize the loss using an optimizer\n",
    "    global_step = tf.Variable(0)  # count the number of steps taken...update\n",
    "    \n",
    "    # Optimizer: set up a variable that's incremented once per batch and\n",
    "    # controls the learning rate decay.\n",
    "    batch = tf.Variable(0, dtype=tf.float32)\n",
    "    \n",
    "    learning_rate = tf.train.exponential_decay(\n",
    "      base_learning_rate,                # Base learning rate.\n",
    "      batch * batch_size,  # Current index into the dataset.\n",
    "      decay_steps,          # Decay steps.\n",
    "      decay_rate,                # Decay rate.\n",
    "      staircase=True)\n",
    "    \n",
    "    optimizer = tf.train.GradientDescentOptimizer(learning_rate).minimize(loss, global_step=global_step)\n",
    "    # optimizer = tf.train.GradientDescentOptimizer(learning_rate).minimize(loss)\n",
    "    \n",
    "    # minimize the loss using an optimizer\n",
    "    optimizer = tf.train.GradientDescentOptimizer(learning_rate).minimize(loss)\n",
    "    \n",
    "    # calculate the predictions\n",
    "    train_prediction = tf.nn.softmax(logits)\n",
    "    valid_pre = tf.matmul(tf.nn.relu(tf.matmul(tf_valid_dataset, weights1) + biases1), weights2) + biases2\n",
    "    test_pre = tf.matmul(tf.nn.relu(tf.matmul(tf_test_dataset, weights1) + biases1), weights2) + biases2\n",
    "    if not use_layer_3:\n",
    "        valid_prediction = tf.nn.softmax(valid_pre)\n",
    "        test_prediction = tf.nn.softmax(test_pre)\n",
    "    else:\n",
    "        valid_prediction = tf.nn.softmax(tf.matmul(tf.nn.relu(valid_pre), weights3) + biases3)\n",
    "        test_prediction = tf.nn.softmax(tf.matmul(tf.nn.relu(test_pre), weights3) + biases3)"
   ]
  },
  {
   "cell_type": "code",
   "execution_count": 7,
   "metadata": {},
   "outputs": [
    {
     "name": "stdout",
     "output_type": "stream",
     "text": [
      "Initialized.\n"
     ]
    },
    {
     "ename": "ResourceExhaustedError",
     "evalue": "OOM when allocating tensor with shape[784,1024]\n\t [[Node: gradients_1/L2Loss_grad/mul = Mul[T=DT_FLOAT, _device=\"/job:localhost/replica:0/task:0/gpu:0\"](Variable/read, gradients_1/mul_grad/tuple/control_dependency_1)]]\n\t [[Node: Softmax/_21 = _Recv[client_terminated=false, recv_device=\"/job:localhost/replica:0/task:0/cpu:0\", send_device=\"/job:localhost/replica:0/task:0/gpu:0\", send_device_incarnation=1, tensor_name=\"edge_2_Softmax\", tensor_type=DT_FLOAT, _device=\"/job:localhost/replica:0/task:0/cpu:0\"]()]]\n\nCaused by op u'gradients_1/L2Loss_grad/mul', defined at:\n  File \"/usr/lib/python2.7/runpy.py\", line 162, in _run_module_as_main\n    \"__main__\", fname, loader, pkg_name)\n  File \"/usr/lib/python2.7/runpy.py\", line 72, in _run_code\n    exec code in run_globals\n  File \"/usr/local/lib/python2.7/dist-packages/ipykernel_launcher.py\", line 16, in <module>\n    app.launch_new_instance()\n  File \"/usr/local/lib/python2.7/dist-packages/traitlets/config/application.py\", line 658, in launch_instance\n    app.start()\n  File \"/usr/local/lib/python2.7/dist-packages/ipykernel/kernelapp.py\", line 477, in start\n    ioloop.IOLoop.instance().start()\n  File \"/usr/local/lib/python2.7/dist-packages/zmq/eventloop/ioloop.py\", line 177, in start\n    super(ZMQIOLoop, self).start()\n  File \"/usr/local/lib/python2.7/dist-packages/tornado/ioloop.py\", line 887, in start\n    handler_func(fd_obj, events)\n  File \"/usr/local/lib/python2.7/dist-packages/tornado/stack_context.py\", line 275, in null_wrapper\n    return fn(*args, **kwargs)\n  File \"/usr/local/lib/python2.7/dist-packages/zmq/eventloop/zmqstream.py\", line 440, in _handle_events\n    self._handle_recv()\n  File \"/usr/local/lib/python2.7/dist-packages/zmq/eventloop/zmqstream.py\", line 472, in _handle_recv\n    self._run_callback(callback, msg)\n  File \"/usr/local/lib/python2.7/dist-packages/zmq/eventloop/zmqstream.py\", line 414, in _run_callback\n    callback(*args, **kwargs)\n  File \"/usr/local/lib/python2.7/dist-packages/tornado/stack_context.py\", line 275, in null_wrapper\n    return fn(*args, **kwargs)\n  File \"/usr/local/lib/python2.7/dist-packages/ipykernel/kernelbase.py\", line 283, in dispatcher\n    return self.dispatch_shell(stream, msg)\n  File \"/usr/local/lib/python2.7/dist-packages/ipykernel/kernelbase.py\", line 235, in dispatch_shell\n    handler(stream, idents, msg)\n  File \"/usr/local/lib/python2.7/dist-packages/ipykernel/kernelbase.py\", line 399, in execute_request\n    user_expressions, allow_stdin)\n  File \"/usr/local/lib/python2.7/dist-packages/ipykernel/ipkernel.py\", line 196, in do_execute\n    res = shell.run_cell(code, store_history=store_history, silent=silent)\n  File \"/usr/local/lib/python2.7/dist-packages/ipykernel/zmqshell.py\", line 533, in run_cell\n    return super(ZMQInteractiveShell, self).run_cell(*args, **kwargs)\n  File \"/usr/local/lib/python2.7/dist-packages/IPython/core/interactiveshell.py\", line 2717, in run_cell\n    interactivity=interactivity, compiler=compiler, result=result)\n  File \"/usr/local/lib/python2.7/dist-packages/IPython/core/interactiveshell.py\", line 2821, in run_ast_nodes\n    if self.run_code(code, result):\n  File \"/usr/local/lib/python2.7/dist-packages/IPython/core/interactiveshell.py\", line 2881, in run_code\n    exec(code_obj, self.user_global_ns, self.user_ns)\n  File \"<ipython-input-6-5893e6784616>\", line 100, in <module>\n    optimizer = tf.train.GradientDescentOptimizer(learning_rate).minimize(loss)\n  File \"/usr/local/lib/python2.7/dist-packages/tensorflow/python/training/optimizer.py\", line 315, in minimize\n    grad_loss=grad_loss)\n  File \"/usr/local/lib/python2.7/dist-packages/tensorflow/python/training/optimizer.py\", line 386, in compute_gradients\n    colocate_gradients_with_ops=colocate_gradients_with_ops)\n  File \"/usr/local/lib/python2.7/dist-packages/tensorflow/python/ops/gradients_impl.py\", line 560, in gradients\n    grad_scope, op, func_call, lambda: grad_fn(op, *out_grads))\n  File \"/usr/local/lib/python2.7/dist-packages/tensorflow/python/ops/gradients_impl.py\", line 368, in _MaybeCompile\n    return grad_fn()  # Exit early\n  File \"/usr/local/lib/python2.7/dist-packages/tensorflow/python/ops/gradients_impl.py\", line 560, in <lambda>\n    grad_scope, op, func_call, lambda: grad_fn(op, *out_grads))\n  File \"/usr/local/lib/python2.7/dist-packages/tensorflow/python/ops/nn_grad.py\", line 556, in _L2LossGrad\n    return op.inputs[0] * grad\n  File \"/usr/local/lib/python2.7/dist-packages/tensorflow/python/ops/math_ops.py\", line 821, in binary_op_wrapper\n    return func(x, y, name=name)\n  File \"/usr/local/lib/python2.7/dist-packages/tensorflow/python/ops/math_ops.py\", line 1044, in _mul_dispatch\n    return gen_math_ops._mul(x, y, name=name)\n  File \"/usr/local/lib/python2.7/dist-packages/tensorflow/python/ops/gen_math_ops.py\", line 1434, in _mul\n    result = _op_def_lib.apply_op(\"Mul\", x=x, y=y, name=name)\n  File \"/usr/local/lib/python2.7/dist-packages/tensorflow/python/framework/op_def_library.py\", line 768, in apply_op\n    op_def=op_def)\n  File \"/usr/local/lib/python2.7/dist-packages/tensorflow/python/framework/ops.py\", line 2336, in create_op\n    original_op=self._default_original_op, op_def=op_def)\n  File \"/usr/local/lib/python2.7/dist-packages/tensorflow/python/framework/ops.py\", line 1228, in __init__\n    self._traceback = _extract_stack()\n\n...which was originally created as op u'L2Loss', defined at:\n  File \"/usr/lib/python2.7/runpy.py\", line 162, in _run_module_as_main\n    \"__main__\", fname, loader, pkg_name)\n[elided 18 identical lines from previous traceback]\n  File \"/usr/local/lib/python2.7/dist-packages/IPython/core/interactiveshell.py\", line 2881, in run_code\n    exec(code_obj, self.user_global_ns, self.user_ns)\n  File \"<ipython-input-6-5893e6784616>\", line 78, in <module>\n    loss = loss + 0.5 * lambda_parameter * tf.nn.l2_loss(weights1) + 0.5 * lambda_parameter2 * tf.nn.l2_loss(weights2)\n  File \"/usr/local/lib/python2.7/dist-packages/tensorflow/python/ops/gen_nn_ops.py\", line 1511, in l2_loss\n    result = _op_def_lib.apply_op(\"L2Loss\", t=t, name=name)\n  File \"/usr/local/lib/python2.7/dist-packages/tensorflow/python/framework/op_def_library.py\", line 768, in apply_op\n    op_def=op_def)\n  File \"/usr/local/lib/python2.7/dist-packages/tensorflow/python/framework/ops.py\", line 2336, in create_op\n    original_op=self._default_original_op, op_def=op_def)\n  File \"/usr/local/lib/python2.7/dist-packages/tensorflow/python/framework/ops.py\", line 1228, in __init__\n    self._traceback = _extract_stack()\n\nResourceExhaustedError (see above for traceback): OOM when allocating tensor with shape[784,1024]\n\t [[Node: gradients_1/L2Loss_grad/mul = Mul[T=DT_FLOAT, _device=\"/job:localhost/replica:0/task:0/gpu:0\"](Variable/read, gradients_1/mul_grad/tuple/control_dependency_1)]]\n\t [[Node: Softmax/_21 = _Recv[client_terminated=false, recv_device=\"/job:localhost/replica:0/task:0/cpu:0\", send_device=\"/job:localhost/replica:0/task:0/gpu:0\", send_device_incarnation=1, tensor_name=\"edge_2_Softmax\", tensor_type=DT_FLOAT, _device=\"/job:localhost/replica:0/task:0/cpu:0\"]()]]\n",
     "output_type": "error",
     "traceback": [
      "\u001b[0;31m---------------------------------------------------------------------------\u001b[0m",
      "\u001b[0;31mResourceExhaustedError\u001b[0m                    Traceback (most recent call last)",
      "\u001b[0;32m<ipython-input-7-f3cdfc5aa763>\u001b[0m in \u001b[0;36m<module>\u001b[0;34m()\u001b[0m\n\u001b[1;32m     18\u001b[0m \u001b[0;34m\u001b[0m\u001b[0m\n\u001b[1;32m     19\u001b[0m         \u001b[0;31m# 04. run the optimizer\u001b[0m\u001b[0;34m\u001b[0m\u001b[0;34m\u001b[0m\u001b[0m\n\u001b[0;32m---> 20\u001b[0;31m         \u001b[0m_\u001b[0m\u001b[0;34m,\u001b[0m \u001b[0ml\u001b[0m\u001b[0;34m,\u001b[0m \u001b[0mpredictions\u001b[0m \u001b[0;34m=\u001b[0m \u001b[0msession\u001b[0m\u001b[0;34m.\u001b[0m\u001b[0mrun\u001b[0m\u001b[0;34m(\u001b[0m\u001b[0;34m[\u001b[0m\u001b[0moptimizer\u001b[0m\u001b[0;34m,\u001b[0m \u001b[0mloss\u001b[0m\u001b[0;34m,\u001b[0m \u001b[0mtrain_prediction\u001b[0m\u001b[0;34m]\u001b[0m\u001b[0;34m,\u001b[0m \u001b[0mfeed_dict\u001b[0m \u001b[0;34m=\u001b[0m \u001b[0mfeed_dict\u001b[0m \u001b[0;34m)\u001b[0m\u001b[0;34m\u001b[0m\u001b[0m\n\u001b[0m\u001b[1;32m     21\u001b[0m \u001b[0;34m\u001b[0m\u001b[0m\n\u001b[1;32m     22\u001b[0m         \u001b[0mbatch\u001b[0m \u001b[0;34m=\u001b[0m \u001b[0mbatch\u001b[0m \u001b[0;34m+\u001b[0m \u001b[0;36m1\u001b[0m\u001b[0;34m\u001b[0m\u001b[0m\n",
      "\u001b[0;32m/usr/local/lib/python2.7/dist-packages/tensorflow/python/client/session.pyc\u001b[0m in \u001b[0;36mrun\u001b[0;34m(self, fetches, feed_dict, options, run_metadata)\u001b[0m\n\u001b[1;32m    776\u001b[0m     \u001b[0;32mtry\u001b[0m\u001b[0;34m:\u001b[0m\u001b[0;34m\u001b[0m\u001b[0m\n\u001b[1;32m    777\u001b[0m       result = self._run(None, fetches, feed_dict, options_ptr,\n\u001b[0;32m--> 778\u001b[0;31m                          run_metadata_ptr)\n\u001b[0m\u001b[1;32m    779\u001b[0m       \u001b[0;32mif\u001b[0m \u001b[0mrun_metadata\u001b[0m\u001b[0;34m:\u001b[0m\u001b[0;34m\u001b[0m\u001b[0m\n\u001b[1;32m    780\u001b[0m         \u001b[0mproto_data\u001b[0m \u001b[0;34m=\u001b[0m \u001b[0mtf_session\u001b[0m\u001b[0;34m.\u001b[0m\u001b[0mTF_GetBuffer\u001b[0m\u001b[0;34m(\u001b[0m\u001b[0mrun_metadata_ptr\u001b[0m\u001b[0;34m)\u001b[0m\u001b[0;34m\u001b[0m\u001b[0m\n",
      "\u001b[0;32m/usr/local/lib/python2.7/dist-packages/tensorflow/python/client/session.pyc\u001b[0m in \u001b[0;36m_run\u001b[0;34m(self, handle, fetches, feed_dict, options, run_metadata)\u001b[0m\n\u001b[1;32m    980\u001b[0m     \u001b[0;32mif\u001b[0m \u001b[0mfinal_fetches\u001b[0m \u001b[0;32mor\u001b[0m \u001b[0mfinal_targets\u001b[0m\u001b[0;34m:\u001b[0m\u001b[0;34m\u001b[0m\u001b[0m\n\u001b[1;32m    981\u001b[0m       results = self._do_run(handle, final_targets, final_fetches,\n\u001b[0;32m--> 982\u001b[0;31m                              feed_dict_string, options, run_metadata)\n\u001b[0m\u001b[1;32m    983\u001b[0m     \u001b[0;32melse\u001b[0m\u001b[0;34m:\u001b[0m\u001b[0;34m\u001b[0m\u001b[0m\n\u001b[1;32m    984\u001b[0m       \u001b[0mresults\u001b[0m \u001b[0;34m=\u001b[0m \u001b[0;34m[\u001b[0m\u001b[0;34m]\u001b[0m\u001b[0;34m\u001b[0m\u001b[0m\n",
      "\u001b[0;32m/usr/local/lib/python2.7/dist-packages/tensorflow/python/client/session.pyc\u001b[0m in \u001b[0;36m_do_run\u001b[0;34m(self, handle, target_list, fetch_list, feed_dict, options, run_metadata)\u001b[0m\n\u001b[1;32m   1030\u001b[0m     \u001b[0;32mif\u001b[0m \u001b[0mhandle\u001b[0m \u001b[0;32mis\u001b[0m \u001b[0mNone\u001b[0m\u001b[0;34m:\u001b[0m\u001b[0;34m\u001b[0m\u001b[0m\n\u001b[1;32m   1031\u001b[0m       return self._do_call(_run_fn, self._session, feed_dict, fetch_list,\n\u001b[0;32m-> 1032\u001b[0;31m                            target_list, options, run_metadata)\n\u001b[0m\u001b[1;32m   1033\u001b[0m     \u001b[0;32melse\u001b[0m\u001b[0;34m:\u001b[0m\u001b[0;34m\u001b[0m\u001b[0m\n\u001b[1;32m   1034\u001b[0m       return self._do_call(_prun_fn, self._session, handle, feed_dict,\n",
      "\u001b[0;32m/usr/local/lib/python2.7/dist-packages/tensorflow/python/client/session.pyc\u001b[0m in \u001b[0;36m_do_call\u001b[0;34m(self, fn, *args)\u001b[0m\n\u001b[1;32m   1050\u001b[0m         \u001b[0;32mexcept\u001b[0m \u001b[0mKeyError\u001b[0m\u001b[0;34m:\u001b[0m\u001b[0;34m\u001b[0m\u001b[0m\n\u001b[1;32m   1051\u001b[0m           \u001b[0;32mpass\u001b[0m\u001b[0;34m\u001b[0m\u001b[0m\n\u001b[0;32m-> 1052\u001b[0;31m       \u001b[0;32mraise\u001b[0m \u001b[0mtype\u001b[0m\u001b[0;34m(\u001b[0m\u001b[0me\u001b[0m\u001b[0;34m)\u001b[0m\u001b[0;34m(\u001b[0m\u001b[0mnode_def\u001b[0m\u001b[0;34m,\u001b[0m \u001b[0mop\u001b[0m\u001b[0;34m,\u001b[0m \u001b[0mmessage\u001b[0m\u001b[0;34m)\u001b[0m\u001b[0;34m\u001b[0m\u001b[0m\n\u001b[0m\u001b[1;32m   1053\u001b[0m \u001b[0;34m\u001b[0m\u001b[0m\n\u001b[1;32m   1054\u001b[0m   \u001b[0;32mdef\u001b[0m \u001b[0m_extend_graph\u001b[0m\u001b[0;34m(\u001b[0m\u001b[0mself\u001b[0m\u001b[0;34m)\u001b[0m\u001b[0;34m:\u001b[0m\u001b[0;34m\u001b[0m\u001b[0m\n",
      "\u001b[0;31mResourceExhaustedError\u001b[0m: OOM when allocating tensor with shape[784,1024]\n\t [[Node: gradients_1/L2Loss_grad/mul = Mul[T=DT_FLOAT, _device=\"/job:localhost/replica:0/task:0/gpu:0\"](Variable/read, gradients_1/mul_grad/tuple/control_dependency_1)]]\n\t [[Node: Softmax/_21 = _Recv[client_terminated=false, recv_device=\"/job:localhost/replica:0/task:0/cpu:0\", send_device=\"/job:localhost/replica:0/task:0/gpu:0\", send_device_incarnation=1, tensor_name=\"edge_2_Softmax\", tensor_type=DT_FLOAT, _device=\"/job:localhost/replica:0/task:0/cpu:0\"]()]]\n\nCaused by op u'gradients_1/L2Loss_grad/mul', defined at:\n  File \"/usr/lib/python2.7/runpy.py\", line 162, in _run_module_as_main\n    \"__main__\", fname, loader, pkg_name)\n  File \"/usr/lib/python2.7/runpy.py\", line 72, in _run_code\n    exec code in run_globals\n  File \"/usr/local/lib/python2.7/dist-packages/ipykernel_launcher.py\", line 16, in <module>\n    app.launch_new_instance()\n  File \"/usr/local/lib/python2.7/dist-packages/traitlets/config/application.py\", line 658, in launch_instance\n    app.start()\n  File \"/usr/local/lib/python2.7/dist-packages/ipykernel/kernelapp.py\", line 477, in start\n    ioloop.IOLoop.instance().start()\n  File \"/usr/local/lib/python2.7/dist-packages/zmq/eventloop/ioloop.py\", line 177, in start\n    super(ZMQIOLoop, self).start()\n  File \"/usr/local/lib/python2.7/dist-packages/tornado/ioloop.py\", line 887, in start\n    handler_func(fd_obj, events)\n  File \"/usr/local/lib/python2.7/dist-packages/tornado/stack_context.py\", line 275, in null_wrapper\n    return fn(*args, **kwargs)\n  File \"/usr/local/lib/python2.7/dist-packages/zmq/eventloop/zmqstream.py\", line 440, in _handle_events\n    self._handle_recv()\n  File \"/usr/local/lib/python2.7/dist-packages/zmq/eventloop/zmqstream.py\", line 472, in _handle_recv\n    self._run_callback(callback, msg)\n  File \"/usr/local/lib/python2.7/dist-packages/zmq/eventloop/zmqstream.py\", line 414, in _run_callback\n    callback(*args, **kwargs)\n  File \"/usr/local/lib/python2.7/dist-packages/tornado/stack_context.py\", line 275, in null_wrapper\n    return fn(*args, **kwargs)\n  File \"/usr/local/lib/python2.7/dist-packages/ipykernel/kernelbase.py\", line 283, in dispatcher\n    return self.dispatch_shell(stream, msg)\n  File \"/usr/local/lib/python2.7/dist-packages/ipykernel/kernelbase.py\", line 235, in dispatch_shell\n    handler(stream, idents, msg)\n  File \"/usr/local/lib/python2.7/dist-packages/ipykernel/kernelbase.py\", line 399, in execute_request\n    user_expressions, allow_stdin)\n  File \"/usr/local/lib/python2.7/dist-packages/ipykernel/ipkernel.py\", line 196, in do_execute\n    res = shell.run_cell(code, store_history=store_history, silent=silent)\n  File \"/usr/local/lib/python2.7/dist-packages/ipykernel/zmqshell.py\", line 533, in run_cell\n    return super(ZMQInteractiveShell, self).run_cell(*args, **kwargs)\n  File \"/usr/local/lib/python2.7/dist-packages/IPython/core/interactiveshell.py\", line 2717, in run_cell\n    interactivity=interactivity, compiler=compiler, result=result)\n  File \"/usr/local/lib/python2.7/dist-packages/IPython/core/interactiveshell.py\", line 2821, in run_ast_nodes\n    if self.run_code(code, result):\n  File \"/usr/local/lib/python2.7/dist-packages/IPython/core/interactiveshell.py\", line 2881, in run_code\n    exec(code_obj, self.user_global_ns, self.user_ns)\n  File \"<ipython-input-6-5893e6784616>\", line 100, in <module>\n    optimizer = tf.train.GradientDescentOptimizer(learning_rate).minimize(loss)\n  File \"/usr/local/lib/python2.7/dist-packages/tensorflow/python/training/optimizer.py\", line 315, in minimize\n    grad_loss=grad_loss)\n  File \"/usr/local/lib/python2.7/dist-packages/tensorflow/python/training/optimizer.py\", line 386, in compute_gradients\n    colocate_gradients_with_ops=colocate_gradients_with_ops)\n  File \"/usr/local/lib/python2.7/dist-packages/tensorflow/python/ops/gradients_impl.py\", line 560, in gradients\n    grad_scope, op, func_call, lambda: grad_fn(op, *out_grads))\n  File \"/usr/local/lib/python2.7/dist-packages/tensorflow/python/ops/gradients_impl.py\", line 368, in _MaybeCompile\n    return grad_fn()  # Exit early\n  File \"/usr/local/lib/python2.7/dist-packages/tensorflow/python/ops/gradients_impl.py\", line 560, in <lambda>\n    grad_scope, op, func_call, lambda: grad_fn(op, *out_grads))\n  File \"/usr/local/lib/python2.7/dist-packages/tensorflow/python/ops/nn_grad.py\", line 556, in _L2LossGrad\n    return op.inputs[0] * grad\n  File \"/usr/local/lib/python2.7/dist-packages/tensorflow/python/ops/math_ops.py\", line 821, in binary_op_wrapper\n    return func(x, y, name=name)\n  File \"/usr/local/lib/python2.7/dist-packages/tensorflow/python/ops/math_ops.py\", line 1044, in _mul_dispatch\n    return gen_math_ops._mul(x, y, name=name)\n  File \"/usr/local/lib/python2.7/dist-packages/tensorflow/python/ops/gen_math_ops.py\", line 1434, in _mul\n    result = _op_def_lib.apply_op(\"Mul\", x=x, y=y, name=name)\n  File \"/usr/local/lib/python2.7/dist-packages/tensorflow/python/framework/op_def_library.py\", line 768, in apply_op\n    op_def=op_def)\n  File \"/usr/local/lib/python2.7/dist-packages/tensorflow/python/framework/ops.py\", line 2336, in create_op\n    original_op=self._default_original_op, op_def=op_def)\n  File \"/usr/local/lib/python2.7/dist-packages/tensorflow/python/framework/ops.py\", line 1228, in __init__\n    self._traceback = _extract_stack()\n\n...which was originally created as op u'L2Loss', defined at:\n  File \"/usr/lib/python2.7/runpy.py\", line 162, in _run_module_as_main\n    \"__main__\", fname, loader, pkg_name)\n[elided 18 identical lines from previous traceback]\n  File \"/usr/local/lib/python2.7/dist-packages/IPython/core/interactiveshell.py\", line 2881, in run_code\n    exec(code_obj, self.user_global_ns, self.user_ns)\n  File \"<ipython-input-6-5893e6784616>\", line 78, in <module>\n    loss = loss + 0.5 * lambda_parameter * tf.nn.l2_loss(weights1) + 0.5 * lambda_parameter2 * tf.nn.l2_loss(weights2)\n  File \"/usr/local/lib/python2.7/dist-packages/tensorflow/python/ops/gen_nn_ops.py\", line 1511, in l2_loss\n    result = _op_def_lib.apply_op(\"L2Loss\", t=t, name=name)\n  File \"/usr/local/lib/python2.7/dist-packages/tensorflow/python/framework/op_def_library.py\", line 768, in apply_op\n    op_def=op_def)\n  File \"/usr/local/lib/python2.7/dist-packages/tensorflow/python/framework/ops.py\", line 2336, in create_op\n    original_op=self._default_original_op, op_def=op_def)\n  File \"/usr/local/lib/python2.7/dist-packages/tensorflow/python/framework/ops.py\", line 1228, in __init__\n    self._traceback = _extract_stack()\n\nResourceExhaustedError (see above for traceback): OOM when allocating tensor with shape[784,1024]\n\t [[Node: gradients_1/L2Loss_grad/mul = Mul[T=DT_FLOAT, _device=\"/job:localhost/replica:0/task:0/gpu:0\"](Variable/read, gradients_1/mul_grad/tuple/control_dependency_1)]]\n\t [[Node: Softmax/_21 = _Recv[client_terminated=false, recv_device=\"/job:localhost/replica:0/task:0/cpu:0\", send_device=\"/job:localhost/replica:0/task:0/gpu:0\", send_device_incarnation=1, tensor_name=\"edge_2_Softmax\", tensor_type=DT_FLOAT, _device=\"/job:localhost/replica:0/task:0/cpu:0\"]()]]\n"
     ]
    }
   ],
   "source": [
    "with tf.Session(graph=graph) as session:\n",
    "    # initialize global variables\n",
    "    tf.global_variables_initializer().run()\n",
    "    print('Initialized.')\n",
    "    # run the session with the optimizer, prediction and loss\n",
    "    # print the loss and accuracy every 100 steps\n",
    "    for step in range(int(num_steps)):\n",
    "        # 01. calculate the offset for the current batch of the training data\n",
    "        offset = (batch_size * step) % (train_dataset.shape[0] - batch_size)\n",
    "        \n",
    "        # 02. generate a mini batch\n",
    "        batch_data = train_dataset[offset:offset+batch_size, :]\n",
    "        batch_labels = train_labels[offset:offset+batch_size, :]\n",
    "        \n",
    "        # 03. create a feed dict for the placeholders\n",
    "        feed_dict = {tf_train_dataset : batch_data, tf_train_labels : batch_labels}\n",
    "        feed_dict = {tf_train_dataset : batch_data, tf_train_labels : batch_labels}\n",
    "        \n",
    "        # 04. run the optimizer\n",
    "        _, l, predictions = session.run([optimizer, loss, train_prediction], feed_dict = feed_dict )\n",
    "        \n",
    "        batch = batch + 1\n",
    "        \n",
    "        if(step % 500 == 0):\n",
    "            print('loss at step %d = %f' % (step, l))\n",
    "            print('train accuracy at step %d = %f' % (step, accuracy(predictions, batch_labels)))\n",
    "            print('test accuracy at step %d = %f' % (step, accuracy(\n",
    "                valid_prediction.eval(), valid_labels)))\n",
    "    print('test accuracy = %f' % accuracy(test_prediction.eval(), test_labels))"
   ]
  },
  {
   "cell_type": "markdown",
   "metadata": {},
   "source": [
    "# Try the following later"
   ]
  },
  {
   "cell_type": "code",
   "execution_count": 38,
   "metadata": {
    "collapsed": true,
    "scrolled": true
   },
   "outputs": [],
   "source": [
    "# \"\"\"\n",
    "# added dropout on relu output\n",
    "batch_size = 128\n",
    "image_size = 28\n",
    "num_nodes = 1024\n",
    "num_nodes2 = 500\n",
    "# num_nodes = 1280\n",
    "num_labels = 10\n",
    "learning_rate = 0.5\n",
    "lambda_parameter = 0.003\n",
    "keep_probability = 0.9\n",
    "# \"\"\"\n",
    "\n",
    "graph = tf.Graph()\n",
    "with graph.as_default():\n",
    "    # input the data as placeholders and constants\n",
    "    tf_train_dataset = tf.placeholder(tf.float32, shape=(batch_size, image_size*image_size))\n",
    "    tf_train_labels = tf.placeholder(tf.float32, shape=(batch_size,num_labels))\n",
    "    tf_valid_dataset = tf.constant(valid_dataset)\n",
    "    tf_test_dataset = tf.constant(test_dataset)\n",
    "    \n",
    "    # initialize the variables like weights and biases\n",
    "    weights1 = tf.Variable(tf.truncated_normal([image_size*image_size, num_nodes], stddev=(2/(image_size*image_size))**.5))\n",
    "    biases1 = tf.Variable(tf.zeros([num_nodes]))\n",
    "    \n",
    "    weights2 = tf.Variable(tf.truncated_normal([num_nodes, num_nodes2], stddev=(2/(num_nodes))**.5))\n",
    "    biases2 = tf.Variable(tf.zeros([num_nodes2]))\n",
    "    \n",
    "    weights3 = tf.Variable(tf.truncated_normal([num_nodes2, num_labels], stddev=(2/(num_nodes2))**.5))\n",
    "    biases3 = tf.Variable(tf.zeros([num_labels]))\n",
    "    \n",
    "    relufied_weights = tf.nn.relu(tf.matmul(tf_train_dataset, weights1) + biases1)\n",
    "    \n",
    "    # introduce dropout here\n",
    "    # dropped_output = tf.nn.dropout(relufied_weights, keep_prob=keep_probability)\n",
    "    \n",
    "    # calculate the logits, cross_entropy and loss\n",
    "    # and then minimize the loss\n",
    "    \n",
    "    # find logits from layer 1 & 2\n",
    "    pre_logits = tf.matmul(relufied_weights, weights2) + biases2\n",
    "    \n",
    "    # insert a relu to the results\n",
    "    relu_logits = tf.nn.relu(pre_logits)\n",
    "    \n",
    "    # update logits from previous result and layer 3\n",
    "    logits = tf.matmul(relufied_weights, weights2) + biases2\n",
    "    # logits = tf.matmul(relu_logits, weights3) + biases3\n",
    "    \n",
    "    # logits = tf.matmul(relufied_weights, weights2) + biases2\n",
    "    cross_entropy = tf.nn.softmax_cross_entropy_with_logits(labels=tf_train_labels, logits=logits)\n",
    "    loss = tf.reduce_mean(cross_entropy)\n",
    "    \n",
    "    # regularization\n",
    "    loss = loss + 0.5 * lambda_parameter * (tf.nn.l2_loss(weights1) + tf.nn.l2_loss(weights2))\n",
    "    \n",
    "    # minimize the loss using an optimizer\n",
    "    optimizer = tf.train.GradientDescentOptimizer(learning_rate).minimize(loss)\n",
    "    \n",
    "    # calculate the predictions\n",
    "    train_prediction = tf.nn.softmax(logits)\n",
    "    valid_prediction = tf.nn.softmax(tf.matmul(tf.nn.relu(tf.matmul(tf.nn.relu(tf.matmul(tf_valid_dataset, weights1) + biases1), weights2) + biases2), weights3) + biases3) \n",
    "    test_prediction = tf.nn.softmax(tf.matmul(tf.nn.relu(tf.matmul(tf.nn.relu(tf.matmul(tf_test_dataset, weights1) + biases1), weights2) + biases2), weights3) + biases3)"
   ]
  },
  {
   "cell_type": "code",
   "execution_count": 53,
   "metadata": {},
   "outputs": [
    {
     "name": "stdout",
     "output_type": "stream",
     "text": [
      "Initialized.\n",
      "loss at step 0 = 862.584412\n",
      "train accuracy at step 0 = 7.812500\n",
      "test accuracy at step 0 = 32.920000\n",
      "loss at step 500 = 229.147766\n",
      "train accuracy at step 500 = 77.343750\n",
      "test accuracy at step 500 = 79.250000\n",
      "loss at step 1000 = 105.120415\n",
      "train accuracy at step 1000 = 78.125000\n",
      "test accuracy at step 1000 = 79.940000\n",
      "loss at step 1500 = 49.085506\n",
      "train accuracy at step 1500 = 81.250000\n",
      "test accuracy at step 1500 = 82.950000\n",
      "loss at step 2000 = 22.985241\n",
      "train accuracy at step 2000 = 88.281250\n",
      "test accuracy at step 2000 = 86.150000\n",
      "loss at step 2500 = 11.220746\n",
      "train accuracy at step 2500 = 82.812500\n",
      "test accuracy at step 2500 = 86.750000\n",
      "loss at step 3000 = 5.443682\n",
      "train accuracy at step 3000 = 92.187500\n",
      "test accuracy at step 3000 = 86.760000\n",
      "test accuracy = 93.260000\n"
     ]
    }
   ],
   "source": [
    "num_steps = (train_dataset.shape[0]/batch_size) * 2\n",
    "\n",
    "# overfitting params\n",
    "# dataset_size = 2570\n",
    "# num_steps = (dataset_size/batch_size) * 10  + 15\n",
    "\n",
    "with tf.Session(graph=graph) as session:\n",
    "    # initialize global variables\n",
    "    tf.global_variables_initializer().run()\n",
    "    print('Initialized.')\n",
    "    # run the session with the optimizer, prediction and loss\n",
    "    # print the loss and accuracy every 100 steps\n",
    "    for step in range(int(num_steps)):\n",
    "        # 01. calculate the offset for the current batch of the training data\n",
    "        offset = (batch_size * step) % (train_dataset.shape[0] - batch_size)\n",
    "        \n",
    "        # 02. generate a mini batch\n",
    "        batch_data = train_dataset[offset:offset+batch_size, :]\n",
    "        batch_labels = train_labels[offset:offset+batch_size, :]\n",
    "        \n",
    "        # 03. create a feed dict for the placeholders\n",
    "        feed_dict = {tf_train_dataset : batch_data, tf_train_labels : batch_labels}\n",
    "        feed_dict = {tf_train_dataset : batch_data, tf_train_labels : batch_labels}\n",
    "        \n",
    "        # 04. run the optimizer\n",
    "        _, l, predictions = session.run([optimizer, loss, train_prediction], feed_dict = feed_dict )\n",
    "        \n",
    "        if(step % 500 == 0):\n",
    "            print('loss at step %d = %f' % (step, l))\n",
    "            print('train accuracy at step %d = %f' % (step, accuracy(predictions, batch_labels)))\n",
    "            print('test accuracy at step %d = %f' % (step, accuracy(\n",
    "                valid_prediction.eval(), valid_labels)))\n",
    "    print('test accuracy = %f' % accuracy(test_prediction.eval(), test_labels))"
   ]
  },
  {
   "cell_type": "markdown",
   "metadata": {},
   "source": [
    "#### 02. learning rate decay\n",
    "\n",
    "```\n",
    "global_step = tf.Variable(0)  # count the number of steps taken.\n",
    "learning_rate = tf.train.exponential_decay(0.5, global_step, ...)\n",
    "optimizer = tf.train.GradientDescentOptimizer(learning_rate).minimize(loss, global_step=global_step)\n",
    "```"
   ]
  },
  {
   "cell_type": "code",
   "execution_count": 17,
   "metadata": {
    "collapsed": true,
    "scrolled": true
   },
   "outputs": [],
   "source": [
    "# \"\"\"\n",
    "# added dropout on relu output\n",
    "batch_size = 128\n",
    "image_size = 28\n",
    "num_nodes = 1024\n",
    "num_nodes2 = 500\n",
    "num_nodes3 = 300\n",
    "# num_nodes = 1280\n",
    "num_labels = 10\n",
    "base_learning_rate = 0.4\n",
    "lambda_parameter = 5e-4#0.0015\n",
    "lambda_parameter2 = 1e-5\n",
    "decay_rate = 0.65\n",
    "keep_probability = 0.9\n",
    "keep_probability2 = 0.6\n",
    "train_size = train_dataset.shape[0]\n",
    "num_steps = 3001#(train_size/batch_size) * 4\n",
    "# \"\"\"\n",
    "\n",
    "graph = tf.Graph()\n",
    "with graph.as_default():\n",
    "    # input the data as placeholders and constants\n",
    "    tf_train_dataset = tf.placeholder(tf.float32, shape=(batch_size, image_size*image_size))\n",
    "    tf_train_labels = tf.placeholder(tf.float32, shape=(batch_size,num_labels))\n",
    "    tf_valid_dataset = tf.constant(valid_dataset)\n",
    "    tf_test_dataset = tf.constant(test_dataset)\n",
    "    \n",
    "    # initialize the variables like weights and biases\n",
    "    weights1 = tf.Variable(tf.truncated_normal([image_size*image_size, num_nodes],stddev=(2/(image_size*image_size))**.5))\n",
    "    biases1 = tf.Variable(tf.zeros([num_nodes]))\n",
    "    weights2 = tf.Variable(tf.truncated_normal([num_nodes, num_nodes2],stddev=(2/num_nodes)**.5))\n",
    "    biases2 = tf.Variable(tf.zeros([num_nodes2]))\n",
    "    # weights2 = tf.Variable(tf.truncated_normal([num_nodes, num_labels])) -- old weights\n",
    "    # biases2 = tf.Variable(tf.zeros([num_labels])) -- old biases\n",
    "    weights3 = tf.Variable(tf.truncated_normal([num_nodes2, num_nodes3], stddev=(2/num_nodes2)**.5))\n",
    "    biases3 = tf.Variable(tf.zeros([num_nodes3]))\n",
    "    weights4 = tf.Variable(tf.truncated_normal([num_nodes3, num_labels], stddev=(2/num_nodes3)**.5))\n",
    "    biases4 = tf.Variable(tf.zeros([num_labels]))\n",
    "    \n",
    "    # ----- layer 1 start (relu & dropout)-----\n",
    "    relufied_weights = tf.nn.relu(tf.matmul(tf_train_dataset, weights1) + biases1)\n",
    "    result_layer_1 = tf.nn.dropout(relufied_weights, keep_prob=keep_probability)\n",
    "    \n",
    "    # ----- layer 2 start (relu & dropout)-----\n",
    "    \n",
    "    prelogits1 = tf.matmul(result_layer_1, weights2) + biases2\n",
    "    relufied_weights2 = tf.nn.relu(prelogits1)\n",
    "    result_layer_2 = tf.nn.dropout(relufied_weights2, keep_prob=keep_probability2)\n",
    "    \n",
    "    # ----- layer 3 start (relu) -----\n",
    "    prelogits2 = tf.matmul(relufied_weights2, weights3) + biases3\n",
    "    relufied_weights3 = tf.nn.relu(prelogits2)\n",
    "    \n",
    "    \n",
    "\n",
    "    # calculate the logits, cross_entropy and loss\n",
    "    # and then minimize the loss\n",
    "    logits = tf.matmul(relufied_weights3, weights4) + biases4\n",
    "    # logits = tf.matmul(relufied_weights, weights2) + biases2 -- old logits\n",
    "    cross_entropy = tf.nn.softmax_cross_entropy_with_logits(labels=tf_train_labels, logits=logits)\n",
    "    loss = tf.reduce_mean(cross_entropy)\n",
    "    \n",
    "    # regularization\n",
    "    loss = loss + lambda_parameter2 * (tf.nn.l2_loss(weights1)) + lambda_parameter2 * (tf.nn.l2_loss(weights2) + tf.nn.l2_loss(weights3) + tf.nn.l2_loss(weights4))\n",
    "    \n",
    "    # minimize the loss using an optimizer\n",
    "    global_step = tf.Variable(0)  # count the number of steps taken...update\n",
    "    \n",
    "    # Optimizer: set up a variable that's incremented once per batch and\n",
    "    # controls the learning rate decay.\n",
    "    batch = tf.Variable(0, dtype=tf.float32)\n",
    "    \n",
    "    learning_rate = tf.train.exponential_decay(\n",
    "      base_learning_rate,                # Base learning rate.\n",
    "      batch * batch_size,  # Current index into the dataset.\n",
    "      train_size/100,          # Decay steps.\n",
    "      decay_rate,                # Decay rate.\n",
    "      staircase=True)\n",
    "    \n",
    "    optimizer = tf.train.GradientDescentOptimizer(learning_rate).minimize(loss, global_step=global_step)\n",
    "    # optimizer = tf.train.GradientDescentOptimizer(learning_rate).minimize(loss)\n",
    "    \n",
    "    # calculate the predictions\n",
    "    train_prediction = tf.nn.softmax(logits)\n",
    "    layer_2_valid_prediction = tf.matmul(tf.nn.relu(tf.matmul(tf_valid_dataset, weights1) + biases1), weights2) + biases2\n",
    "    layer_2_test_prediction = tf.matmul(tf.nn.relu(tf.matmul(tf_test_dataset, weights1) + biases1), weights2) + biases2\n",
    "    layer_3_valid_prediction = tf.matmul(tf.nn.relu(layer_2_valid_prediction),weights3) + biases3\n",
    "    layer_3_test_prediction = tf.matmul(tf.nn.relu(layer_2_test_prediction), weights3) + biases3\n",
    "    valid_prediction = tf.nn.softmax(tf.matmul(tf.nn.relu(layer_3_valid_prediction), weights4) + biases4)\n",
    "    test_prediction = tf.nn.softmax(tf.matmul(tf.nn.relu(layer_3_test_prediction), weights4) + biases4)"
   ]
  },
  {
   "cell_type": "code",
   "execution_count": 18,
   "metadata": {},
   "outputs": [
    {
     "name": "stdout",
     "output_type": "stream",
     "text": [
      "Initialized.\n",
      "loss at step 0 = 2.302585\n",
      "train accuracy at step 0 = 7.031250\n",
      "test accuracy at step 0 = 10.000000\n",
      "loss at step 500 = 2.311472\n",
      "train accuracy at step 500 = 9.375000\n",
      "test accuracy at step 500 = 10.000000\n",
      "loss at step 1000 = 2.302636\n",
      "train accuracy at step 1000 = 10.937500\n",
      "test accuracy at step 1000 = 10.000000\n",
      "loss at step 1500 = 2.305499\n",
      "train accuracy at step 1500 = 11.718750\n",
      "test accuracy at step 1500 = 10.000000\n",
      "loss at step 2000 = 2.306109\n",
      "train accuracy at step 2000 = 6.250000\n",
      "test accuracy at step 2000 = 10.000000\n",
      "loss at step 2500 = 2.304066\n",
      "train accuracy at step 2500 = 10.156250\n",
      "test accuracy at step 2500 = 10.000000\n",
      "loss at step 3000 = 2.300430\n",
      "train accuracy at step 3000 = 10.156250\n",
      "test accuracy at step 3000 = 10.000000\n",
      "test accuracy = 10.000000\n"
     ]
    }
   ],
   "source": [
    "\n",
    "\n",
    "# overfitting params\n",
    "# dataset_size = 2570\n",
    "# num_steps = (dataset_size/batch_size) * 10  + 15\n",
    "\n",
    "with tf.Session(graph=graph) as session:\n",
    "    # initialize global variables\n",
    "    tf.global_variables_initializer().run()\n",
    "    print('Initialized.')\n",
    "    # run the session with the optimizer, prediction and loss\n",
    "    # print the loss and accuracy every 100 steps\n",
    "    for step in range(int(num_steps)):\n",
    "        # 01. calculate the offset for the current batch of the training data\n",
    "        offset = (batch_size * step) % (train_dataset.shape[0] - batch_size)\n",
    "        \n",
    "        # 02. generate a mini batch\n",
    "        batch_data = train_dataset[offset:offset+batch_size, :]\n",
    "        batch_labels = train_labels[offset:offset+batch_size, :]\n",
    "        \n",
    "        # 03. create a feed dict for the placeholders\n",
    "        feed_dict = {tf_train_dataset : batch_data, tf_train_labels : batch_labels}\n",
    "        feed_dict = {tf_train_dataset : batch_data, tf_train_labels : batch_labels}\n",
    "        \n",
    "        # 04. run the optimizer\n",
    "        _, l, predictions = session.run([optimizer, loss, train_prediction], feed_dict = feed_dict )\n",
    "        \n",
    "        batch = batch + 1\n",
    "        \n",
    "        if(step % 500 == 0):\n",
    "            print('loss at step %d = %f' % (step, l))\n",
    "            print('train accuracy at step %d = %f' % (step, accuracy(predictions, batch_labels)))\n",
    "            print('test accuracy at step %d = %f' % (step, accuracy(\n",
    "                valid_prediction.eval(), valid_labels)))\n",
    "    print('test accuracy = %f' % accuracy(test_prediction.eval(), test_labels))"
   ]
  },
  {
   "cell_type": "markdown",
   "metadata": {},
   "source": [
    "### Results\n",
    "```\n",
    "batch_size = 128\n",
    "image_size = 28\n",
    "num_nodes = 2048\n",
    "num_nodes = 1280\n",
    "num_labels = 10\n",
    "base_learning_rate = 0.5\n",
    "lambda_parameter = 0.003\n",
    "keep_probability = 0.9\n",
    "train_size = train_dataset.shape[0]\n",
    "num_steps = (train_size/batch_size) * 2\n",
    "```\n",
    "\n",
    "test accuracy | train accuracy | change\n",
    "---|---|---\n",
    "93.32 | 86.71 | no change\n",
    "93.03 | 85.93 | base_learning_rate = 0.45, lambda_parameter = 0.005\n",
    "93.39 | 86.75 | learning decay rate = .90\n",
    "93.34 | 86.71 | weights2 initialized with sqrt(2/num_nodes)\n",
    "93.78 | 88.28 | added a second hidden layer with 500 nodes\n",
    "94.26 | 88.66 | base_learning_rate = 0.4, lambda_parameter2 = 1e-5\n",
    "94.48 | 86.71 | number of steps = 4000\n",
    "94.77 | 89.06 | base_learning_rate = 0.4, lambda_parameter = 5e-4, decay_rate = 0.65, num_steps = 3001"
   ]
  },
  {
   "cell_type": "code",
   "execution_count": null,
   "metadata": {
    "collapsed": true
   },
   "outputs": [],
   "source": []
  },
  {
   "cell_type": "markdown",
   "metadata": {},
   "source": [
    "* [Table of Contents](#top)"
   ]
  }
 ],
 "metadata": {
  "colab": {
   "default_view": {},
   "name": "3_regularization.ipynb",
   "provenance": [],
   "version": "0.3.2",
   "views": {}
  },
  "kernelspec": {
   "display_name": "Python 3",
   "language": "python",
   "name": "python3"
  },
  "language_info": {
   "codemirror_mode": {
    "name": "ipython",
    "version": 3
   },
   "file_extension": ".py",
   "mimetype": "text/x-python",
   "name": "python",
   "nbconvert_exporter": "python",
   "pygments_lexer": "ipython3",
   "version": "3.6.2"
  }
 },
 "nbformat": 4,
 "nbformat_minor": 1
}
