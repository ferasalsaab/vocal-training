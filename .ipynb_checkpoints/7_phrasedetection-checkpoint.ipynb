{
 "cells": [
  {
   "cell_type": "markdown",
   "metadata": {
    "collapsed": true
   },
   "source": [
    "# Init notebook\n",
    "## Imports"
   ]
  },
  {
   "cell_type": "code",
   "execution_count": 1,
   "metadata": {
    "collapsed": true
   },
   "outputs": [],
   "source": [
    "import sys\n",
    "import pip\n",
    "import pylab\n",
    "import os\n",
    "import logging\n",
    "import numpy as np\n",
    "import matplotlib.pyplot as plt\n",
    "from scipy.fftpack import fft\n",
    "from scipy import signal\n",
    "from scipy.signal import stft\n",
    "import scipy.io.wavfile as wav\n",
    "import sounddevice as sd\n",
    "import scipy.signal\n",
    "from six.moves import cPickle as pickle\n",
    "from sklearn import preprocessing\n",
    "import tensorflow as tf\n",
    "import PIL\n",
    "from PIL import Image\n",
    "from pylab import *\n",
    "from skimage import measure\n",
    "from scipy import ndimage\n",
    "import tensorflow.contrib.keras as keras\n",
    "import spectogram\n",
    "\n",
    "def install(package):\n",
    "    pip.main(['install', package])"
   ]
  },
  {
   "cell_type": "markdown",
   "metadata": {},
   "source": [
    "## Rec"
   ]
  },
  {
   "cell_type": "code",
   "execution_count": 9,
   "metadata": {},
   "outputs": [
    {
     "data": {
      "text/plain": [
       "'1.3.0'"
      ]
     },
     "execution_count": 9,
     "metadata": {},
     "output_type": "execute_result"
    }
   ],
   "source": [
    "tf.VERSION"
   ]
  },
  {
   "cell_type": "code",
   "execution_count": 16,
   "metadata": {
    "collapsed": true
   },
   "outputs": [],
   "source": [
    "def is_number(s):\n",
    "    \"\"\" Returns True is string is a number. \"\"\"\n",
    "    return s.replace('.','',1).isdigit()\n",
    "\n",
    "def record_audio(dur=3, fs=44.1e3, ch=1, play=False, save=True):\n",
    "    dir_path = 'sounds/recorded/large'\n",
    "    new_file_path = ''\n",
    "    max_file_int = 0\n",
    "    for f in (f for f in os.listdir(dir_path) if f.endswith('.wav')):\n",
    "        filename = f.split('.')[0]\n",
    "        print('fiename = %s'%(filename))\n",
    "        if(is_number(filename) and int(float(filename)) > max_file_int):\n",
    "            max_file_int = int(filename)\n",
    "    new_file_path = os.path.join(dir_path, (str(max_file_int + 1) + '.wav'))\n",
    "    sd.default.samplerate = fs\n",
    "    sd.default.channels = ch\n",
    "    #myrecording = sd.rec(int(duration * fs), samplerate=fs, channels=2)\n",
    "    myrecording = sd.rec(int(dur * fs), dtype='float32')\n",
    "    sd.wait()\n",
    "    if save:\n",
    "        wav.write(new_file_path, int(fs), myrecording)\n",
    "    if play:\n",
    "        sd.play(myrecording)\n",
    "    return myrecording, new_file_path"
   ]
  },
  {
   "cell_type": "code",
   "execution_count": 30,
   "metadata": {},
   "outputs": [
    {
     "name": "stdout",
     "output_type": "stream",
     "text": [
      "fiename = 1\n",
      "rec shape = (132300, 1)\n"
     ]
    }
   ],
   "source": [
    "recording, file_path = record_audio(play=False)\n",
    "print('rec shape = %s'%str(recording.shape))"
   ]
  },
  {
   "cell_type": "markdown",
   "metadata": {},
   "source": [
    "## Wav to png function\n",
    "https://docs.scipy.org/doc/scipy/reference/generated/scipy.signal.stft.html\n",
    "\n",
    "### Convert wav to png"
   ]
  },
  {
   "cell_type": "code",
   "execution_count": 39,
   "metadata": {
    "collapsed": true
   },
   "outputs": [],
   "source": [
    "#save the fucking wave\n",
    "def save_specgram(x, fs, npersegment=1000, log = True, name='spec.png', contourify = False):\n",
    "    f, t, Zxx = signal.stft(x, fs, nperseg=npersegment)\n",
    "    if log:\n",
    "        print('sample freq shape - %s'%f.shape)\n",
    "        print('sample times shape - %s'%t.shape)\n",
    "        print('Zxx[0] length - %s'%len(Zxx[0]))\n",
    "        print('Zxx length - %s'%len(Zxx))\n",
    "    plt.pcolormesh(t, f, np.abs(Zxx), vmin=None, vmax=0.01)\n",
    "    plt.axis('off')\n",
    "    plt.tick_params(axis='both', left='off', top='off', right='off', bottom='off',\n",
    "      labelleft='off', labeltop='off', labelright='off', labelbottom='off')\n",
    "    #plt.title('STFT Magnitude')\n",
    "    #plt.ylabel('Frequency [Hz]')\n",
    "    #plt.xlabel('Time [sec]')\n",
    "    if contourify:\n",
    "        fig = plt.figure\n",
    "        height = f.shape[0]\n",
    "        width = t.shape[0]\n",
    "        canvas = plt.get_current_fig_manager().canvas\n",
    "        canvas.draw()\n",
    "        im = PIL.Image.frombytes('RGB', canvas.get_width_height(), \n",
    "                 canvas.tostring_rgb())\n",
    "        \n",
    "        crop_rectangle = (4, 100, width-3, height-3)\n",
    "        # im = im.crop(crop_rectangle)\n",
    "        \n",
    "        # plt.imshow(cropped_im)\n",
    "        \n",
    "        # convert to contour\n",
    "        im = np.array(im.convert('L'))\n",
    "        plt.imshow(im)\n",
    "        plt.show(im)\n",
    "        \n",
    "        # create a new figure\n",
    "        figure()\n",
    "        # print(im.shape)\n",
    "        # show contours with origin upper left corner\n",
    "        contour(im, origin='image')\n",
    "        # contour(im, levels=[245], colors='black', origin='image')\n",
    "        # axis('equal')\n",
    "        plt.tick_params(axis='both', left='off', top='off', right='off', bottom='off',\n",
    "              labelleft='off', labeltop='off', labelright='off', labelbottom='off')\n",
    "        # show()\n",
    "        plt.savefig(name, bbox_inches='tight', pad_inches = 0.0)\n",
    "        plt.clf()\n",
    "    else:\n",
    "        plt.savefig(name, bbox_inches='tight', pad_inches = 0.0)\n",
    "        plt.clf()"
   ]
  },
  {
   "cell_type": "markdown",
   "metadata": {},
   "source": [
    "### Convert single file"
   ]
  },
  {
   "cell_type": "code",
   "execution_count": 8,
   "metadata": {
    "collapsed": true
   },
   "outputs": [],
   "source": [
    "wave_file_path = 'sounds/recorded/large/tathe_nu_phone_la/2.wav'\n",
    "\n",
    "use_dude_network = True\n",
    "\n",
    "if not use_dude_network:\n",
    "    png_file_path = os.path.splitext(wave_file_path)[0]+'.png'\n",
    "    fs, audio = wav.read(wave_file_path)\n",
    "    save_specgram(audio, fs, npersegment=3000, log = False, name=png_file_path, contourify = True)\n",
    "else:\n",
    "    spectogram.plotstft(wave_file_path, generatefig=True)"
   ]
  },
  {
   "cell_type": "markdown",
   "metadata": {},
   "source": [
    "### Contour from recording"
   ]
  },
  {
   "cell_type": "code",
   "execution_count": 34,
   "metadata": {},
   "outputs": [
    {
     "name": "stdout",
     "output_type": "stream",
     "text": [
      "fiename = 1\n",
      "fiename = 10\n",
      "fiename = 11\n",
      "fiename = 12\n",
      "fiename = 13\n",
      "fiename = 14\n",
      "fiename = 15\n",
      "fiename = 16\n",
      "fiename = 17\n",
      "fiename = 18\n",
      "fiename = 19\n",
      "fiename = 2\n",
      "fiename = 20\n",
      "fiename = 21\n",
      "fiename = 22\n",
      "fiename = 23\n",
      "fiename = 3\n",
      "fiename = 4\n",
      "fiename = 5\n",
      "fiename = 6\n",
      "fiename = 7\n",
      "fiename = 8\n",
      "fiename = 9\n",
      "fiename = input\n",
      "fiename = noise\n",
      "rec shape = (132300, 1)\n"
     ]
    },
    {
     "name": "stderr",
     "output_type": "stream",
     "text": [
      "/Users/gundeepsingh/Applications/anaconda3/envs/opencvtest/lib/python3.5/site-packages/matplotlib/pyplot.py:524: RuntimeWarning: More than 20 figures have been opened. Figures created through the pyplot interface (`matplotlib.pyplot.figure`) are retained until explicitly closed and may consume too much memory. (To control this warning, see the rcParam `figure.max_open_warning`).\n",
      "  max_open_warning, RuntimeWarning)\n"
     ]
    },
    {
     "data": {
      "image/png": "[encoded data removed]",
      "text/plain": [
       "<matplotlib.figure.Figure at 0x1278adc18>"
      ]
     },
     "execution_count": 34,
     "metadata": {},
     "output_type": "execute_result"
    }
   ],
   "source": [
    "# record\n",
    "recording, wave_file_path = record_audio(play=False)\n",
    "print('rec shape = %s'%str(recording.shape))\n",
    "\n",
    "# convert to contour png\n",
    "png_file_path = os.path.splitext(wave_file_path)[0]+'.png'\n",
    "fs, audio = wav.read(wave_file_path)\n",
    "# save_specgram(audio, fs, npersegment=1000, log = False, name=png_file_path, contourify = True)\n",
    "spectogram.plotstft(wave_file_path, generatefig=True)"
   ]
  },
  {
   "cell_type": "markdown",
   "metadata": {},
   "source": [
    "### Test plot"
   ]
  },
  {
   "cell_type": "code",
   "execution_count": 3,
   "metadata": {
    "collapsed": true
   },
   "outputs": [],
   "source": [
    "fs = 10e3\n",
    "N = 1e5\n",
    "amp = 2 * np.sqrt(2)\n",
    "noise_power = 0.01 * fs / 2\n",
    "time = np.arange(N) / float(fs)\n",
    "mod = 500*np.cos(2*np.pi*0.25*time)\n",
    "carrier = amp * np.sin(2*np.pi*3e3*time + mod)\n",
    "noise = np.random.normal(scale=np.sqrt(noise_power),\n",
    "                         size=time.shape)\n",
    "noise *= np.exp(-time/5)\n",
    "x = carrier + noise\n",
    "\n",
    "f, t, Zxx = signal.stft(x, fs, nperseg=1000)\n",
    "plt.pcolormesh(t, f, np.abs(Zxx), vmin=0, vmax=1)\n",
    "plt.title('STFT Magnitude')\n",
    "plt.ylabel('Frequency [Hz]')\n",
    "plt.xlabel('Time [sec]')\n",
    "plt.show()\n",
    "plt.gcf().clear()"
   ]
  },
  {
   "cell_type": "markdown",
   "metadata": {},
   "source": [
    "# Prepare data\n",
    "\n",
    "## Convertion loop (wav to png)"
   ]
  },
  {
   "cell_type": "code",
   "execution_count": 60,
   "metadata": {},
   "outputs": [
    {
     "name": "stderr",
     "output_type": "stream",
     "text": [
      "/Users/gundeepsingh/Applications/anaconda3/lib/python3.6/site-packages/matplotlib/pyplot.py:524: RuntimeWarning: More than 20 figures have been opened. Figures created through the pyplot interface (`matplotlib.pyplot.figure`) are retained until explicitly closed and may consume too much memory. (To control this warning, see the rcParam `figure.max_open_warning`).\n",
      "  max_open_warning, RuntimeWarning)\n",
      "/Users/gundeepsingh/Applications/anaconda3/lib/python3.6/site-packages/scipy/io/wavfile.py:273: WavFileWarning: Chunk (non-data) not understood, skipping it.\n",
      "  WavFileWarning)\n"
     ]
    }
   ],
   "source": [
    "root_path_large = 'sounds/recorded/large'\n",
    "root_path_small = 'sounds/recorded/small'\n",
    "\n",
    "def convert_to_images(root_path):\n",
    "    folders = (os.path.join(root_path,f) for f in os.listdir(root_path) \n",
    "                  if (os.path.isdir(os.path.join(root_path,f)) and not f.startswith('.')\n",
    "                     and not f.startswith('hawker')))\n",
    "    count = 0\n",
    "    for fldr in folders:\n",
    "        if count > 100 :\n",
    "            break\n",
    "        else:\n",
    "            count = count + 1\n",
    "        for f in os.listdir(fldr):\n",
    "            if f.endswith('.wav'):\n",
    "              wave_file_path = os.path.join(fldr, f)\n",
    "              png_file_path = os.path.splitext(wave_file_path)[0]+'.png'\n",
    "#               print(wave_file_path)\n",
    "#               print(png_file_path)\n",
    "              fs, audio = wav.read(wave_file_path)\n",
    "              save_specgram(audio, fs, npersegment=1000, log = False, name=png_file_path, contourify = True)\n",
    "            \n",
    "convert_to_images(root_path_large)\n",
    "convert_to_images(root_path_small)"
   ]
  },
  {
   "cell_type": "markdown",
   "metadata": {},
   "source": [
    "## Pickle Sound Files (old)\n",
    "Load the large and small dataset from disk"
   ]
  },
  {
   "cell_type": "code",
   "execution_count": 57,
   "metadata": {
    "collapsed": true
   },
   "outputs": [
    {
     "name": "stdout",
     "output_type": "stream",
     "text": [
      "['sounds/recorded/large/ah_drakht_boht_sohna_lag_reha.pickle', 'sounds/recorded/large/ah_gana_download_kar.pickle', 'sounds/recorded/large/balli_ik_kam_kar.pickle', 'sounds/recorded/large/kuch_nava_try_karo.pickle', 'sounds/recorded/large/last_sample.pickle', 'sounds/recorded/large/mausam_vadia_ajj.pickle', 'sounds/recorded/large/parkhin_na_pahunch_jatt_di.pickle', 'sounds/recorded/large/tathe_nu_phone_la.pickle', 'sounds/recorded/large/thoda_ja_lamba_phrase.pickle']\n",
      "['sounds/recorded/small/ah_drakht_boht_sohna_lag_reha.pickle', 'sounds/recorded/small/ah_gana_download_kar.pickle', 'sounds/recorded/small/balli_ik_kam_kar.pickle', 'sounds/recorded/small/kuch_nava_try_karo.pickle', 'sounds/recorded/small/last_sample.pickle', 'sounds/recorded/small/mausam_vadia_ajj.pickle', 'sounds/recorded/small/parkhin_na_pahunch_jatt_di.pickle', 'sounds/recorded/small/tathe_nu_phone_la.pickle', 'sounds/recorded/small/thoda_ja_lamba_phrase.pickle']\n",
      "train_size = 102\n",
      "test_size = 9\n"
     ]
    }
   ],
   "source": [
    "# format data in the required format\n",
    "root_path_large = 'sounds/recorded/large'\n",
    "root_path_small = 'sounds/recorded/small'\n",
    "num_labels = 0\n",
    "new_fs = 16e3\n",
    "image_width\n",
    "image_height\n",
    "train_size = 0\n",
    "test_size = 0\n",
    "\n",
    "def format_data(root_path, update_num_labels=False, force=False):\n",
    "    dataset_names = []\n",
    "    dataset_size = 0\n",
    "    folders = (os.path.join(root_path,f) for f in os.listdir(root_path) \n",
    "              if (os.path.isdir(os.path.join(root_path,f)) and not f.startswith('.')\n",
    "                 and not f.startswith('hawker')))\n",
    "    image_dimens_updated = False\n",
    "    for fldr in folders:\n",
    "      set_filename = fldr + '.pickle'\n",
    "      dataset_names.append(set_filename)\n",
    "      if update_num_labels:\n",
    "        global num_labels\n",
    "        num_labels = num_labels + 1\n",
    "      if os.path.exists(set_filename) and not force:\n",
    "        # You may override by setting force=True.\n",
    "        print('%s already present - Skipping pickling.' % set_filename)\n",
    "      else:\n",
    "        temp_dataset = []\n",
    "        for file in os.listdir(fldr):\n",
    "          if file.endswith('.wav'):\n",
    "            # convert file to image and append to dataset\n",
    "            # assert that file is 3 seconds long and sampled at 44.1Khz\n",
    "            wav_file_path = os.path.join(fldr, file)\n",
    "            fs, audio = wav.read(wav_file_path)\n",
    "            seconds_in_audio = len(audio)/fs # Number of seconds in signal X\n",
    "            samps = seconds_in_audio*new_fs     # Number of samples to downsample\n",
    "            audio = signal.resample(audio, int(samps))\n",
    "            f, t, Zxx = signal.stft(audio, fs, nperseg=1000)\n",
    "            spec_image = Zxx.reshape(f.size,t.size)\n",
    "            spec_image = np.abs(np.asarray(spec_image))\n",
    "            temp_dataset.append(spec_image)\n",
    "            if not image_dimens_updated:\n",
    "                image_height = f.size\n",
    "                image_width = t.size\n",
    "            dataset_size = dataset_size + 1\n",
    "        try:\n",
    "          with open(set_filename, 'wb') as f:\n",
    "            pickle.dump(np.asarray(temp_dataset), f, pickle.HIGHEST_PROTOCOL)\n",
    "        except Exception as e:\n",
    "          print('Unable to save data to', set_filename, ':', e)\n",
    "    print(dataset_names)\n",
    "    return np.array(dataset_names),dataset_size\n",
    "\n",
    "def load_data():\n",
    "    global train_size\n",
    "    global test_size\n",
    "    training_dataset_names, train_size = format_data(root_path_large, update_num_labels=True, force=True)\n",
    "    testing_dataset_names, test_size = format_data(root_path_small, force=True)\n",
    "    return training_dataset_names, testing_dataset_names\n",
    "\n",
    "train_datasets, test_datasets = load_data()\n",
    "print('train_size = %s'%train_size)\n",
    "print('test_size = %s'%test_size)"
   ]
  },
  {
   "cell_type": "markdown",
   "metadata": {},
   "source": [
    "## Pickle contour images (new)\n",
    "Load contour png files from disk and pickle the small and the large directory data for later use"
   ]
  },
  {
   "cell_type": "code",
   "execution_count": 47,
   "metadata": {},
   "outputs": [
    {
     "name": "stdout",
     "output_type": "stream",
     "text": [
      "(138, 33, 70, 1)\n",
      "(138, 33, 70, 1)\n",
      "(138, 33, 70, 1)\n",
      "['sounds/whistles/large/ASC.pickle', 'sounds/whistles/large/DESC.pickle', 'sounds/whistles/large/FLAT.pickle']\n",
      "(15, 33, 70, 1)\n",
      "(15, 33, 70, 1)\n",
      "(15, 33, 70, 1)\n",
      "['sounds/whistles/small/ASC.pickle', 'sounds/whistles/small/DESC.pickle', 'sounds/whistles/small/FLAT.pickle']\n",
      "train_dataset.shape = 3\n",
      "train_size = 414\n",
      "test_size = 45\n"
     ]
    }
   ],
   "source": [
    "# format data in the required format\n",
    "# root_path_large = 'sounds/recorded/large'\n",
    "# root_path_small = 'sounds/recorded/small'\n",
    "root_path_large_whistles = 'sounds/whistles/large'\n",
    "root_path_small_whistles = 'sounds/whistles/small'\n",
    "\n",
    "image_height = 0\n",
    "image_width = 0\n",
    "train_size_temp = 0\n",
    "test_size_temp = 0\n",
    "g_scale = True\n",
    "running_with_paperspace = False\n",
    "image_already_grayscale = True\n",
    "\n",
    "def rgb2gray(rgb):\n",
    "    return np.dot(rgb[...,:3], [0.299, 0.587, 0.114])\n",
    "\n",
    "def format_data(root_path, force = False, grayscale = False):\n",
    "    global image_height\n",
    "    global image_width\n",
    "    dataset_names = []\n",
    "    dataset_size = 0\n",
    "    folders = (os.path.join(root_path,f) for f in os.listdir(root_path) \n",
    "              if (os.path.isdir(os.path.join(root_path,f)) and not f.startswith('.')\n",
    "                 and not f.startswith('hawker') and 'horn' not in f))\n",
    "    image_dimens_updated = False\n",
    "    for fldr in folders:\n",
    "      if not running_with_paperspace:\n",
    "        set_filename = fldr + '.pickle'\n",
    "      else:\n",
    "        set_filename = fldr + '_paperspace.pickle'\n",
    "      dataset_names.append(set_filename)\n",
    "      if os.path.exists(set_filename) and not force:\n",
    "        # You may override by setting force=True.\n",
    "        print('%s already present - Skipping pickling.' % set_filename)\n",
    "      else:\n",
    "        temp_dataset = []\n",
    "        for file in os.listdir(fldr):\n",
    "          if file.endswith('.png'):\n",
    "            # convert file to image and append to dataset\n",
    "            # assert that file is 3 seconds long and sampled at 44.1Khz\n",
    "            png_file_path = os.path.join(fldr, file)\n",
    "            if not image_already_grayscale:\n",
    "              image_data = ndimage.imread(png_file_path).astype(float)[:,:,:3]\n",
    "              if grayscale:\n",
    "                image_data = rgb2gray(image_data)\n",
    "            else:\n",
    "              image_data = ndimage.imread(png_file_path).astype(float)[:,:]\n",
    "              image_data = image_data[..., np.newaxis]\n",
    "            temp_dataset.append(image_data)\n",
    "            if not image_dimens_updated:\n",
    "                image_height = image_data.shape[0]\n",
    "                image_width = image_data.shape[1]\n",
    "                image_dimens_updated = True\n",
    "            dataset_size = dataset_size + 1\n",
    "        try:\n",
    "          with open(set_filename, 'wb') as f:\n",
    "            print(np.asarray(temp_dataset).shape)\n",
    "            pickle.dump(np.asarray(temp_dataset), f, pickle.HIGHEST_PROTOCOL)\n",
    "        except Exception as e:\n",
    "          print('Unable to save data to', set_filename, ':', e)\n",
    "    print(dataset_names)\n",
    "    return np.array(dataset_names),dataset_size\n",
    "\n",
    "def load_data():\n",
    "    global train_size_temp\n",
    "    global test_size_temp\n",
    "    training_dataset_names, train_size_temp = format_data(root_path_large_whistles, force=True, grayscale = g_scale)\n",
    "    testing_dataset_names, test_size_temp = format_data(root_path_small_whistles, force=True, grayscale = g_scale)\n",
    "    return training_dataset_names, testing_dataset_names\n",
    "\n",
    "train_datasets, test_datasets = load_data()\n",
    "print('train_dataset.shape = %s'%train_datasets.shape)\n",
    "print('train_size = %s'%train_size_temp)\n",
    "print('test_size = %s'%test_size_temp)"
   ]
  },
  {
   "cell_type": "markdown",
   "metadata": {},
   "source": [
    "Print the dataset info to verify the shape and data"
   ]
  },
  {
   "cell_type": "markdown",
   "metadata": {},
   "source": [
    "## Generate Train, Valid and Test datasets\n",
    "Convert raw dataset into train, valid and test dataset"
   ]
  },
  {
   "cell_type": "code",
   "execution_count": 48,
   "metadata": {},
   "outputs": [
    {
     "name": "stdout",
     "output_type": "stream",
     "text": [
      "-------train_size,test_size = 369,414,45\n",
      "number of train_size = 369\n",
      "nbrows=45,h=33,w=70,ch=1\n",
      "nbrows=369,h=33,w=70,ch=1\n",
      "shape of sound = (138, 33, 70, 1)\n",
      "valid_sounds.shape = (15, 33, 70, 1)\n",
      "valid_dataset.shape = (45, 33, 70, 1)\n",
      "train_sounds.shape = (123, 33, 70, 1)\n",
      "shape of sound = (138, 33, 70, 1)\n",
      "valid_sounds.shape = (15, 33, 70, 1)\n",
      "valid_dataset.shape = (45, 33, 70, 1)\n",
      "train_sounds.shape = (123, 33, 70, 1)\n",
      "shape of sound = (138, 33, 70, 1)\n",
      "valid_sounds.shape = (15, 33, 70, 1)\n",
      "valid_dataset.shape = (45, 33, 70, 1)\n",
      "train_sounds.shape = (123, 33, 70, 1)\n",
      "number of train_size = 45\n",
      "nbrows=45,h=33,w=70,ch=1\n",
      "shape of sound = (15, 33, 70, 1)\n",
      "train_sounds.shape = (15, 33, 70, 1)\n",
      "shape of sound = (15, 33, 70, 1)\n",
      "train_sounds.shape = (15, 33, 70, 1)\n",
      "shape of sound = (15, 33, 70, 1)\n",
      "train_sounds.shape = (15, 33, 70, 1)\n",
      "Training: (369, 33, 70, 1) (369,)\n",
      "Validation: (45, 33, 70, 1) (45,)\n",
      "Testing: (45, 33, 70, 1) (45,)\n",
      "print some real shit-[0 0 0 0 0 0 0 0 0 0 0 0 0 0 0 0 0 0 0 0 0 0 0 0 0 0 0 0 0 0 0 0 0 0 0 0 0\n",
      " 0 0 0 0 0 0 0 0 0 0 0 0 0 0 0 0 0 0 0 0 0 0 0 0 0 0 0 0 0 0 0 0 0 0 0 0 0\n",
      " 0 0 0 0 0 0 0 0 0 0 0 0 0 0 0 0 0 0 0 0 0 0 0 0 0 0 0 0 0 0 0 0 0 0 0 0 0\n",
      " 0 0 0 0 0 0 0 0 0 0 0 0 1 1 1 1 1 1 1 1 1 1 1 1 1 1 1 1 1 1 1 1 1 1 1 1 1\n",
      " 1 1 1 1 1 1 1 1 1 1 1 1 1 1 1 1 1 1 1 1 1 1 1 1 1 1 1 1 1 1 1 1 1 1 1 1 1\n",
      " 1 1 1 1 1 1 1 1 1 1 1 1 1 1 1 1 1 1 1 1 1 1 1 1 1 1 1 1 1 1 1 1 1 1 1 1 1\n",
      " 1 1 1 1 1 1 1 1 1 1 1 1 1 1 1 1 1 1 1 1 1 1 1 1 2 2 2 2 2 2 2 2 2 2 2 2 2\n",
      " 2 2 2 2 2 2 2 2 2 2 2 2 2 2 2 2 2 2 2 2 2 2 2 2 2 2 2 2 2 2 2 2 2 2 2 2 2\n",
      " 2 2 2 2 2 2 2 2 2 2 2 2 2 2 2 2 2 2 2 2 2 2 2 2 2 2 2 2 2 2 2 2 2 2 2 2 2\n",
      " 2 2 2 2 2 2 2 2 2 2 2 2 2 2 2 2 2 2 2 2 2 2 2 2 2 2 2 2 2 2 2 2 2 2 2 2]\n"
     ]
    }
   ],
   "source": [
    "def make_arrays(nb_rows, img_height, img_width, channels):\n",
    "  if nb_rows:\n",
    "    print('nbrows=%s,h=%s,w=%s,ch=%s'%(nb_rows,img_height, img_width, channels))\n",
    "    dataset = np.ndarray((nb_rows, img_height, img_width, channels), dtype=np.float32)\n",
    "    labels = np.ndarray(nb_rows, dtype=np.int32)\n",
    "  else:\n",
    "    dataset, labels = None, None\n",
    "  return dataset, labels\n",
    "\n",
    "def merge_datasets(pickle_files, train_size, valid_size=0):\n",
    "  num_classes = len(pickle_files)\n",
    "  print('number of train_size = %s'%train_size)\n",
    "  valid_dataset, valid_labels = make_arrays(valid_size, image_height, image_width, ch)\n",
    "  train_dataset, train_labels = make_arrays(train_size, image_height, image_width, ch)\n",
    "  vsize_per_class = valid_size // num_classes\n",
    "  tsize_per_class = train_size // num_classes\n",
    "    \n",
    "  start_v, start_t = 0, 0\n",
    "  end_v, end_t = vsize_per_class, tsize_per_class\n",
    "  end_l = vsize_per_class+tsize_per_class\n",
    "  for label, pickle_file in enumerate(pickle_files):       \n",
    "    try:\n",
    "      with open(pickle_file, 'rb') as f:\n",
    "        sounds = pickle.load(f)\n",
    "        print('shape of sound = %s'%str(sounds.shape))\n",
    "        # let's shuffle the letters to have random validation and training set\n",
    "        np.random.shuffle(sounds)\n",
    "        if valid_dataset is not None:\n",
    "          valid_sounds = sounds[:vsize_per_class, :, :, :]\n",
    "          print('valid_sounds.shape = %s'%str(valid_sounds.shape))\n",
    "          print('valid_dataset.shape = %s'%str(valid_dataset.shape))\n",
    "          valid_dataset[start_v:end_v, :, :] = valid_sounds\n",
    "          valid_labels[start_v:end_v] = label\n",
    "          start_v += vsize_per_class\n",
    "          end_v += vsize_per_class\n",
    "                    \n",
    "        train_sounds = sounds[vsize_per_class:end_l, :, :, :]\n",
    "        print('train_sounds.shape = %s'%str(train_sounds.shape))\n",
    "        train_dataset[start_t:end_t, :, :] = train_sounds\n",
    "        train_labels[start_t:end_t] = label\n",
    "        start_t += tsize_per_class\n",
    "        end_t += tsize_per_class\n",
    "    except Exception as e:\n",
    "      print('Unable to process data from', pickle_file, ':', e)\n",
    "      raise\n",
    "    \n",
    "  return valid_dataset, valid_labels, train_dataset, train_labels\n",
    "\n",
    "num_labels = train_datasets.size\n",
    "train_size = ((train_size_temp - test_size_temp) // num_labels) *num_labels\n",
    "print('-------train_size,test_size = %s,%s,%s'%(train_size,train_size_temp,test_size_temp))\n",
    "valid_size = test_size_temp\n",
    "test_size = test_size_temp\n",
    "ch = 1\n",
    "\n",
    "valid_dataset, valid_labels, train_dataset, train_labels = merge_datasets(\n",
    "  train_datasets, train_size, valid_size)\n",
    "_, _, test_dataset, test_labels = merge_datasets(test_datasets, test_size)\n",
    "\n",
    "print('Training:', train_dataset.shape, train_labels.shape)\n",
    "print('Validation:', valid_dataset.shape, valid_labels.shape)\n",
    "print('Testing:', test_dataset.shape, test_labels.shape)\n",
    "\n",
    "print('print some real shit-%s'%train_labels)"
   ]
  },
  {
   "cell_type": "markdown",
   "metadata": {},
   "source": [
    "### Shuffle\n",
    "Randomize the data before using"
   ]
  },
  {
   "cell_type": "code",
   "execution_count": 49,
   "metadata": {
    "collapsed": true
   },
   "outputs": [],
   "source": [
    "def randomize(dataset, labels):\n",
    "  permutation = np.random.permutation(labels.shape[0])\n",
    "  shuffled_dataset = dataset[permutation,:,:]\n",
    "  shuffled_labels = labels[permutation]\n",
    "  return shuffled_dataset, shuffled_labels\n",
    "train_dataset, train_labels = randomize(train_dataset, train_labels)\n",
    "test_dataset, test_labels = randomize(test_dataset, test_labels)\n",
    "valid_dataset, valid_labels = randomize(valid_dataset, valid_labels)"
   ]
  },
  {
   "cell_type": "markdown",
   "metadata": {},
   "source": [
    "### Pickle\n",
    "Save the data for later use to the pickle"
   ]
  },
  {
   "cell_type": "code",
   "execution_count": 4,
   "metadata": {},
   "outputs": [
    {
     "name": "stdout",
     "output_type": "stream",
     "text": [
      "Unable to save data to sounds/whistle_sounds.pickle : name 'train_dataset' is not defined\n"
     ]
    },
    {
     "ename": "NameError",
     "evalue": "name 'train_dataset' is not defined",
     "output_type": "error",
     "traceback": [
      "\u001b[0;31m---------------------------------------------------------------------------\u001b[0m",
      "\u001b[0;31mNameError\u001b[0m                                 Traceback (most recent call last)",
      "\u001b[0;32m<ipython-input-4-344a0ed3980e>\u001b[0m in \u001b[0;36m<module>\u001b[0;34m()\u001b[0m\n\u001b[1;32m      9\u001b[0m   \u001b[0mf\u001b[0m \u001b[0;34m=\u001b[0m \u001b[0mopen\u001b[0m\u001b[0;34m(\u001b[0m\u001b[0mpickle_file\u001b[0m\u001b[0;34m,\u001b[0m \u001b[0;34m'wb'\u001b[0m\u001b[0;34m)\u001b[0m\u001b[0;34m\u001b[0m\u001b[0m\n\u001b[1;32m     10\u001b[0m   save = {\n\u001b[0;32m---> 11\u001b[0;31m     \u001b[0;34m'train_dataset'\u001b[0m\u001b[0;34m:\u001b[0m \u001b[0mtrain_dataset\u001b[0m\u001b[0;34m,\u001b[0m\u001b[0;34m\u001b[0m\u001b[0m\n\u001b[0m\u001b[1;32m     12\u001b[0m     \u001b[0;34m'train_labels'\u001b[0m\u001b[0;34m:\u001b[0m \u001b[0mtrain_labels\u001b[0m\u001b[0;34m,\u001b[0m\u001b[0;34m\u001b[0m\u001b[0m\n\u001b[1;32m     13\u001b[0m     \u001b[0;34m'valid_dataset'\u001b[0m\u001b[0;34m:\u001b[0m \u001b[0mvalid_dataset\u001b[0m\u001b[0;34m,\u001b[0m\u001b[0;34m\u001b[0m\u001b[0m\n",
      "\u001b[0;31mNameError\u001b[0m: name 'train_dataset' is not defined"
     ]
    }
   ],
   "source": [
    "if not 'running_with_paperspace' in globals():\n",
    "  running_with_paperspace = False\n",
    "if not running_with_paperspace:\n",
    "  pickle_file = os.path.join('sounds/', 'whistle_sounds.pickle')\n",
    "else:\n",
    "  pickle_file = os.path.join('/home/paperspace/Dropbox/notebook/sounds/', 'sounds_paperspace.pickle')\n",
    "\n",
    "try:\n",
    "  f = open(pickle_file, 'wb')\n",
    "  save = {\n",
    "    'train_dataset': train_dataset,\n",
    "    'train_labels': train_labels,\n",
    "    'valid_dataset': valid_dataset,\n",
    "    'valid_labels': valid_labels,\n",
    "    'test_dataset': test_dataset,\n",
    "    'test_labels': test_labels,\n",
    "    }\n",
    "  pickle.dump(save, f, pickle.HIGHEST_PROTOCOL)\n",
    "  f.close()\n",
    "except Exception as e:\n",
    "  print('Unable to save data to', pickle_file, ':', e)\n",
    "  raise"
   ]
  },
  {
   "cell_type": "code",
   "execution_count": 51,
   "metadata": {},
   "outputs": [
    {
     "name": "stdout",
     "output_type": "stream",
     "text": [
      "Compressed pickle size: 4.046902656555176\n"
     ]
    }
   ],
   "source": [
    "statinfo = os.stat(pickle_file)\n",
    "print('Compressed pickle size:', statinfo.st_size/(1024*1024))"
   ]
  },
  {
   "cell_type": "markdown",
   "metadata": {},
   "source": [
    "### Load from pickle file"
   ]
  },
  {
   "cell_type": "code",
   "execution_count": 6,
   "metadata": {},
   "outputs": [
    {
     "name": "stdout",
     "output_type": "stream",
     "text": [
      "Training set (369, 33, 70, 1) (369,)\n",
      "Validation set (45, 33, 70, 1) (45,)\n",
      "Test set (45, 33, 70, 1) (45,)\n"
     ]
    }
   ],
   "source": [
    "if not 'running_with_paperspace' in globals():\n",
    "    running_with_paperspace = False\n",
    "if not running_with_paperspace:\n",
    "  pickle_file = os.path.join('sounds/', 'whistle_sounds.pickle')\n",
    "else:\n",
    "  pickle_file = os.path.join('/home/paperspace/Dropbox/notebook/sounds/', 'sounds_paperspace.pickle')\n",
    "\n",
    "\n",
    "with open(pickle_file, 'rb') as f:\n",
    "  save = pickle.load(f)\n",
    "  train_dataset = save['train_dataset']\n",
    "  train_labels = save['train_labels']\n",
    "  valid_dataset = save['valid_dataset']\n",
    "  valid_labels = save['valid_labels']\n",
    "  test_dataset = save['test_dataset']\n",
    "  test_labels = save['test_labels']\n",
    "  del save  # hint to help gc free up memory\n",
    "  print('Training set', train_dataset.shape, train_labels.shape)\n",
    "  print('Validation set', valid_dataset.shape, valid_labels.shape)\n",
    "  print('Test set', test_dataset.shape, test_labels.shape)\n",
    "\n",
    "image_height = train_dataset.shape[1] # frequency dimension\n",
    "image_width = train_dataset.shape[2] # time dimension\n",
    "train_size = train_dataset.shape[0] - test_dataset.shape[0]\n",
    "valid_size = test_dataset.shape[0]\n",
    "test_size = test_dataset.shape[0]\n",
    "ch = 1\n",
    "num_labels = 3"
   ]
  },
  {
   "cell_type": "code",
   "execution_count": 29,
   "metadata": {},
   "outputs": [
    {
     "name": "stdout",
     "output_type": "stream",
     "text": [
      "label of index i = [ 0.  0.  1.]\n"
     ]
    },
    {
     "data": {
      "image/png": "[encoded data removed]",
      "text/plain": [
       "<matplotlib.figure.Figure at 0x1277e0320>"
      ]
     },
     "metadata": {},
     "output_type": "display_data"
    }
   ],
   "source": [
    "i = 50\n",
    "img = train_dataset[i,:,:,0]\n",
    "print('label of index i = %s'%str(train_labels[i]))\n",
    "plt.imshow(img)\n",
    "plt.show()"
   ]
  },
  {
   "cell_type": "markdown",
   "metadata": {},
   "source": [
    "# Train CNN\n",
    "Feed the processed sounds data to CNN\n",
    "\n",
    "Reformat into a TensorFlow-friendly shape:\n",
    "- convolutions need the image data formatted as a cube (width by height by #channels)\n",
    "- labels as float 1-hot encodings."
   ]
  },
  {
   "cell_type": "markdown",
   "metadata": {},
   "source": [
    "## Prepare for feeding\n",
    "### Verify shapes"
   ]
  },
  {
   "cell_type": "code",
   "execution_count": 27,
   "metadata": {},
   "outputs": [
    {
     "name": "stdout",
     "output_type": "stream",
     "text": [
      "image_height = 33\n",
      "image_width = 70\n",
      "num_channels = 1\n",
      "num_labels = 3\n",
      "train_dataset shape = (369, 33, 70, 1)\n",
      "valid_dataset shape = (45, 33, 70, 1)\n",
      "test_dataset shape = (45, 33, 70, 1)\n"
     ]
    }
   ],
   "source": [
    "print('image_height = %s'%image_height)\n",
    "print('image_width = %s'%image_width)\n",
    "print('num_channels = %s'%ch)\n",
    "print('num_labels = %s'%num_labels)\n",
    "print('train_dataset shape = %s'%str(train_dataset.shape))\n",
    "print('valid_dataset shape = %s'%str(valid_dataset.shape))\n",
    "print('test_dataset shape = %s'%str(test_dataset.shape))"
   ]
  },
  {
   "cell_type": "markdown",
   "metadata": {},
   "source": [
    "### 1-hot encoding & Reformat\n",
    "add the channel dimension to the data (only when channel is notadded in the previous steps)"
   ]
  },
  {
   "cell_type": "code",
   "execution_count": 28,
   "metadata": {},
   "outputs": [
    {
     "name": "stdout",
     "output_type": "stream",
     "text": [
      "Training set (369, 33, 70, 1) (369, 3)\n",
      "Validation set (45, 33, 70, 1) (45, 3)\n",
      "Test set (45, 33, 70, 1) (45, 3)\n"
     ]
    }
   ],
   "source": [
    "num_channels = ch\n",
    "add_channel = False\n",
    "def reformat(dataset, labels):\n",
    "  if add_channel:\n",
    "      dataset = dataset.reshape(\n",
    "        (-1, image_height, image_width, num_channels)).astype(np.float32)\n",
    "  labels = (np.arange(num_labels) == labels[:,None]).astype(np.float32)\n",
    "  return dataset, labels\n",
    "train_dataset, train_labels = reformat(train_dataset, train_labels)\n",
    "valid_dataset, valid_labels = reformat(valid_dataset, valid_labels)\n",
    "test_dataset, test_labels = reformat(test_dataset, test_labels)\n",
    "print('Training set', train_dataset.shape, train_labels.shape)\n",
    "print('Validation set', valid_dataset.shape, valid_labels.shape)\n",
    "print('Test set', test_dataset.shape, test_labels.shape)"
   ]
  },
  {
   "cell_type": "markdown",
   "metadata": {},
   "source": [
    "### Accuracy function"
   ]
  },
  {
   "cell_type": "code",
   "execution_count": 30,
   "metadata": {
    "collapsed": true
   },
   "outputs": [],
   "source": [
    "def accuracy(predictions, labels):\n",
    "  return (100.0 * np.sum(np.argmax(predictions, 1) == np.argmax(labels, 1))\n",
    "          / predictions.shape[0])"
   ]
  },
  {
   "cell_type": "markdown",
   "metadata": {},
   "source": [
    "## Model from scratch (Old)\n",
    "### Create Graph "
   ]
  },
  {
   "cell_type": "code",
   "execution_count": 33,
   "metadata": {
    "collapsed": true
   },
   "outputs": [],
   "source": [
    "batch_size = 16\n",
    "patch_size = 5\n",
    "depth = 16\n",
    "num_hidden = 64\n",
    "num_channels = 1\n",
    "keep_prob = 0.8\n",
    "\n",
    "graph = tf.Graph()\n",
    "\n",
    "with graph.as_default():\n",
    "\n",
    "  # Input data.\n",
    "  tf_train_dataset = tf.placeholder(\n",
    "    tf.float32, shape=(batch_size, image_height, image_width, num_channels))\n",
    "  tf_train_labels = tf.placeholder(tf.float32, shape=(batch_size, num_labels))\n",
    "  tf_valid_dataset = tf.constant(valid_dataset)\n",
    "  tf_test_dataset = tf.constant(test_dataset)\n",
    "  \n",
    "  # Variables.\n",
    "  # conv layer weights are [filter_height, filter_width, in_channels, out_channels]\n",
    "  layer1_weights = tf.Variable(tf.truncated_normal(\n",
    "      [patch_size, patch_size, num_channels, depth], stddev=0.1))\n",
    "  layer1_biases = tf.Variable(tf.zeros([depth]))\n",
    "  layer2_weights = tf.Variable(tf.truncated_normal(\n",
    "      [patch_size, patch_size, depth, depth], stddev=0.1))\n",
    "  layer2_biases = tf.Variable(tf.constant(1.0, shape=[depth]))\n",
    "  layer3_weights = tf.Variable(tf.truncated_normal(\n",
    "      [((image_height-1) // 4 + 1) * ((image_width-1) // 4 + 1) * depth, num_hidden], stddev=0.1))\n",
    "  layer3_biases = tf.Variable(tf.constant(1.0, shape=[num_hidden]))\n",
    "  layer4_weights = tf.Variable(tf.truncated_normal(\n",
    "      [num_hidden, num_labels], stddev=0.1))\n",
    "  layer4_biases = tf.Variable(tf.constant(1.0, shape=[num_labels]))\n",
    "  \n",
    "  # Model.\n",
    "  def model(data, dropout=False):\n",
    "    conv = tf.nn.conv2d(data, layer1_weights, [1, 2, 2, 1], padding='SAME')\n",
    "    hidden = tf.nn.relu(conv + layer1_biases)\n",
    "    conv = tf.nn.conv2d(hidden, layer2_weights, [1, 2, 2, 1], padding='SAME')\n",
    "    hidden = tf.nn.relu(conv + layer2_biases)\n",
    "    shape = hidden.get_shape().as_list()\n",
    "    reshape = tf.reshape(hidden, [shape[0], shape[1] * shape[2] * shape[3]])\n",
    "    hidden = tf.nn.relu(tf.matmul(reshape, layer3_weights) + layer3_biases)\n",
    "    hidden = tf.matmul(hidden, layer4_weights) + layer4_biases\n",
    "    return tf.nn.dropout(hidden, keep_prob)\n",
    "  \n",
    "  # Training computation.\n",
    "  logits = model(tf_train_dataset)\n",
    "  loss = tf.reduce_mean(\n",
    "    tf.nn.softmax_cross_entropy_with_logits(labels=tf_train_labels, logits=logits))\n",
    "    \n",
    "  # Optimizer.\n",
    "  optimizer = tf.train.GradientDescentOptimizer(0.05).minimize(loss)\n",
    "  \n",
    "  # Predictions for the training, validation, and test data.\n",
    "  train_prediction = tf.nn.softmax(logits, True)\n",
    "  valid_prediction = tf.nn.softmax(model(tf_valid_dataset))\n",
    "  test_prediction = tf.nn.softmax(model(tf_test_dataset))"
   ]
  },
  {
   "cell_type": "markdown",
   "metadata": {},
   "source": [
    "### Train Model"
   ]
  },
  {
   "cell_type": "code",
   "execution_count": 34,
   "metadata": {},
   "outputs": [
    {
     "name": "stdout",
     "output_type": "stream",
     "text": [
      "Initialized\n",
      "Minibatch loss at step 0: 43.584435\n",
      "Minibatch accuracy: 37.5%\n",
      "Validation accuracy: 31.1%\n",
      "Minibatch loss at step 50: nan\n",
      "Minibatch accuracy: 18.8%\n",
      "Validation accuracy: 33.3%\n",
      "Minibatch loss at step 100: nan\n",
      "Minibatch accuracy: 25.0%\n",
      "Validation accuracy: 33.3%\n",
      "Minibatch loss at step 150: nan\n",
      "Minibatch accuracy: 37.5%\n",
      "Validation accuracy: 33.3%\n",
      "Minibatch loss at step 200: nan\n",
      "Minibatch accuracy: 25.0%\n",
      "Validation accuracy: 33.3%\n",
      "Minibatch loss at step 250: nan\n",
      "Minibatch accuracy: 25.0%\n",
      "Validation accuracy: 33.3%\n",
      "Minibatch loss at step 300: nan\n",
      "Minibatch accuracy: 31.2%\n",
      "Validation accuracy: 33.3%\n",
      "Minibatch loss at step 350: nan\n",
      "Minibatch accuracy: 18.8%\n",
      "Validation accuracy: 33.3%\n",
      "Minibatch loss at step 400: nan\n",
      "Minibatch accuracy: 50.0%\n",
      "Validation accuracy: 33.3%\n",
      "Minibatch loss at step 450: nan\n",
      "Minibatch accuracy: 50.0%\n",
      "Validation accuracy: 33.3%\n",
      "Minibatch loss at step 500: nan\n",
      "Minibatch accuracy: 37.5%\n",
      "Validation accuracy: 33.3%\n",
      "Minibatch loss at step 550: nan\n",
      "Minibatch accuracy: 50.0%\n",
      "Validation accuracy: 33.3%\n",
      "Minibatch loss at step 600: nan\n",
      "Minibatch accuracy: 31.2%\n",
      "Validation accuracy: 33.3%\n",
      "Minibatch loss at step 650: nan\n",
      "Minibatch accuracy: 25.0%\n",
      "Validation accuracy: 33.3%\n",
      "Minibatch loss at step 700: nan\n",
      "Minibatch accuracy: 25.0%\n",
      "Validation accuracy: 33.3%\n",
      "Minibatch loss at step 750: nan\n",
      "Minibatch accuracy: 43.8%\n",
      "Validation accuracy: 33.3%\n",
      "Minibatch loss at step 800: nan\n",
      "Minibatch accuracy: 18.8%\n",
      "Validation accuracy: 33.3%\n",
      "Minibatch loss at step 850: nan\n",
      "Minibatch accuracy: 25.0%\n",
      "Validation accuracy: 33.3%\n",
      "Minibatch loss at step 900: nan\n",
      "Minibatch accuracy: 37.5%\n",
      "Validation accuracy: 33.3%\n",
      "Minibatch loss at step 950: nan\n",
      "Minibatch accuracy: 25.0%\n",
      "Validation accuracy: 33.3%\n",
      "Minibatch loss at step 1000: nan\n",
      "Minibatch accuracy: 25.0%\n",
      "Validation accuracy: 33.3%\n",
      "Test accuracy: 33.3%\n"
     ]
    }
   ],
   "source": [
    "num_steps = 1001\n",
    "\n",
    "with tf.Session(graph=graph) as session:\n",
    "  tf.global_variables_initializer().run()\n",
    "  print('Initialized')\n",
    "  for step in range(num_steps):\n",
    "    offset = (step * batch_size) % (train_labels.shape[0] - batch_size)\n",
    "    batch_data = train_dataset[offset:(offset + batch_size), :, :, :]\n",
    "    batch_labels = train_labels[offset:(offset + batch_size), :]\n",
    "    feed_dict = {tf_train_dataset : batch_data, tf_train_labels : batch_labels}\n",
    "    _, l, predictions = session.run(\n",
    "      [optimizer, loss, train_prediction], feed_dict=feed_dict)\n",
    "    if (step % 50 == 0):\n",
    "      print('Minibatch loss at step %d: %f' % (step, l))\n",
    "      print('Minibatch accuracy: %.1f%%' % accuracy(predictions, batch_labels))\n",
    "      print('Validation accuracy: %.1f%%' % accuracy(\n",
    "        valid_prediction.eval(), valid_labels))\n",
    "  print('Test accuracy: %.1f%%' % accuracy(test_prediction.eval(), test_labels))"
   ]
  },
  {
   "cell_type": "markdown",
   "metadata": {
    "collapsed": true
   },
   "source": [
    "Training set (88, 224, 341, 1) (88, 9)\n",
    "\n",
    "Validation set (9, 224, 341, 1) (9, 9)\n",
    "\n",
    "Test set (9, 224, 341, 1) (9, 9)## Pretrained weights"
   ]
  },
  {
   "cell_type": "markdown",
   "metadata": {},
   "source": [
    "## Model with pretrained weights"
   ]
  },
  {
   "cell_type": "code",
   "execution_count": 55,
   "metadata": {
    "collapsed": true
   },
   "outputs": [],
   "source": [
    "from tensorflow.contrib.keras import models\n",
    "from tensorflow.contrib.keras import layers\n",
    "from tensorflow.contrib.keras import applications\n",
    "from tensorflow.contrib.keras import preprocessing"
   ]
  },
  {
   "cell_type": "code",
   "execution_count": 56,
   "metadata": {
    "collapsed": true
   },
   "outputs": [],
   "source": [
    "num_labels = 3"
   ]
  },
  {
   "cell_type": "code",
   "execution_count": 57,
   "metadata": {},
   "outputs": [
    {
     "name": "stdout",
     "output_type": "stream",
     "text": [
      "[2 2 1 2 1 2 0 2 0 0 0 1 0 1 2 0 2 1 2 1 0 0 1 0 2 0 1 2 1 1 1 0 2 1 2 2 1\n",
      " 1 0 0 2 0 0 0 1 2 2 0 2 2 2 1 2 0 0 0 1 0 1 0 0 0 0 1 2 1 0 2 0 0 1 2 2 0\n",
      " 2 2 0 1 1 2 0 2 2 0 1 1 2 1 2 2 0 0 2 1 2 1 2 0 1 1 0 1 0 2 2 2 2 2 1 2 0\n",
      " 0 2 1 1 0 1 1 2 1 2 1 0 1 2 1 2 0 0 1 1 0 1 0 2 1 0 0 2 1 1 1 1 0 0 2 1 1\n",
      " 0 0 0 0 1 0 0 2 0 1 0 1 0 1 2 1 1 1 0 2 1 2 2 1 0 2 1 1 0 0 1 2 0 1 2 2 2\n",
      " 2 2 1 1 0 2 0 1 1 0 0 1 2 2 1 2 2 1 1 1 2 0 2 0 2 2 1 2 1 0 1 0 0 1 1 0 2\n",
      " 1 1 1 0 2 0 2 0 2 0 0 2 2 1 0 1 1 0 1 1 2 0 0 0 2 0 2 2 2 2 0 2 1 0 0 1 2\n",
      " 2 1 1 0 2 1 1 0 1 2 0 1 1 0 0 0 1 2 2 2 1 1 1 0 0 2 0 2 1 2 0 0 2 2 0 1 2\n",
      " 2 2 0 2 2 2 2 1 2 1 2 0 0 1 1 2 2 1 2 1 1 2 1 1 0 1 1 1 2 2 1 0 1 1 0 0 2\n",
      " 1 2 2 0 1 0 2 0 0 0 0 0 0 2 2 2 1 0 2 1 0 2 0 0 0 2 1 0 0 1 0 2 2 1 0 1]\n"
     ]
    }
   ],
   "source": [
    "# standard keras nomenclature of data\n",
    "x_train = train_dataset\n",
    "y_train = train_labels\n",
    "x_test = test_dataset\n",
    "y_test = test_labels\n",
    "# convert labels to one hot encoding\n",
    "print(y_train)\n",
    "y_train = keras.utils.to_categorical(y_train, num_labels)\n",
    "y_test = keras.utils.to_categorical(y_test, num_labels)\n"
   ]
  },
  {
   "cell_type": "code",
   "execution_count": 58,
   "metadata": {},
   "outputs": [
    {
     "name": "stdout",
     "output_type": "stream",
     "text": [
      "_________________________________________________________________\n",
      "Layer (type)                 Output Shape              Param #   \n",
      "=================================================================\n",
      "input_1 (InputLayer)         (None, None, None, 3)     0         \n",
      "_________________________________________________________________\n",
      "block1_conv1 (Conv2D)        (None, None, None, 64)    1792      \n",
      "_________________________________________________________________\n",
      "block1_conv2 (Conv2D)        (None, None, None, 64)    36928     \n",
      "_________________________________________________________________\n",
      "block1_pool (MaxPooling2D)   (None, None, None, 64)    0         \n",
      "_________________________________________________________________\n",
      "block2_conv1 (Conv2D)        (None, None, None, 128)   73856     \n",
      "_________________________________________________________________\n",
      "block2_conv2 (Conv2D)        (None, None, None, 128)   147584    \n",
      "_________________________________________________________________\n",
      "block2_pool (MaxPooling2D)   (None, None, None, 128)   0         \n",
      "_________________________________________________________________\n",
      "block3_conv1 (Conv2D)        (None, None, None, 256)   295168    \n",
      "_________________________________________________________________\n",
      "block3_conv2 (Conv2D)        (None, None, None, 256)   590080    \n",
      "_________________________________________________________________\n",
      "block3_conv3 (Conv2D)        (None, None, None, 256)   590080    \n",
      "_________________________________________________________________\n",
      "block3_pool (MaxPooling2D)   (None, None, None, 256)   0         \n",
      "_________________________________________________________________\n",
      "block4_conv1 (Conv2D)        (None, None, None, 512)   1180160   \n",
      "_________________________________________________________________\n",
      "block4_conv2 (Conv2D)        (None, None, None, 512)   2359808   \n",
      "_________________________________________________________________\n",
      "block4_conv3 (Conv2D)        (None, None, None, 512)   2359808   \n",
      "_________________________________________________________________\n",
      "block4_pool (MaxPooling2D)   (None, None, None, 512)   0         \n",
      "_________________________________________________________________\n",
      "block5_conv1 (Conv2D)        (None, None, None, 512)   2359808   \n",
      "_________________________________________________________________\n",
      "block5_conv2 (Conv2D)        (None, None, None, 512)   2359808   \n",
      "_________________________________________________________________\n",
      "block5_conv3 (Conv2D)        (None, None, None, 512)   2359808   \n",
      "_________________________________________________________________\n",
      "block5_pool (MaxPooling2D)   (None, None, None, 512)   0         \n",
      "=================================================================\n",
      "Total params: 14,714,688\n",
      "Trainable params: 0\n",
      "Non-trainable params: 14,714,688\n",
      "_________________________________________________________________\n",
      "input shape = 33,70,1\n"
     ]
    },
    {
     "ename": "ValueError",
     "evalue": "number of input channels does not match corresponding dimension of filter, 1 != 3",
     "output_type": "error",
     "traceback": [
      "\u001b[0;31m---------------------------------------------------------------------------\u001b[0m",
      "\u001b[0;31mValueError\u001b[0m                                Traceback (most recent call last)",
      "\u001b[0;32m<ipython-input-58-c8bcd2e2a4df>\u001b[0m in \u001b[0;36m<module>\u001b[0;34m()\u001b[0m\n\u001b[1;32m     12\u001b[0m \u001b[0;34m\u001b[0m\u001b[0m\n\u001b[1;32m     13\u001b[0m \u001b[0;31m#Use the generated model\u001b[0m\u001b[0;34m\u001b[0m\u001b[0;34m\u001b[0m\u001b[0m\n\u001b[0;32m---> 14\u001b[0;31m \u001b[0moutput_vgg16_conv\u001b[0m \u001b[0;34m=\u001b[0m \u001b[0mmodel_vgg16_conv\u001b[0m\u001b[0;34m(\u001b[0m\u001b[0minput\u001b[0m\u001b[0;34m)\u001b[0m\u001b[0;34m\u001b[0m\u001b[0m\n\u001b[0m\u001b[1;32m     15\u001b[0m \u001b[0;34m\u001b[0m\u001b[0m\n\u001b[1;32m     16\u001b[0m \u001b[0;31m#Add the fully-connected layers\u001b[0m\u001b[0;34m\u001b[0m\u001b[0;34m\u001b[0m\u001b[0m\n",
      "\u001b[0;32m/Users/gundeepsingh/Applications/anaconda3/envs/opencvtest/lib/python3.5/site-packages/tensorflow/contrib/keras/python/keras/engine/topology.py\u001b[0m in \u001b[0;36m__call__\u001b[0;34m(self, inputs, **kwargs)\u001b[0m\n\u001b[1;32m    394\u001b[0m \u001b[0;34m\u001b[0m\u001b[0m\n\u001b[1;32m    395\u001b[0m     \u001b[0;31m# Actually call the layer (optionally building it).\u001b[0m\u001b[0;34m\u001b[0m\u001b[0;34m\u001b[0m\u001b[0m\n\u001b[0;32m--> 396\u001b[0;31m     \u001b[0moutput\u001b[0m \u001b[0;34m=\u001b[0m \u001b[0msuper\u001b[0m\u001b[0;34m(\u001b[0m\u001b[0mLayer\u001b[0m\u001b[0;34m,\u001b[0m \u001b[0mself\u001b[0m\u001b[0;34m)\u001b[0m\u001b[0;34m.\u001b[0m\u001b[0m__call__\u001b[0m\u001b[0;34m(\u001b[0m\u001b[0minputs\u001b[0m\u001b[0;34m,\u001b[0m \u001b[0;34m**\u001b[0m\u001b[0mkwargs\u001b[0m\u001b[0;34m)\u001b[0m\u001b[0;34m\u001b[0m\u001b[0m\n\u001b[0m\u001b[1;32m    397\u001b[0m \u001b[0;34m\u001b[0m\u001b[0m\n\u001b[1;32m    398\u001b[0m     \u001b[0;31m# Handle mask computation.\u001b[0m\u001b[0;34m\u001b[0m\u001b[0;34m\u001b[0m\u001b[0m\n",
      "\u001b[0;32m/Users/gundeepsingh/Applications/anaconda3/envs/opencvtest/lib/python3.5/site-packages/tensorflow/python/layers/base.py\u001b[0m in \u001b[0;36m__call__\u001b[0;34m(self, inputs, *args, **kwargs)\u001b[0m\n\u001b[1;32m    448\u001b[0m         \u001b[0;31m# Check input assumptions set after layer building, e.g. input shape.\u001b[0m\u001b[0;34m\u001b[0m\u001b[0;34m\u001b[0m\u001b[0m\n\u001b[1;32m    449\u001b[0m         \u001b[0mself\u001b[0m\u001b[0;34m.\u001b[0m\u001b[0m_assert_input_compatibility\u001b[0m\u001b[0;34m(\u001b[0m\u001b[0minputs\u001b[0m\u001b[0;34m)\u001b[0m\u001b[0;34m\u001b[0m\u001b[0m\n\u001b[0;32m--> 450\u001b[0;31m         \u001b[0moutputs\u001b[0m \u001b[0;34m=\u001b[0m \u001b[0mself\u001b[0m\u001b[0;34m.\u001b[0m\u001b[0mcall\u001b[0m\u001b[0;34m(\u001b[0m\u001b[0minputs\u001b[0m\u001b[0;34m,\u001b[0m \u001b[0;34m*\u001b[0m\u001b[0margs\u001b[0m\u001b[0;34m,\u001b[0m \u001b[0;34m**\u001b[0m\u001b[0mkwargs\u001b[0m\u001b[0;34m)\u001b[0m\u001b[0;34m\u001b[0m\u001b[0m\n\u001b[0m\u001b[1;32m    451\u001b[0m \u001b[0;34m\u001b[0m\u001b[0m\n\u001b[1;32m    452\u001b[0m         \u001b[0;31m# Apply activity regularization.\u001b[0m\u001b[0;34m\u001b[0m\u001b[0;34m\u001b[0m\u001b[0m\n",
      "\u001b[0;32m/Users/gundeepsingh/Applications/anaconda3/envs/opencvtest/lib/python3.5/site-packages/tensorflow/contrib/keras/python/keras/engine/topology.py\u001b[0m in \u001b[0;36mcall\u001b[0;34m(self, inputs, mask)\u001b[0m\n\u001b[1;32m   1740\u001b[0m       \u001b[0;32mreturn\u001b[0m \u001b[0mself\u001b[0m\u001b[0;34m.\u001b[0m\u001b[0m_output_tensor_cache\u001b[0m\u001b[0;34m[\u001b[0m\u001b[0mcache_key\u001b[0m\u001b[0;34m]\u001b[0m\u001b[0;34m\u001b[0m\u001b[0m\n\u001b[1;32m   1741\u001b[0m     \u001b[0;32melse\u001b[0m\u001b[0;34m:\u001b[0m\u001b[0;34m\u001b[0m\u001b[0m\n\u001b[0;32m-> 1742\u001b[0;31m       \u001b[0moutput_tensors\u001b[0m\u001b[0;34m,\u001b[0m \u001b[0m_\u001b[0m\u001b[0;34m,\u001b[0m \u001b[0m_\u001b[0m \u001b[0;34m=\u001b[0m \u001b[0mself\u001b[0m\u001b[0;34m.\u001b[0m\u001b[0mrun_internal_graph\u001b[0m\u001b[0;34m(\u001b[0m\u001b[0minputs\u001b[0m\u001b[0;34m,\u001b[0m \u001b[0mmasks\u001b[0m\u001b[0;34m)\u001b[0m\u001b[0;34m\u001b[0m\u001b[0m\n\u001b[0m\u001b[1;32m   1743\u001b[0m       \u001b[0;32mreturn\u001b[0m \u001b[0moutput_tensors\u001b[0m\u001b[0;34m\u001b[0m\u001b[0m\n\u001b[1;32m   1744\u001b[0m \u001b[0;34m\u001b[0m\u001b[0m\n",
      "\u001b[0;32m/Users/gundeepsingh/Applications/anaconda3/envs/opencvtest/lib/python3.5/site-packages/tensorflow/contrib/keras/python/keras/engine/topology.py\u001b[0m in \u001b[0;36mrun_internal_graph\u001b[0;34m(self, inputs, masks)\u001b[0m\n\u001b[1;32m   1920\u001b[0m                 \u001b[0;32mif\u001b[0m \u001b[0;34m'mask'\u001b[0m \u001b[0;32mnot\u001b[0m \u001b[0;32min\u001b[0m \u001b[0mkwargs\u001b[0m\u001b[0;34m:\u001b[0m\u001b[0;34m\u001b[0m\u001b[0m\n\u001b[1;32m   1921\u001b[0m                   \u001b[0mkwargs\u001b[0m\u001b[0;34m[\u001b[0m\u001b[0;34m'mask'\u001b[0m\u001b[0;34m]\u001b[0m \u001b[0;34m=\u001b[0m \u001b[0mcomputed_mask\u001b[0m\u001b[0;34m\u001b[0m\u001b[0m\n\u001b[0;32m-> 1922\u001b[0;31m               \u001b[0moutput_tensors\u001b[0m \u001b[0;34m=\u001b[0m \u001b[0m_to_list\u001b[0m\u001b[0;34m(\u001b[0m\u001b[0mlayer\u001b[0m\u001b[0;34m.\u001b[0m\u001b[0mcall\u001b[0m\u001b[0;34m(\u001b[0m\u001b[0mcomputed_tensor\u001b[0m\u001b[0;34m,\u001b[0m \u001b[0;34m**\u001b[0m\u001b[0mkwargs\u001b[0m\u001b[0;34m)\u001b[0m\u001b[0;34m)\u001b[0m\u001b[0;34m\u001b[0m\u001b[0m\n\u001b[0m\u001b[1;32m   1923\u001b[0m               output_masks = _to_list(\n\u001b[1;32m   1924\u001b[0m                   layer.compute_mask(computed_tensor, computed_mask))\n",
      "\u001b[0;32m/Users/gundeepsingh/Applications/anaconda3/envs/opencvtest/lib/python3.5/site-packages/tensorflow/python/layers/convolutional.py\u001b[0m in \u001b[0;36mcall\u001b[0;34m(self, inputs)\u001b[0m\n\u001b[1;32m    156\u001b[0m         \u001b[0mstrides\u001b[0m\u001b[0;34m=\u001b[0m\u001b[0mself\u001b[0m\u001b[0;34m.\u001b[0m\u001b[0mstrides\u001b[0m\u001b[0;34m,\u001b[0m\u001b[0;34m\u001b[0m\u001b[0m\n\u001b[1;32m    157\u001b[0m         \u001b[0mpadding\u001b[0m\u001b[0;34m=\u001b[0m\u001b[0mself\u001b[0m\u001b[0;34m.\u001b[0m\u001b[0mpadding\u001b[0m\u001b[0;34m.\u001b[0m\u001b[0mupper\u001b[0m\u001b[0;34m(\u001b[0m\u001b[0;34m)\u001b[0m\u001b[0;34m,\u001b[0m\u001b[0;34m\u001b[0m\u001b[0m\n\u001b[0;32m--> 158\u001b[0;31m         data_format=utils.convert_data_format(self.data_format, self.rank + 2))\n\u001b[0m\u001b[1;32m    159\u001b[0m \u001b[0;34m\u001b[0m\u001b[0m\n\u001b[1;32m    160\u001b[0m     \u001b[0;32mif\u001b[0m \u001b[0mself\u001b[0m\u001b[0;34m.\u001b[0m\u001b[0mbias\u001b[0m \u001b[0;32mis\u001b[0m \u001b[0;32mnot\u001b[0m \u001b[0;32mNone\u001b[0m\u001b[0;34m:\u001b[0m\u001b[0;34m\u001b[0m\u001b[0m\n",
      "\u001b[0;32m/Users/gundeepsingh/Applications/anaconda3/envs/opencvtest/lib/python3.5/site-packages/tensorflow/python/ops/nn_ops.py\u001b[0m in \u001b[0;36mconvolution\u001b[0;34m(input, filter, padding, strides, dilation_rate, name, data_format)\u001b[0m\n\u001b[1;32m    650\u001b[0m           \u001b[0;34m\"number of input channels does not match corresponding dimension of filter, \"\u001b[0m\u001b[0;34m\u001b[0m\u001b[0m\n\u001b[1;32m    651\u001b[0m           \"{} != {}\".format(input_channels_dim, filter.get_shape()[\n\u001b[0;32m--> 652\u001b[0;31m               num_spatial_dims]))\n\u001b[0m\u001b[1;32m    653\u001b[0m \u001b[0;34m\u001b[0m\u001b[0m\n\u001b[1;32m    654\u001b[0m     strides, dilation_rate = _get_strides_and_dilation_rate(\n",
      "\u001b[0;31mValueError\u001b[0m: number of input channels does not match corresponding dimension of filter, 1 != 3"
     ]
    }
   ],
   "source": [
    "batch_size = 6\n",
    "nb_epoch = 10\n",
    "\n",
    "#Get back the convolutional part of a VGG network trained on ImageNet\n",
    "model_vgg16_conv = applications.vgg16.VGG16(weights='imagenet', include_top=False)\n",
    "model_vgg16_conv.trainable = False\n",
    "model_vgg16_conv.summary()\n",
    "\n",
    "#Create your own input format (here 3x200x200)\n",
    "print('input shape = %s,%s,%s'%(image_height,image_width,ch))\n",
    "input = layers.Input(shape=(image_height,image_width,ch),name = 'image_input')\n",
    "\n",
    "#Use the generated model \n",
    "output_vgg16_conv = model_vgg16_conv(input)\n",
    "\n",
    "#Add the fully-connected layers \n",
    "x = layers.Flatten(name='flatten')(output_vgg16_conv)\n",
    "x = layers.Dense(4096, activation='relu', name='fc1')(x)\n",
    "x = layers.Dense(4096, activation='relu', name='fc2')(x)\n",
    "x = layers.Dense(num_labels, activation='softmax', name='predictions')(x)\n",
    "\n",
    "#Create your own model \n",
    "my_model = models.Model(inputs=input, outputs=x)\n",
    "\n",
    "#In the summary, weights and layers from VGG part will be hidden, but they will be fit during the training\n",
    "my_model.summary()\n",
    "\n",
    "#Then training with your data ! \n",
    "my_model.compile(loss='categorical_crossentropy', optimizer='adadelta', metrics=['accuracy'])\n",
    "my_model.fit(x_train, y_train, batch_size=batch_size, epochs=nb_epoch, verbose=1, \n",
    "            validation_data=(x_test, y_test))\n"
   ]
  },
  {
   "cell_type": "markdown",
   "metadata": {
    "collapsed": true
   },
   "source": [
    "## Recreate the dude's model"
   ]
  },
  {
   "cell_type": "code",
   "execution_count": null,
   "metadata": {
    "collapsed": true
   },
   "outputs": [],
   "source": []
  }
 ],
 "metadata": {
  "kernelspec": {
   "display_name": "Python [default]",
   "language": "python",
   "name": "python3"
  },
  "language_info": {
   "codemirror_mode": {
    "name": "ipython",
    "version": 3
   },
   "file_extension": ".py",
   "mimetype": "text/x-python",
   "name": "python",
   "nbconvert_exporter": "python",
   "pygments_lexer": "ipython3",
   "version": "3.5.3"
  },
  "toc": {
   "colors": {
    "hover_highlight": "#DAA520",
    "navigate_num": "#000000",
    "navigate_text": "#333333",
    "running_highlight": "#FF0000",
    "selected_highlight": "#FFD700",
    "sidebar_border": "#EEEEEE",
    "wrapper_background": "#FFFFFF"
   },
   "moveMenuLeft": true,
   "nav_menu": {
    "height": "213px",
    "width": "401px"
   },
   "navigate_menu": true,
   "number_sections": true,
   "sideBar": true,
   "threshold": 4,
   "toc_cell": false,
   "toc_position": {
    "height": "581px",
    "left": "0px",
    "right": "1115px",
    "top": "107px",
    "width": "248px"
   },
   "toc_section_display": "block",
   "toc_window_display": true,
   "widenNotebook": false
  }
 },
 "nbformat": 4,
 "nbformat_minor": 2
}
