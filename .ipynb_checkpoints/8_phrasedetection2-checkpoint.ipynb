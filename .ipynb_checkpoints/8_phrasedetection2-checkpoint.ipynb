{
 "cells": [
  {
   "cell_type": "markdown",
   "metadata": {
    "toc": "true"
   },
   "source": [
    "# Table of Contents\n",
    " <p><div class=\"lev1 toc-item\"><a href=\"#Init-notebook\" data-toc-modified-id=\"Init-notebook-1\"><span class=\"toc-item-num\">1&nbsp;&nbsp;</span>Init notebook</a></div><div class=\"lev2 toc-item\"><a href=\"#Imports\" data-toc-modified-id=\"Imports-11\"><span class=\"toc-item-num\">1.1&nbsp;&nbsp;</span>Imports</a></div><div class=\"lev2 toc-item\"><a href=\"#Rec\" data-toc-modified-id=\"Rec-12\"><span class=\"toc-item-num\">1.2&nbsp;&nbsp;</span>Rec</a></div><div class=\"lev2 toc-item\"><a href=\"#Wav-to-features-function\" data-toc-modified-id=\"Wav-to-features-function-13\"><span class=\"toc-item-num\">1.3&nbsp;&nbsp;</span>Wav to features function</a></div><div class=\"lev3 toc-item\"><a href=\"#Extract-features-from-wav-file\" data-toc-modified-id=\"Extract-features-from-wav-file-131\"><span class=\"toc-item-num\">1.3.1&nbsp;&nbsp;</span>Extract features from wav file</a></div><div class=\"lev3 toc-item\"><a href=\"#Extract-features-from-all-files\" data-toc-modified-id=\"Extract-features-from-all-files-132\"><span class=\"toc-item-num\">1.3.2&nbsp;&nbsp;</span>Extract features from all files</a></div><div class=\"lev3 toc-item\"><a href=\"#Pickle-the-features-for-later-use\" data-toc-modified-id=\"Pickle-the-features-for-later-use-133\"><span class=\"toc-item-num\">1.3.3&nbsp;&nbsp;</span>Pickle the features for later use</a></div>"
   ]
  },
  {
   "cell_type": "markdown",
   "metadata": {
    "collapsed": true
   },
   "source": [
    "# Init notebook\n",
    "## Imports"
   ]
  },
  {
   "cell_type": "code",
   "execution_count": 1,
   "metadata": {
    "collapsed": true
   },
   "outputs": [],
   "source": [
    "#basic stack\n",
    "import sys\n",
    "import pip\n",
    "import pylab\n",
    "import os\n",
    "import logging\n",
    "import numpy as np"
   ]
  },
  {
   "cell_type": "code",
   "execution_count": 5,
   "metadata": {
    "collapsed": true
   },
   "outputs": [],
   "source": [
    "#advanced stack\n",
    "import matplotlib.pyplot as plt\n",
    "from scipy.fftpack import fft\n",
    "from scipy import signal\n",
    "from scipy.signal import stft\n",
    "import scipy.io.wavfile as wav\n",
    "import scipy.signal\n",
    "from six.moves import cPickle as pickle\n",
    "from sklearn import preprocessing\n",
    "import tensorflow as tf\n",
    "from pylab import *\n",
    "from skimage import measure\n",
    "from scipy import ndimage\n",
    "import tensorflow.contrib.keras as keras\n",
    "\n",
    "def install(package):\n",
    "    pip.main(['install', package])"
   ]
  },
  {
   "cell_type": "markdown",
   "metadata": {},
   "source": [
    "## Rec"
   ]
  },
  {
   "cell_type": "code",
   "execution_count": 2,
   "metadata": {
    "collapsed": true
   },
   "outputs": [],
   "source": [
    "def is_number(s):\n",
    "    \"\"\" Returns True is string is a number. \"\"\"\n",
    "    return s.replace('.','',1).isdigit()\n",
    "\n",
    "def record_audio(dur=3, fs=44.1e3, ch=1, play=False, save=True):\n",
    "    dir_path = 'sounds/recorded/large'\n",
    "    new_file_path = ''\n",
    "    max_file_int = 0\n",
    "    for f in (f for f in os.listdir(dir_path) if f.endswith('.wav')):\n",
    "        filename = f.split('.')[0]\n",
    "        print('fiename = %s'%(filename))\n",
    "        if(is_number(filename) and int(float(filename)) > max_file_int):\n",
    "            max_file_int = int(filename)\n",
    "    new_file_path = os.path.join(dir_path, (str(max_file_int + 1) + '.wav'))\n",
    "    sd.default.samplerate = fs\n",
    "    sd.default.channels = ch\n",
    "    #myrecording = sd.rec(int(duration * fs), samplerate=fs, channels=2)\n",
    "    myrecording = sd.rec(int(dur * fs), dtype='float32')\n",
    "    sd.wait()\n",
    "    if save:\n",
    "        wav.write(new_file_path, int(fs), myrecording)\n",
    "    if play:\n",
    "        sd.play(myrecording)\n",
    "    return myrecording, new_file_path\n"
   ]
  },
  {
   "cell_type": "code",
   "execution_count": null,
   "metadata": {
    "collapsed": true
   },
   "outputs": [],
   "source": [
    "recording, file_path = record_audio(play=False)\n",
    "print('rec shape = %s'%str(recording.shape))## Wav to png function\n",
    "https://docs.scipy.org/doc/scipy/reference/generated/scipy.signal.stft.html\n",
    "\n",
    "### Convert wav to png"
   ]
  },
  {
   "cell_type": "markdown",
   "metadata": {},
   "source": [
    "## Wav to features function\n",
    "\n",
    "### Extract features from wav file"
   ]
  },
  {
   "cell_type": "code",
   "execution_count": 11,
   "metadata": {
    "collapsed": true
   },
   "outputs": [],
   "source": [
    "from pyAudioAnalysis import audioFeatureExtraction as aF\n",
    "from pyAudioAnalysis import audioTrainTest as aT\n",
    "\n",
    "sampling_freq = 44.1e3 # 44khz\n",
    "window_in_ms = 50 # 50ms window\n",
    "window_step_in_ms = 25 # 25ms overlap\n",
    "MS_IN_ONE_SECOND = 1000\n",
    "win = window_in_ms/MS_IN_ONE_SECOND * sampling_freq\n",
    "step = window_step_in_ms/MS_IN_ONE_SECOND * sampling_freq\n",
    "\n",
    "def getStFeatures(signal, Fs=sampling_freq, log = True):\n",
    "  features = aF.stFeatureExtraction(signal=signal, Fs=Fs, Win=win, Step=step)\n",
    "  if log:\n",
    "    print('features shape = %s'%str(features.shape))\n",
    "    print(features)\n",
    "  return features"
   ]
  },
  {
   "cell_type": "code",
   "execution_count": 7,
   "metadata": {
    "collapsed": true
   },
   "outputs": [],
   "source": [
    "import pyAudioAnalysis as pyaa"
   ]
  },
  {
   "cell_type": "code",
   "execution_count": 8,
   "metadata": {},
   "outputs": [
    {
     "data": {
      "text/plain": [
       "'0.3.5'"
      ]
     },
     "execution_count": 8,
     "metadata": {},
     "output_type": "execute_result"
    }
   ],
   "source": [
    "pyaa.__version__"
   ]
  },
  {
   "cell_type": "markdown",
   "metadata": {},
   "source": [
    "### Extract features from all files"
   ]
  },
  {
   "cell_type": "code",
   "execution_count": 21,
   "metadata": {},
   "outputs": [
    {
     "name": "stdout",
     "output_type": "stream",
     "text": [
      "shape of featuers = (4,)\n",
      "features shape = (34, 119)\n",
      "[[  1.40653358e-02   5.39927405e-02   5.62613430e-02 ...,   1.86025408e-02\n",
      "    2.08711434e-02   2.45009074e-02]\n",
      " [  5.43321937e-02   9.30592469e-05   5.32946054e-05 ...,   4.20630453e-05\n",
      "    3.55746761e-05   3.40323692e-05]\n",
      " [  1.12322545e+00   2.94406553e+00   2.81820813e+00 ...,   2.86116090e+00\n",
      "    2.84285332e+00   2.69389437e+00]\n",
      " ..., \n",
      " [  4.98618750e-02   2.36484856e-02   2.25533838e-02 ...,   6.48249925e-02\n",
      "    5.59906404e-02   1.34853234e-01]\n",
      " [  4.40581889e-04   1.97379407e-03   9.83700594e-04 ...,   1.99359655e-03\n",
      "    6.94390493e-04   8.02828171e-04]\n",
      " [  5.62041989e-02   2.79483672e-02   2.86897108e-02 ...,   5.61254548e-02\n",
      "    4.99954145e-02   4.45553742e-02]]\n",
      "shape of features = (34, 119)\n"
     ]
    },
    {
     "ename": "IndexError",
     "evalue": "too many indices for array",
     "output_type": "error",
     "traceback": [
      "\u001b[0;31m---------------------------------------------------------------------------\u001b[0m",
      "\u001b[0;31mIndexError\u001b[0m                                Traceback (most recent call last)",
      "\u001b[0;32m<ipython-input-21-d6a8b437f3ed>\u001b[0m in \u001b[0;36m<module>\u001b[0;34m()\u001b[0m\n\u001b[1;32m     31\u001b[0m     \u001b[0;32mreturn\u001b[0m \u001b[0mfeatures\u001b[0m\u001b[0;34m\u001b[0m\u001b[0m\n\u001b[1;32m     32\u001b[0m \u001b[0;34m\u001b[0m\u001b[0m\n\u001b[0;32m---> 33\u001b[0;31m \u001b[0mfeatures_large\u001b[0m \u001b[0;34m=\u001b[0m \u001b[0mextract_features\u001b[0m\u001b[0;34m(\u001b[0m\u001b[0mroot_path_large\u001b[0m\u001b[0;34m)\u001b[0m\u001b[0;34m\u001b[0m\u001b[0m\n\u001b[0m\u001b[1;32m     34\u001b[0m \u001b[0mfeatures_small\u001b[0m \u001b[0;34m=\u001b[0m \u001b[0mextract_features\u001b[0m\u001b[0;34m(\u001b[0m\u001b[0mroot_path_small\u001b[0m\u001b[0;34m)\u001b[0m\u001b[0;34m\u001b[0m\u001b[0m\n",
      "\u001b[0;32m<ipython-input-21-d6a8b437f3ed>\u001b[0m in \u001b[0;36mextract_features\u001b[0;34m(root_path)\u001b[0m\n\u001b[1;32m     27\u001b[0m               \u001b[0mfeatures_current\u001b[0m \u001b[0;34m=\u001b[0m \u001b[0mgetStFeatures\u001b[0m\u001b[0;34m(\u001b[0m\u001b[0mx\u001b[0m\u001b[0;34m,\u001b[0m \u001b[0mFs\u001b[0m\u001b[0;34m)\u001b[0m\u001b[0;34m\u001b[0m\u001b[0m\n\u001b[1;32m     28\u001b[0m               \u001b[0mprint\u001b[0m\u001b[0;34m(\u001b[0m\u001b[0;34m'shape of features = %s'\u001b[0m\u001b[0;34m%\u001b[0m\u001b[0mstr\u001b[0m\u001b[0;34m(\u001b[0m\u001b[0mfeatures_current\u001b[0m\u001b[0;34m.\u001b[0m\u001b[0mshape\u001b[0m\u001b[0;34m)\u001b[0m\u001b[0;34m)\u001b[0m\u001b[0;34m\u001b[0m\u001b[0m\n\u001b[0;32m---> 29\u001b[0;31m               \u001b[0mfeatures\u001b[0m\u001b[0;34m[\u001b[0m\u001b[0mcount\u001b[0m\u001b[0;34m,\u001b[0m\u001b[0mfile_number\u001b[0m\u001b[0;34m,\u001b[0m\u001b[0;34m:\u001b[0m\u001b[0;34m]\u001b[0m \u001b[0;34m=\u001b[0m \u001b[0mfeatures_current\u001b[0m\u001b[0;34m\u001b[0m\u001b[0m\n\u001b[0m\u001b[1;32m     30\u001b[0m               \u001b[0mfile_number\u001b[0m \u001b[0;34m=\u001b[0m \u001b[0mfile_number\u001b[0m \u001b[0;34m+\u001b[0m \u001b[0;36m1\u001b[0m\u001b[0;34m\u001b[0m\u001b[0m\n\u001b[1;32m     31\u001b[0m     \u001b[0;32mreturn\u001b[0m \u001b[0mfeatures\u001b[0m\u001b[0;34m\u001b[0m\u001b[0m\n",
      "\u001b[0;31mIndexError\u001b[0m: too many indices for array"
     ]
    }
   ],
   "source": [
    "root_path_large = 'sounds/recorded/large'\n",
    "root_path_small = 'sounds/recorded/small'\n",
    "\n",
    "from pyAudioAnalysis import audioBasicIO\n",
    "\n",
    "def extract_features(root_path):\n",
    "    folders = (os.path.join(root_path,f) for f in os.listdir(root_path) \n",
    "                  if (os.path.isdir(os.path.join(root_path,f)) and not f.startswith('.')\n",
    "                     and not f.startswith('hawker')))\n",
    "    max_files_in_folder = 15\n",
    "    num_folders = 9\n",
    "    fts = np.array((num_folders,max_files_in_folder,34,119))\n",
    "    print('shape of fts = %s'%str(fts.shape))\n",
    "    count = 0\n",
    "    for fldr in folders:\n",
    "        if count > 100 :\n",
    "            break\n",
    "        else:\n",
    "            count = count + 1\n",
    "        file_number = 0\n",
    "        for f in os.listdir(fldr):\n",
    "            if f.endswith('.wav'):\n",
    "              wave_file_path = os.path.join(fldr, f)\n",
    "              if not os.path.isfile(wave_file_path):\n",
    "                raise Exception(\"Input audio file not found!\")\n",
    "              Fs, x = audioBasicIO.readAudioFile(wave_file_path)\n",
    "              features_current = getStFeatures(x, Fs)\n",
    "              print('shape of features = %s'%str(features_current.shape))\n",
    "              features[count,file_number,:] = features_current\n",
    "              file_number = file_number + 1\n",
    "    return features\n",
    "              \n",
    "features_large = extract_features(root_path_large)\n",
    "features_small = extract_features(root_path_small)"
   ]
  },
  {
   "cell_type": "code",
   "execution_count": null,
   "metadata": {
    "collapsed": true
   },
   "outputs": [],
   "source": []
  },
  {
   "cell_type": "markdown",
   "metadata": {},
   "source": [
    "### Pickle the features for later use"
   ]
  },
  {
   "cell_type": "code",
   "execution_count": null,
   "metadata": {
    "collapsed": true
   },
   "outputs": [],
   "source": []
  }
 ],
 "metadata": {
  "kernelspec": {
   "display_name": "Python [conda root]",
   "language": "python",
   "name": "conda-root-py"
  },
  "language_info": {
   "codemirror_mode": {
    "name": "ipython",
    "version": 3
   },
   "file_extension": ".py",
   "mimetype": "text/x-python",
   "name": "python",
   "nbconvert_exporter": "python",
   "pygments_lexer": "ipython3",
   "version": "3.6.0"
  },
  "toc": {
   "colors": {
    "hover_highlight": "#DAA520",
    "navigate_num": "#000000",
    "navigate_text": "#333333",
    "running_highlight": "#FF0000",
    "selected_highlight": "#FFD700",
    "sidebar_border": "#EEEEEE",
    "wrapper_background": "#FFFFFF"
   },
   "moveMenuLeft": true,
   "nav_menu": {
    "height": "148px",
    "width": "252px"
   },
   "navigate_menu": true,
   "number_sections": true,
   "sideBar": true,
   "threshold": 4,
   "toc_cell": true,
   "toc_position": {
    "height": "623px",
    "left": "0px",
    "right": "1074px",
    "top": "106px",
    "width": "212px"
   },
   "toc_section_display": "block",
   "toc_window_display": true,
   "widenNotebook": false
  }
 },
 "nbformat": 4,
 "nbformat_minor": 2
}
