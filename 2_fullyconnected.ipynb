{
 "cells": [
  {
   "cell_type": "markdown",
   "metadata": {
    "colab_type": "text",
    "id": "kR-4eNdK6lYS"
   },
   "source": [
    "Deep Learning\n",
    "=============\n",
    "\n",
    "Assignment 2\n",
    "------------\n",
    "\n",
    "Previously in `1_notmnist.ipynb`, we created a pickle with formatted datasets for training, development and testing on the [notMNIST dataset](http://yaroslavvb.blogspot.com/2011/09/notmnist-dataset.html).\n",
    "\n",
    "The goal of this assignment is to progressively train deeper and more accurate models using TensorFlow."
   ]
  },
  {
   "cell_type": "code",
   "execution_count": 2,
   "metadata": {},
   "outputs": [],
   "source": [
    "import pip\n",
    "\n",
    "def install(package):\n",
    "    pip.main(['install', package])\n",
    "\n",
    "# Example\n",
    "# if __name__ == '__main__':\n",
    "    # install('tensorflow')"
   ]
  },
  {
   "cell_type": "code",
   "execution_count": 3,
   "metadata": {
    "cellView": "both",
    "colab": {
     "autoexec": {
      "startup": false,
      "wait_interval": 0
     }
    },
    "colab_type": "code",
    "id": "JLpLa8Jt7Vu4"
   },
   "outputs": [],
   "source": [
    "# These are all the modules we'll be using later. Make sure you can import them\n",
    "# before proceeding further.\n",
    "from __future__ import print_function\n",
    "import numpy as np\n",
    "import tensorflow as tf\n",
    "from six.moves import cPickle as pickle\n",
    "from six.moves import range"
   ]
  },
  {
   "cell_type": "markdown",
   "metadata": {
    "colab_type": "text",
    "id": "1HrCK6e17WzV"
   },
   "source": [
    "First reload the data we generated in `1_notmnist.ipynb`.\n",
    "Load the data\n",
    "--"
   ]
  },
  {
   "cell_type": "code",
   "execution_count": 6,
   "metadata": {
    "cellView": "both",
    "colab": {
     "autoexec": {
      "startup": false,
      "wait_interval": 0
     },
     "output_extras": [
      {
       "item_id": 1
      }
     ]
    },
    "colab_type": "code",
    "executionInfo": {
     "elapsed": 19456,
     "status": "ok",
     "timestamp": 1449847956073,
     "user": {
      "color": "",
      "displayName": "",
      "isAnonymous": false,
      "isMe": true,
      "permissionId": "",
      "photoUrl": "",
      "sessionId": "0",
      "userId": ""
     },
     "user_tz": 480
    },
    "id": "y3-cj1bpmuxc",
    "outputId": "0ddb1607-1fc4-4ddb-de28-6c7ab7fb0c33"
   },
   "outputs": [
    {
     "name": "stdout",
     "output_type": "stream",
     "text": [
      "Training set (200000, 28, 28) (200000,)\n",
      "Validation set (10000, 28, 28) (10000,)\n",
      "Test set (10000, 28, 28) (10000,)\n"
     ]
    }
   ],
   "source": [
    "# file for home computer\n",
    "# pickle_file = '/Users/gundeep/Documents/Notebooks/deep-learning/notMNIST.pickle'\n",
    "\n",
    "# file for office computer\n",
    "pickle_file = '/Users/Gundeep/Documents/Notebooks/deep-learning/notMNIST.pickle'\n",
    "\n",
    "with open(pickle_file, 'rb') as f:\n",
    "  save = pickle.load(f)\n",
    "  train_dataset = save['train_dataset']\n",
    "  train_labels = save['train_labels']\n",
    "  valid_dataset = save['valid_dataset']\n",
    "  valid_labels = save['valid_labels']\n",
    "  test_dataset = save['test_dataset']\n",
    "  test_labels = save['test_labels']\n",
    "  del save  # hint to help gc free up memory\n",
    "  print('Training set', train_dataset.shape, train_labels.shape)\n",
    "  print('Validation set', valid_dataset.shape, valid_labels.shape)\n",
    "  print('Test set', test_dataset.shape, test_labels.shape)"
   ]
  },
  {
   "cell_type": "markdown",
   "metadata": {
    "colab_type": "text",
    "id": "L7aHrm6nGDMB"
   },
   "source": [
    "Reformat into a shape that's more adapted to the models we're going to train:\n",
    "- data as a flat matrix,\n",
    "- labels as float 1-hot encodings."
   ]
  },
  {
   "cell_type": "markdown",
   "metadata": {},
   "source": [
    "Just for testing different kind of array operations\n",
    "---"
   ]
  },
  {
   "cell_type": "code",
   "execution_count": 7,
   "metadata": {},
   "outputs": [
    {
     "name": "stdout",
     "output_type": "stream",
     "text": [
      "[0 1 2 3 4 5 6 7 8 9]\n",
      "kjust\n",
      "[[0]\n",
      " [1]\n",
      " [2]\n",
      " [3]\n",
      " [4]\n",
      " [5]\n",
      " [6]\n",
      " [7]\n",
      " [8]\n",
      " [9]]\n",
      "(10, 1)\n",
      "testngsome more shitn\n",
      "[[1 2 3 4]]\n",
      "[[1 1]\n",
      " [2 2]\n",
      " [3 3]\n",
      " [4 4]]\n",
      "[[[1 1]\n",
      "  [2 2]\n",
      "  [3 3]\n",
      "  [4 4]]]\n",
      "(4,)\n",
      "(4, 1)\n",
      "(1, 4)\n",
      "(2, 4)\n",
      "(1, 4, 2)\n"
     ]
    }
   ],
   "source": [
    "test_a = np.arange(10)\n",
    "print(test_a)\n",
    "test_b = test_a[:,None]\n",
    "print('kjust')\n",
    "print(test_b)\n",
    "print(test_b.shape)\n",
    "print('testngsome more shitn')\n",
    "test_ya = np.array([1,2,3,4])\n",
    "test_ya1 = test_ya[:,None]\n",
    "test_ya2 = test_ya[None,:]\n",
    "print(test_ya2)\n",
    "test_yo = np.array([[1,2,3,4],[1,2,3,4]])\n",
    "test_yoyo = np.array([[1,1],[2,2],[3,3],[4,4]])\n",
    "print(test_yoyo)\n",
    "test_yoyo = test_yoyo[None,:]\n",
    "print(test_yoyo)\n",
    "# print(test_yo)\n",
    "print(test_ya.shape)\n",
    "print(test_ya1.shape)\n",
    "print(test_ya2.shape)\n",
    "print(test_yo.shape)\n",
    "print(test_yoyo.shape)\n",
    "# test_c = test_a == test_b\n",
    "# print(test_c)\n",
    "# test_d = test_b == test_a\n",
    "# print(test_d)"
   ]
  },
  {
   "cell_type": "markdown",
   "metadata": {},
   "source": [
    "Reformat the data to 1d array\n",
    "---"
   ]
  },
  {
   "cell_type": "code",
   "execution_count": 8,
   "metadata": {
    "cellView": "both",
    "colab": {
     "autoexec": {
      "startup": false,
      "wait_interval": 0
     },
     "output_extras": [
      {
       "item_id": 1
      }
     ]
    },
    "colab_type": "code",
    "executionInfo": {
     "elapsed": 19723,
     "status": "ok",
     "timestamp": 1449847956364,
     "user": {
      "color": "",
      "displayName": "",
      "isAnonymous": false,
      "isMe": true,
      "permissionId": "",
      "photoUrl": "",
      "sessionId": "0",
      "userId": ""
     },
     "user_tz": 480
    },
    "id": "IRSyYiIIGIzS",
    "outputId": "2ba0fc75-1487-4ace-a562-cf81cae82793"
   },
   "outputs": [
    {
     "name": "stdout",
     "output_type": "stream",
     "text": [
      "Training set (200000, 784) (200000, 10)\n",
      "Validation set (10000, 784) (10000, 10)\n",
      "Test set (10000, 784) (10000, 10)\n"
     ]
    }
   ],
   "source": [
    "image_size = 28\n",
    "num_labels = 10\n",
    "\n",
    "def reformat(dataset, labels):\n",
    "  dataset = dataset.reshape((-1, image_size * image_size)).astype(np.float32)\n",
    "  # Map 0 to [1.0, 0.0, 0.0 ...], 1 to [0.0, 1.0, 0.0 ...]\n",
    "  labels = (np.arange(num_labels) == labels[:,None]).astype(np.float32)\n",
    "  return dataset, labels\n",
    "train_dataset, train_labels = reformat(train_dataset, train_labels)\n",
    "valid_dataset, valid_labels = reformat(valid_dataset, valid_labels)\n",
    "test_dataset, test_labels = reformat(test_dataset, test_labels)\n",
    "print('Training set', train_dataset.shape, train_labels.shape)\n",
    "print('Validation set', valid_dataset.shape, valid_labels.shape)\n",
    "print('Test set', test_dataset.shape, test_labels.shape)"
   ]
  },
  {
   "cell_type": "markdown",
   "metadata": {},
   "source": [
    "Tf zeros testing\n",
    "---"
   ]
  },
  {
   "cell_type": "code",
   "execution_count": 9,
   "metadata": {},
   "outputs": [
    {
     "name": "stdout",
     "output_type": "stream",
     "text": [
      "Tensor(\"zeros_1:0\", shape=(6,), dtype=float32)\n",
      "Tensor(\"zeros:0\", shape=(6,), dtype=float32)\n"
     ]
    }
   ],
   "source": [
    "zr = tf.zeros(6)\n",
    "zr2 = tf.zeros([6])\n",
    "print(zr2)\n",
    "print(zr)\n",
    "tf.reset_default_graph()"
   ]
  },
  {
   "cell_type": "markdown",
   "metadata": {
    "colab_type": "text",
    "id": "nCLVqyQ5vPPH"
   },
   "source": [
    "How TF works\n",
    "---\n",
    "We're first going to train a multinomial logistic regression using simple gradient descent.\n",
    "\n",
    "TensorFlow works like this:\n",
    "* First you describe the computation that you want to see performed: what the inputs, the variables, and the operations look like. These get created as nodes over a computation graph. This description is all contained within the block below:\n",
    "\n",
    "      with graph.as_default():\n",
    "          ...\n",
    "\n",
    "* Then you can run the operations on this graph as many times as you want by calling `session.run()`, providing it outputs to fetch from the graph that get returned. This runtime operation is all contained in the block below:\n",
    "\n",
    "      with tf.Session(graph=graph) as session:\n",
    "          ...\n",
    "\n",
    "Let's load all the data into TensorFlow and build the computation graph corresponding to our training:"
   ]
  },
  {
   "cell_type": "code",
   "execution_count": 24,
   "metadata": {
    "cellView": "both",
    "colab": {
     "autoexec": {
      "startup": false,
      "wait_interval": 0
     }
    },
    "colab_type": "code",
    "id": "Nfv39qvtvOl_"
   },
   "outputs": [
    {
     "name": "stdout",
     "output_type": "stream",
     "text": [
      "shape of cross entropy = (10000,)\n",
      "shape of train prediction - (10000, 10)\n"
     ]
    }
   ],
   "source": [
    "# With gradient descent training, even this much data is prohibitive.\n",
    "# Subset the training data for faster turnaround.\n",
    "train_subset = 10000\n",
    "\n",
    "graph = tf.Graph()\n",
    "with graph.as_default():\n",
    "\n",
    "  # Input data.\n",
    "  # Load the training, validation and test data into constants that are\n",
    "  # attached to the graph.\n",
    "  tf_train_dataset = tf.constant(train_dataset[:train_subset, :])\n",
    "  tf_train_labels = tf.constant(train_labels[:train_subset])\n",
    "  tf_valid_dataset = tf.constant(valid_dataset)\n",
    "  tf_test_dataset = tf.constant(test_dataset)\n",
    "  \n",
    "  # Variables.\n",
    "  # These are the parameters that we are going to be training. The weight\n",
    "  # matrix will be initialized using random values following a (truncated)\n",
    "  # normal distribution. The biases get initialized to zero.\n",
    "  weights = tf.Variable(tf.truncated_normal([image_size * image_size, num_labels]))\n",
    "  biases = tf.Variable(tf.zeros([num_labels]))\n",
    "  \n",
    "  # Training computation.\n",
    "  # We multiply the inputs with the weight matrix, and add biases. We compute\n",
    "  # the softmax and cross-entropy (it's one operation in TensorFlow, because\n",
    "  # it's very common, and it can be optimized). We take the average of this\n",
    "  # cross-entropy across all training examples: that's our loss.\n",
    "  logits = tf.matmul(tf_train_dataset, weights) + biases\n",
    "  logits_first_10 = logits[:1]\n",
    "  cross_entropy = tf.nn.softmax_cross_entropy_with_logits(labels=tf_train_labels, logits=logits)\n",
    "  print('shape of cross entropy = ' + str(cross_entropy.get_shape()))\n",
    "  loss = tf.reduce_mean(cross_entropy)\n",
    "  \n",
    "  # Optimizer.\n",
    "  # We are going to find the minimum of this loss using gradient descent.\n",
    "  optimizer = tf.train.GradientDescentOptimizer(0.5).minimize(loss)\n",
    "  \n",
    "  # Predictions for the training, validation, and test data.\n",
    "  # These are not part of training, but merely here so that we can report\n",
    "  # accuracy figures as we train.\n",
    "  train_prediction = tf.nn.softmax(logits)\n",
    "  valid_prediction = tf.nn.softmax(\n",
    "    tf.matmul(tf_valid_dataset, weights) + biases)\n",
    "  test_prediction = tf.nn.softmax(tf.matmul(tf_test_dataset, weights) + biases)\n",
    "\n",
    "  print('shape of train prediction - ' + str(train_prediction.get_shape()))"
   ]
  },
  {
   "cell_type": "markdown",
   "metadata": {
    "colab_type": "text",
    "id": "KQcL4uqISHjP"
   },
   "source": [
    "Let's run this computation and iterate:"
   ]
  },
  {
   "cell_type": "code",
   "execution_count": 27,
   "metadata": {
    "cellView": "both",
    "colab": {
     "autoexec": {
      "startup": false,
      "wait_interval": 0
     },
     "output_extras": [
      {
       "item_id": 9
      }
     ]
    },
    "colab_type": "code",
    "executionInfo": {
     "elapsed": 57454,
     "status": "ok",
     "timestamp": 1449847994134,
     "user": {
      "color": "",
      "displayName": "",
      "isAnonymous": false,
      "isMe": true,
      "permissionId": "",
      "photoUrl": "",
      "sessionId": "0",
      "userId": ""
     },
     "user_tz": 480
    },
    "id": "z2cjdenH869W",
    "outputId": "4c037ba1-b526-4d8e-e632-91e2a0333267"
   },
   "outputs": [
    {
     "name": "stdout",
     "output_type": "stream",
     "text": [
      "Initialized\n",
      "Loss at step 0: 18.470297\n",
      "logits_10 = [[-16.30040359   1.78290987   6.35871887  -1.18855476   2.47864747\n",
      "  -12.34409332   0.14851618 -14.62033081  15.91209126  -2.37953568]]\n",
      "precdiction 1 = [  1.02390537e-14   7.30706347e-07   7.09563465e-05   3.74327307e-08\n",
      "   1.46520222e-06   5.35135196e-13   1.42539335e-07   5.49422128e-14\n",
      "   9.99926686e-01   1.13766907e-08]\n",
      "precdiction sum 1 = 1.0\n",
      "Training accuracy: 12.0%\n",
      "Validation accuracy: 14.6%\n",
      "Loss at step 100: 2.416394\n",
      "logits_10 = [[-15.40691853   6.52225304   7.17355585  -4.59951591   4.75465202\n",
      "  -13.8651104    6.31645298  -8.58014297   8.6554327  -11.12266731]]\n",
      "precdiction 1 = [  2.42554778e-11   8.10080245e-02   1.55376464e-01   1.19785750e-06\n",
      "   1.38314804e-02   1.13346728e-10   6.59401864e-02   2.23686811e-08\n",
      "   6.83842659e-01   1.75969295e-09]\n",
      "precdiction sum 1 = 1.0\n",
      "Training accuracy: 70.9%\n",
      "Validation accuracy: 70.1%\n",
      "Loss at step 200: 1.908222\n",
      "logits_10 = [[-14.04288769   6.03747749   7.54892206  -6.16764116   4.35214806\n",
      "  -14.15964699   5.08918238  -7.24822426   7.92484951  -9.48615456]]\n",
      "precdiction 1 = [  1.49667986e-10   7.86902159e-02   3.56724381e-01   3.93826383e-07\n",
      "   1.45878559e-02   1.33174610e-10   3.04846615e-02   1.33663789e-07\n",
      "   5.19512475e-01   1.42591423e-08]\n",
      "precdiction sum 1 = 1.0\n",
      "Training accuracy: 74.4%\n",
      "Validation accuracy: 73.0%\n",
      "Loss at step 300: 1.645496\n",
      "logits_10 = [[-13.09383488   5.51256847   7.48164988  -7.21386242   4.07917118\n",
      "  -13.71532059   4.32659101  -5.93631124   6.63225079  -8.22487545]]\n",
      "precdiction 1 = [  7.05494663e-10   8.49478170e-02   6.08574033e-01   2.52425536e-07\n",
      "   2.02598255e-02   3.78953841e-10   2.59470958e-02   9.05663683e-07\n",
      "   2.60269970e-01   9.18450880e-08]\n",
      "precdiction sum 1 = 1.0\n",
      "Training accuracy: 75.7%\n",
      "Validation accuracy: 73.8%\n",
      "Loss at step 400: 1.471241\n",
      "logits_10 = [[-12.19799042   5.06721783   7.36572552  -7.9712944    3.83178806\n",
      "  -13.07001019   3.67253017  -4.87922001   5.48299932  -7.45369673]]\n",
      "precdiction 1 = [  2.44016718e-09   7.68430606e-02   7.65303791e-01   1.67128576e-07\n",
      "   2.23390311e-02   1.02025000e-09   1.90501995e-02   3.68062501e-06\n",
      "   1.16459861e-01   2.80440531e-07]\n",
      "precdiction sum 1 = 1.0\n",
      "Training accuracy: 76.6%\n",
      "Validation accuracy: 74.2%\n",
      "Loss at step 500: 1.343704\n",
      "logits_10 = [[-11.32252407   4.82805634   7.24673557  -8.48989296   3.57869411\n",
      "  -12.48827076   3.09638476  -4.02461433   4.5183444   -7.09485149]]\n",
      "precdiction 1 = [  7.20882598e-09   7.44684786e-02   8.36356640e-01   1.22478710e-07\n",
      "   2.13491879e-02   2.24691776e-09   1.31800529e-02   1.06489415e-05\n",
      "   5.46344109e-02   4.94218909e-07]\n",
      "precdiction sum 1 = 1.0\n",
      "Training accuracy: 77.2%\n",
      "Validation accuracy: 74.5%\n",
      "Loss at step 600: 1.244858\n",
      "logits_10 = [[-10.48853493   4.7252779    7.1104579   -8.83589268   3.35608363\n",
      "  -12.03983402   2.60360503  -3.3086853    3.72194862  -6.99633074]]\n",
      "precdiction 1 = [  1.96010852e-08   7.93515295e-02   8.61838341e-01   1.02332585e-07\n",
      "   2.01800298e-02   4.15489376e-09   9.50877089e-03   2.57305583e-05\n",
      "   2.90947706e-02   6.44058503e-07]\n",
      "precdiction sum 1 = 1.0\n",
      "Training accuracy: 78.0%\n",
      "Validation accuracy: 74.8%\n",
      "Loss at step 700: 1.165136\n",
      "logits_10 = [[ -9.72300339   4.69076777   6.95670176  -9.06907749   3.17944574\n",
      "  -11.7050972    2.17163396  -2.71463275   3.08823013  -7.02686691]]\n",
      "precdiction 1 = [  4.93362506e-08   8.97402391e-02   8.65107000e-01   9.48772581e-08\n",
      "   1.97983216e-02   6.79757006e-09   7.22672278e-03   5.45585353e-05\n",
      "   1.80723220e-02   7.31279385e-07]\n",
      "precdiction sum 1 = 1.0\n",
      "Training accuracy: 78.5%\n",
      "Validation accuracy: 74.9%\n",
      "Loss at step 800: 1.099116\n",
      "logits_10 = [[ -9.03307056   4.68972301   6.79046297  -9.22435856   3.04048896\n",
      "  -11.44311905   1.78312945  -2.23973036   2.59105825  -7.10646105]]\n",
      "precdiction 1 = [  1.14972984e-07   1.04792342e-01   8.56385529e-01   9.49555812e-08\n",
      "   2.01407801e-02   1.03258415e-08   5.72811719e-03   1.02543039e-04\n",
      "   1.28496420e-02   7.89426906e-07]\n",
      "precdiction sum 1 = 1.0\n",
      "Training accuracy: 78.9%\n",
      "Validation accuracy: 75.0%\n",
      "Test accuracy: 82.5%\n"
     ]
    }
   ],
   "source": [
    "num_steps = 801\n",
    "\n",
    "def accuracy(predictions, labels):\n",
    "  return (100.0 * np.sum(np.argmax(predictions, 1) == np.argmax(labels, 1))\n",
    "          / predictions.shape[0])\n",
    "\n",
    "with tf.Session(graph=graph) as session:\n",
    "  # This is a one-time operation which ensures the parameters get initialized as\n",
    "  # we described in the graph: random weights for the matrix, zeros for the\n",
    "  # biases. \n",
    "  tf.global_variables_initializer().run()\n",
    "  print('Initialized')\n",
    "  for step in range(num_steps):\n",
    "    # Run the computations. We tell .run() that we want to run the optimizer,\n",
    "    # and get the loss value and the training predictions returned as numpy\n",
    "    # arrays.\n",
    "    _, l, predictions, logits_10 = session.run([optimizer, loss, train_prediction, logits_first_10])\n",
    "    if (step % 100 == 0):\n",
    "      print('Loss at step %d: %f' % (step, l))\n",
    "      print('logits_10 = %s'%str(logits_10))\n",
    "      print('precdiction 1 = %s'%str(predictions[0]))\n",
    "      print('precdiction sum 1 = %s'%str(np.sum(predictions[0],0)))\n",
    "      print('Training accuracy: %.1f%%' % accuracy(\n",
    "        predictions, train_labels[:train_subset, :]))\n",
    "      # Calling .eval() on valid_prediction is basically like calling run(), but\n",
    "      # just to get that one numpy array. Note that it recomputes all its graph\n",
    "      # dependencies.\n",
    "      print('Validation accuracy: %.1f%%' % accuracy(\n",
    "        valid_prediction.eval(), valid_labels))\n",
    "  print('Test accuracy: %.1f%%' % accuracy(test_prediction.eval(), test_labels))"
   ]
  },
  {
   "cell_type": "markdown",
   "metadata": {
    "colab_type": "text",
    "id": "x68f-hxRGm3H"
   },
   "source": [
    "Let's now switch to stochastic gradient descent training instead, which is much faster.\n",
    "\n",
    "The graph will be similar, except that instead of holding all the training data into a constant node, we create a `Placeholder` node which will be fed actual data at every call of `session.run()`."
   ]
  },
  {
   "cell_type": "code",
   "execution_count": 22,
   "metadata": {
    "cellView": "both",
    "colab": {
     "autoexec": {
      "startup": false,
      "wait_interval": 0
     }
    },
    "colab_type": "code",
    "id": "qhPMzWYRGrzM"
   },
   "outputs": [
    {
     "name": "stdout",
     "output_type": "stream",
     "text": [
      "shape of cross entropy = (128,)\n",
      "shape of loss = ()\n"
     ]
    }
   ],
   "source": [
    "batch_size = 128\n",
    "\n",
    "graph = tf.Graph()\n",
    "with graph.as_default():\n",
    "\n",
    "  # Input data. For the training data, we use a placeholder that will be fed\n",
    "  # at run time with a training minibatch.\n",
    "  tf_train_dataset = tf.placeholder(tf.float32,\n",
    "                                    shape=(batch_size, image_size * image_size))\n",
    "  tf_train_labels = tf.placeholder(tf.float32, shape=(batch_size, num_labels))\n",
    "  tf_valid_dataset = tf.constant(valid_dataset)\n",
    "  tf_test_dataset = tf.constant(test_dataset)\n",
    "  \n",
    "  # Variables.\n",
    "  weights = tf.Variable(\n",
    "    tf.truncated_normal([image_size * image_size, num_labels]))\n",
    "  biases = tf.Variable(tf.zeros([num_labels]))\n",
    "  \n",
    "  # Training computation.\n",
    "  logits = tf.matmul(tf_train_dataset, weights) + biases\n",
    "  cross_entropy = tf.nn.softmax_cross_entropy_with_logits(labels=tf_train_labels, logits=logits)\n",
    "  loss = tf.reduce_mean(cross_entropy)\n",
    "  print('shape of cross entropy = ' + str(cross_entropy.get_shape()))\n",
    "  print('shape of loss = ' + str(loss.get_shape()))\n",
    "  \n",
    "  # Optimizer.\n",
    "  optimizer = tf.train.GradientDescentOptimizer(0.5).minimize(loss)\n",
    "  \n",
    "  # Predictions for the training, validation, and test data.\n",
    "  train_prediction = tf.nn.softmax(logits)\n",
    "  valid_prediction = tf.nn.softmax(\n",
    "    tf.matmul(tf_valid_dataset, weights) + biases)\n",
    "  test_prediction = tf.nn.softmax(tf.matmul(tf_test_dataset, weights) + biases)"
   ]
  },
  {
   "cell_type": "markdown",
   "metadata": {
    "colab_type": "text",
    "id": "XmVZESmtG4JH"
   },
   "source": [
    "Let's run it:"
   ]
  },
  {
   "cell_type": "code",
   "execution_count": 15,
   "metadata": {},
   "outputs": [
    {
     "name": "stdout",
     "output_type": "stream",
     "text": [
      "200000\n"
     ]
    }
   ],
   "source": [
    "print(train_labels.shape[0])"
   ]
  },
  {
   "cell_type": "code",
   "execution_count": 18,
   "metadata": {
    "cellView": "both",
    "colab": {
     "autoexec": {
      "startup": false,
      "wait_interval": 0
     },
     "output_extras": [
      {
       "item_id": 6
      }
     ]
    },
    "colab_type": "code",
    "executionInfo": {
     "elapsed": 66292,
     "status": "ok",
     "timestamp": 1449848003013,
     "user": {
      "color": "",
      "displayName": "",
      "isAnonymous": false,
      "isMe": true,
      "permissionId": "",
      "photoUrl": "",
      "sessionId": "0",
      "userId": ""
     },
     "user_tz": 480
    },
    "id": "FoF91pknG_YW",
    "outputId": "d255c80e-954d-4183-ca1c-c7333ce91d0a"
   },
   "outputs": [
    {
     "name": "stdout",
     "output_type": "stream",
     "text": [
      "Initialized\n",
      "Minibatch loss at step 0: 19.872808\n",
      "Minibatch accuracy: 4.7%\n",
      "Validation accuracy: 9.1%\n",
      "Minibatch loss at step 500: 1.181864\n",
      "Minibatch accuracy: 79.7%\n",
      "Validation accuracy: 75.2%\n",
      "Minibatch loss at step 1000: 1.404499\n",
      "Minibatch accuracy: 75.0%\n",
      "Validation accuracy: 76.7%\n",
      "Minibatch loss at step 1500: 0.753638\n",
      "Minibatch accuracy: 81.2%\n",
      "Validation accuracy: 77.5%\n",
      "Minibatch loss at step 2000: 0.906474\n",
      "Minibatch accuracy: 82.8%\n",
      "Validation accuracy: 77.5%\n",
      "Minibatch loss at step 2500: 0.978004\n",
      "Minibatch accuracy: 75.0%\n",
      "Validation accuracy: 78.1%\n",
      "Minibatch loss at step 3000: 0.937416\n",
      "Minibatch accuracy: 82.0%\n",
      "Validation accuracy: 79.3%\n",
      "Test accuracy: 86.7%\n"
     ]
    }
   ],
   "source": [
    "num_steps = 3001\n",
    "\n",
    "with tf.Session(graph=graph) as session:\n",
    "  tf.global_variables_initializer().run()\n",
    "  print(\"Initialized\")\n",
    "  for step in range(num_steps):\n",
    "    # Pick an offset within the training data, which has been randomized.\n",
    "    # Note: we could use better randomization across epochs.\n",
    "    offset = (step * batch_size) % (train_labels.shape[0] - batch_size)\n",
    "    # Generate a minibatch.\n",
    "    batch_data = train_dataset[offset:(offset + batch_size), :]\n",
    "    batch_labels = train_labels[offset:(offset + batch_size), :]\n",
    "    # Prepare a dictionary telling the session where to feed the minibatch.\n",
    "    # The key of the dictionary is the placeholder node of the graph to be fed,\n",
    "    # and the value is the numpy array to feed to it.\n",
    "    feed_dict = {tf_train_dataset : batch_data, tf_train_labels : batch_labels}\n",
    "    _, l, predictions = session.run(\n",
    "      [optimizer, loss, train_prediction], feed_dict=feed_dict)\n",
    "    if (step % 500 == 0):\n",
    "      print(\"Minibatch loss at step %d: %f\" % (step, l))\n",
    "      print(\"Minibatch accuracy: %.1f%%\" % accuracy(predictions, batch_labels))\n",
    "      print(\"Validation accuracy: %.1f%%\" % accuracy(\n",
    "        valid_prediction.eval(), valid_labels))\n",
    "  print(\"Test accuracy: %.1f%%\" % accuracy(test_prediction.eval(), test_labels))"
   ]
  },
  {
   "cell_type": "markdown",
   "metadata": {
    "colab_type": "text",
    "id": "7omWxtvLLxik"
   },
   "source": [
    "---\n",
    "Problem\n",
    "-------\n",
    "\n",
    "Turn the logistic regression example with SGD into a 1-hidden layer neural network with rectified linear units [nn.relu()](https://www.tensorflow.org/versions/r0.7/api_docs/python/nn.html#relu) and 1024 hidden nodes. This model should improve your validation / test accuracy.\n",
    "\n",
    "---"
   ]
  },
  {
   "cell_type": "markdown",
   "metadata": {},
   "source": [
    "Solution 1 : Adding Relu to the weights\n",
    "---"
   ]
  },
  {
   "cell_type": "code",
   "execution_count": 19,
   "metadata": {},
   "outputs": [
    {
     "name": "stdout",
     "output_type": "stream",
     "text": [
      "shape of cross entropy = (128,)\n",
      "shape of loss = ()\n"
     ]
    }
   ],
   "source": [
    "batch_size = 128\n",
    "\n",
    "graph = tf.Graph()\n",
    "with graph.as_default():\n",
    "\n",
    "  # Input data. For the training data, we use a placeholder that will be fed\n",
    "  # at run time with a training minibatch.\n",
    "  tf_train_dataset = tf.placeholder(tf.float32,\n",
    "                                    shape=(batch_size, image_size * image_size))\n",
    "  tf_train_labels = tf.placeholder(tf.float32, shape=(batch_size, num_labels))\n",
    "  tf_valid_dataset = tf.constant(valid_dataset)\n",
    "  tf_test_dataset = tf.constant(test_dataset)\n",
    "  \n",
    "  # Variables.\n",
    "  weights = tf.truncated_normal([image_size * image_size, num_labels])\n",
    "  # add a relu to the weights\n",
    "  relufied_weights = tf.Variable(tf.nn.relu(weights))\n",
    "  biases = tf.Variable(tf.zeros([num_labels]))\n",
    "  \n",
    "  # Training computation.\n",
    "  logits = tf.matmul(tf_train_dataset, relufied_weights) + biases\n",
    "  cross_entropy = tf.nn.softmax_cross_entropy_with_logits(labels=tf_train_labels, logits=logits)\n",
    "  loss = tf.reduce_mean(cross_entropy)\n",
    "  print('shape of cross entropy = ' + str(cross_entropy.get_shape()))\n",
    "  print('shape of loss = ' + str(loss.get_shape()))\n",
    "  \n",
    "  # Optimizer.\n",
    "  optimizer = tf.train.GradientDescentOptimizer(0.5).minimize(loss)\n",
    "  \n",
    "  # Predictions for the training, validation, and test data.\n",
    "  train_prediction = tf.nn.softmax(logits)\n",
    "  valid_prediction = tf.nn.softmax(\n",
    "    tf.matmul(tf_valid_dataset, relufied_weights) + biases)\n",
    "  test_prediction = tf.nn.softmax(tf.matmul(tf_test_dataset, relufied_weights) + biases)"
   ]
  },
  {
   "cell_type": "code",
   "execution_count": 44,
   "metadata": {},
   "outputs": [
    {
     "name": "stdout",
     "output_type": "stream",
     "text": [
      "[[ 0  1  2  3  4]\n",
      " [ 5  6  7  8  9]\n",
      " [10 11 12 13 14]]\n"
     ]
    }
   ],
   "source": [
    "arr = np.arange(15).reshape(3,5)\n",
    "print(arr)"
   ]
  },
  {
   "cell_type": "markdown",
   "metadata": {},
   "source": [
    "Test run with relu"
   ]
  },
  {
   "cell_type": "code",
   "execution_count": 27,
   "metadata": {
    "scrolled": false
   },
   "outputs": [
    {
     "name": "stdout",
     "output_type": "stream",
     "text": [
      "Initialized\n",
      "Minibatch loss at step 0: 10.728715\n",
      "Minibatch accuracy: 4.7%\n",
      "Validation accuracy: 12.6%\n",
      "Minibatch loss at step 500: 0.684151\n",
      "Minibatch accuracy: 83.6%\n",
      "Validation accuracy: 77.6%\n",
      "Minibatch loss at step 1000: 0.819420\n",
      "Minibatch accuracy: 79.7%\n",
      "Validation accuracy: 78.5%\n",
      "Minibatch loss at step 1500: 0.497022\n",
      "Minibatch accuracy: 85.9%\n",
      "Validation accuracy: 79.2%\n",
      "Minibatch loss at step 2000: 0.663290\n",
      "Minibatch accuracy: 85.9%\n",
      "Validation accuracy: 79.6%\n",
      "Minibatch loss at step 2500: 0.697769\n",
      "Minibatch accuracy: 80.5%\n",
      "Validation accuracy: 80.6%\n",
      "Minibatch loss at step 3000: 0.756932\n",
      "Minibatch accuracy: 81.2%\n",
      "Validation accuracy: 80.7%\n",
      "Test accuracy: 88.3%\n",
      "shape of weights = (784, 10)\n",
      "weights[0]:\n",
      "Tensor(\"strided_slice_13:0\", shape=(10,), dtype=float32)\n",
      "weights[1]:\n",
      "Tensor(\"strided_slice_14:0\", shape=(10,), dtype=float32)\n",
      "weights[2]:\n",
      "Tensor(\"strided_slice_15:0\", shape=(10,), dtype=float32)\n",
      "weights[3]:\n",
      "Tensor(\"strided_slice_16:0\", shape=(10,), dtype=float32)\n",
      "weights[4]:\n",
      "Tensor(\"strided_slice_17:0\", shape=(10,), dtype=float32)\n",
      "weights[5]:\n",
      "Tensor(\"strided_slice_18:0\", shape=(10,), dtype=float32)\n",
      "weights[6]:\n",
      "Tensor(\"strided_slice_19:0\", shape=(10,), dtype=float32)\n",
      "weights[7]:\n",
      "Tensor(\"strided_slice_20:0\", shape=(10,), dtype=float32)\n",
      "weights[8]:\n",
      "Tensor(\"strided_slice_21:0\", shape=(10,), dtype=float32)\n",
      "weights[9]:\n",
      "Tensor(\"strided_slice_22:0\", shape=(10,), dtype=float32)\n"
     ]
    }
   ],
   "source": [
    "num_steps = 3001\n",
    "\n",
    "with tf.Session(graph=graph) as session:\n",
    "  tf.global_variables_initializer().run()\n",
    "  print(\"Initialized\")\n",
    "  for step in range(num_steps):\n",
    "    # Pick an offset within the training data, which has been randomized.\n",
    "    # Note: we could use better randomization across epochs.\n",
    "    offset = (step * batch_size) % (train_labels.shape[0] - batch_size)\n",
    "    # Generate a minibatch.\n",
    "    batch_data = train_dataset[offset:(offset + batch_size), :]\n",
    "    batch_labels = train_labels[offset:(offset + batch_size), :]\n",
    "    # Prepare a dictionary telling the session where to feed the minibatch.\n",
    "    # The key of the dictionary is the placeholder node of the graph to be fed,\n",
    "    # and the value is the numpy array to feed to it.\n",
    "    feed_dict = {tf_train_dataset : batch_data, tf_train_labels : batch_labels}\n",
    "    _, l, predictions = session.run(\n",
    "      [optimizer, loss, train_prediction], feed_dict=feed_dict)\n",
    "    if (step % 500 == 0):\n",
    "      print(\"Minibatch loss at step %d: %f\" % (step, l))\n",
    "      print(\"Minibatch accuracy: %.1f%%\" % accuracy(predictions, batch_labels))\n",
    "      print(\"Validation accuracy: %.1f%%\" % accuracy(\n",
    "        valid_prediction.eval(), valid_labels))\n",
    "  print(\"Test accuracy: %.1f%%\" % accuracy(test_prediction.eval(), test_labels))\n",
    "\n",
    "# print('shape of weights = ' + str(relufied_weights.get_shape()))\n",
    "# sess = tf.InteractiveSession()\n",
    "# for index in np.arange(10):\n",
    "    # print('weights[%d]:' % (index) )\n",
    "    # print(relufied_weights[index])"
   ]
  },
  {
   "cell_type": "markdown",
   "metadata": {},
   "source": [
    "Solution 2 : w2 x Relu(image x w1+bias1) + bias2\n",
    "---"
   ]
  },
  {
   "cell_type": "code",
   "execution_count": 45,
   "metadata": {},
   "outputs": [
    {
     "name": "stdout",
     "output_type": "stream",
     "text": [
      "shape of cross entropy = (128,)\n",
      "shape of loss = ()\n"
     ]
    }
   ],
   "source": [
    "batch_size = 128\n",
    "num_nodes = 1024\n",
    "\n",
    "graph = tf.Graph()\n",
    "with graph.as_default():\n",
    "\n",
    "  # Input data. For the training data, we use a placeholder that will be fed\n",
    "  # at run time with a training minibatch.\n",
    "  tf_train_dataset = tf.placeholder(tf.float32,\n",
    "                                    shape=(batch_size, image_size * image_size))\n",
    "  tf_train_labels = tf.placeholder(tf.float32, shape=(batch_size, num_labels))\n",
    "  tf_valid_dataset = tf.constant(valid_dataset)\n",
    "  tf_test_dataset = tf.constant(test_dataset)\n",
    "  \n",
    "  # Variables.\n",
    "  weights1 = tf.Variable(tf.truncated_normal([image_size * image_size, num_nodes]))\n",
    "  weights2 = tf.Variable(tf.truncated_normal([num_nodes, num_labels]))\n",
    "  biases1 = tf.Variable(tf.zeros([num_nodes]))\n",
    "  biases2 = tf.Variable(tf.zeros([num_labels]))\n",
    "  # add a relu to the output after the first matrix multiplication\n",
    "  relufied_input = tf.nn.relu(tf.matmul(tf_train_dataset,weights1) + biases1)\n",
    "  \n",
    "  \n",
    "  # Training computation.\n",
    "  logits = tf.matmul(relufied_input, weights2) + biases2\n",
    "  cross_entropy = tf.nn.softmax_cross_entropy_with_logits(labels=tf_train_labels, logits=logits)\n",
    "  loss = tf.reduce_mean(cross_entropy)\n",
    "  print('shape of cross entropy = ' + str(cross_entropy.get_shape()))\n",
    "  print('shape of loss = ' + str(loss.get_shape()))\n",
    "  \n",
    "  # Optimizer.\n",
    "  optimizer = tf.train.GradientDescentOptimizer(0.5).minimize(loss)\n",
    "  \n",
    "  # Predictions for the training, validation, and test data.\n",
    "  train_prediction = tf.nn.softmax(logits)\n",
    "  valid_prediction = tf.nn.softmax(\n",
    "    tf.matmul(tf.nn.relu(tf.matmul(tf_valid_dataset, weights1) + biases1), weights2) + biases2)\n",
    "  test_prediction = tf.nn.softmax(tf.matmul(tf.nn.relu(tf.matmul(tf_test_dataset, weights1) + biases1), weights2) + biases2)"
   ]
  },
  {
   "cell_type": "code",
   "execution_count": 46,
   "metadata": {},
   "outputs": [
    {
     "name": "stdout",
     "output_type": "stream",
     "text": [
      "Initialized\n",
      "Minibatch loss at step 0: 309.046570\n",
      "Minibatch accuracy: 15.6%\n",
      "Validation accuracy: 27.3%\n",
      "Minibatch loss at step 500: 13.921703\n",
      "Minibatch accuracy: 82.0%\n",
      "Validation accuracy: 81.0%\n",
      "Minibatch loss at step 1000: 7.931565\n",
      "Minibatch accuracy: 78.9%\n",
      "Validation accuracy: 80.5%\n",
      "Minibatch loss at step 1500: 6.068065\n",
      "Minibatch accuracy: 89.1%\n",
      "Validation accuracy: 81.1%\n",
      "Minibatch loss at step 2000: 2.987371\n",
      "Minibatch accuracy: 83.6%\n",
      "Validation accuracy: 81.7%\n",
      "Minibatch loss at step 2500: 3.109516\n",
      "Minibatch accuracy: 82.0%\n",
      "Validation accuracy: 82.0%\n",
      "Minibatch loss at step 3000: 1.797323\n",
      "Minibatch accuracy: 87.5%\n",
      "Validation accuracy: 82.2%\n",
      "Test accuracy: 89.5%\n"
     ]
    }
   ],
   "source": [
    "num_steps = 3001\n",
    "\n",
    "with tf.Session(graph=graph) as session:\n",
    "  tf.global_variables_initializer().run()\n",
    "  print(\"Initialized\")\n",
    "  for step in range(num_steps):\n",
    "    # Pick an offset within the training data, which has been randomized.\n",
    "    # Note: we could use better randomization across epochs.\n",
    "    offset = (step * batch_size) % (train_labels.shape[0] - batch_size)\n",
    "    # Generate a minibatch.\n",
    "    batch_data = train_dataset[offset:(offset + batch_size), :]\n",
    "    batch_labels = train_labels[offset:(offset + batch_size), :]\n",
    "    # Prepare a dictionary telling the session where to feed the minibatch.\n",
    "    # The key of the dictionary is the placeholder node of the graph to be fed,\n",
    "    # and the value is the numpy array to feed to it.\n",
    "    feed_dict = {tf_train_dataset : batch_data, tf_train_labels : batch_labels}\n",
    "    _, l, predictions = session.run(\n",
    "      [optimizer, loss, train_prediction], feed_dict=feed_dict)\n",
    "    if (step % 500 == 0):\n",
    "      print(\"Minibatch loss at step %d: %f\" % (step, l))\n",
    "      print(\"Minibatch accuracy: %.1f%%\" % accuracy(predictions, batch_labels))\n",
    "      print(\"Validation accuracy: %.1f%%\" % accuracy(\n",
    "        valid_prediction.eval(), valid_labels))\n",
    "  print(\"Test accuracy: %.1f%%\" % accuracy(test_prediction.eval(), test_labels))\n",
    "\n",
    "# print('shape of weights = ' + str(relufied_weights.get_shape()))\n",
    "# sess = tf.InteractiveSession()\n",
    "# for index in np.arange(10):\n",
    "    # print('weights[%d]:' % (index) )\n",
    "    # print(relufied_weights[index])"
   ]
  },
  {
   "cell_type": "code",
   "execution_count": null,
   "metadata": {
    "collapsed": true
   },
   "outputs": [],
   "source": []
  }
 ],
 "metadata": {
  "colab": {
   "default_view": {},
   "name": "2_fullyconnected.ipynb",
   "provenance": [],
   "version": "0.3.2",
   "views": {}
  },
  "kernelspec": {
   "display_name": "Python 3",
   "language": "python",
   "name": "python3"
  },
  "language_info": {
   "codemirror_mode": {
    "name": "ipython",
    "version": 3
   },
   "file_extension": ".py",
   "mimetype": "text/x-python",
   "name": "python",
   "nbconvert_exporter": "python",
   "pygments_lexer": "ipython3",
   "version": "3.6.2"
  }
 },
 "nbformat": 4,
 "nbformat_minor": 1
}
