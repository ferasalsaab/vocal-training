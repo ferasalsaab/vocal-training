{
 "cells": [
  {
   "cell_type": "markdown",
   "metadata": {
    "toc": "true"
   },
   "source": [
    "# Table of Contents\n",
    " <p><div class=\"lev1 toc-item\"><a href=\"#Init-notebook\" data-toc-modified-id=\"Init-notebook-1\"><span class=\"toc-item-num\">1&nbsp;&nbsp;</span>Init notebook</a></div><div class=\"lev2 toc-item\"><a href=\"#Imports\" data-toc-modified-id=\"Imports-11\"><span class=\"toc-item-num\">1.1&nbsp;&nbsp;</span>Imports</a></div><div class=\"lev2 toc-item\"><a href=\"#Rec\" data-toc-modified-id=\"Rec-12\"><span class=\"toc-item-num\">1.2&nbsp;&nbsp;</span>Rec</a></div><div class=\"lev2 toc-item\"><a href=\"#Wav-to-features-function\" data-toc-modified-id=\"Wav-to-features-function-13\"><span class=\"toc-item-num\">1.3&nbsp;&nbsp;</span>Wav to features function</a></div><div class=\"lev3 toc-item\"><a href=\"#Extract-features-from-wav-file\" data-toc-modified-id=\"Extract-features-from-wav-file-131\"><span class=\"toc-item-num\">1.3.1&nbsp;&nbsp;</span>Extract features from wav file</a></div><div class=\"lev3 toc-item\"><a href=\"#Extract-features-from-all-files\" data-toc-modified-id=\"Extract-features-from-all-files-132\"><span class=\"toc-item-num\">1.3.2&nbsp;&nbsp;</span>Extract features from all files</a></div><div class=\"lev3 toc-item\"><a href=\"#Format-features-for-pickling\" data-toc-modified-id=\"Format-features-for-pickling-133\"><span class=\"toc-item-num\">1.3.3&nbsp;&nbsp;</span>Format features for pickling</a></div><div class=\"lev3 toc-item\"><a href=\"#Save-the-pickle\" data-toc-modified-id=\"Save-the-pickle-134\"><span class=\"toc-item-num\">1.3.4&nbsp;&nbsp;</span>Save the pickle</a></div><div class=\"lev3 toc-item\"><a href=\"#Load-from-pickle\" data-toc-modified-id=\"Load-from-pickle-135\"><span class=\"toc-item-num\">1.3.5&nbsp;&nbsp;</span>Load from pickle</a></div><div class=\"lev3 toc-item\"><a href=\"#Visualize-the-data\" data-toc-modified-id=\"Visualize-the-data-136\"><span class=\"toc-item-num\">1.3.6&nbsp;&nbsp;</span>Visualize the data</a></div>"
   ]
  },
  {
   "cell_type": "markdown",
   "metadata": {
    "collapsed": true
   },
   "source": [
    "# Init notebook\n",
    "## Imports"
   ]
  },
  {
   "cell_type": "code",
   "execution_count": 1,
   "metadata": {
    "collapsed": true
   },
   "outputs": [],
   "source": [
    "#basic stack\n",
    "import sys\n",
    "import pip\n",
    "import pylab\n",
    "import os\n",
    "import logging\n",
    "import numpy as np"
   ]
  },
  {
   "cell_type": "code",
   "execution_count": 2,
   "metadata": {},
   "outputs": [
    {
     "ename": "ModuleNotFoundError",
     "evalue": "No module named 'tensorflow'",
     "output_type": "error",
     "traceback": [
      "\u001b[0;31m---------------------------------------------------------------------------\u001b[0m",
      "\u001b[0;31mModuleNotFoundError\u001b[0m                       Traceback (most recent call last)",
      "\u001b[0;32m<ipython-input-2-185084921395>\u001b[0m in \u001b[0;36m<module>\u001b[0;34m()\u001b[0m\n\u001b[1;32m      8\u001b[0m \u001b[0;32mfrom\u001b[0m \u001b[0msix\u001b[0m\u001b[0;34m.\u001b[0m\u001b[0mmoves\u001b[0m \u001b[0;32mimport\u001b[0m \u001b[0mcPickle\u001b[0m \u001b[0;32mas\u001b[0m \u001b[0mpickle\u001b[0m\u001b[0;34m\u001b[0m\u001b[0m\n\u001b[1;32m      9\u001b[0m \u001b[0;32mfrom\u001b[0m \u001b[0msklearn\u001b[0m \u001b[0;32mimport\u001b[0m \u001b[0mpreprocessing\u001b[0m\u001b[0;34m\u001b[0m\u001b[0m\n\u001b[0;32m---> 10\u001b[0;31m \u001b[0;32mimport\u001b[0m \u001b[0mtensorflow\u001b[0m \u001b[0;32mas\u001b[0m \u001b[0mtf\u001b[0m\u001b[0;34m\u001b[0m\u001b[0m\n\u001b[0m\u001b[1;32m     11\u001b[0m \u001b[0;32mfrom\u001b[0m \u001b[0mpylab\u001b[0m \u001b[0;32mimport\u001b[0m \u001b[0;34m*\u001b[0m\u001b[0;34m\u001b[0m\u001b[0m\n\u001b[1;32m     12\u001b[0m \u001b[0;32mfrom\u001b[0m \u001b[0mskimage\u001b[0m \u001b[0;32mimport\u001b[0m \u001b[0mmeasure\u001b[0m\u001b[0;34m\u001b[0m\u001b[0m\n",
      "\u001b[0;31mModuleNotFoundError\u001b[0m: No module named 'tensorflow'"
     ]
    }
   ],
   "source": [
    "#advanced stack\n",
    "import matplotlib.pyplot as plt\n",
    "from scipy.fftpack import fft\n",
    "from scipy import signal\n",
    "from scipy.signal import stft\n",
    "import scipy.io.wavfile as wav\n",
    "import scipy.signal\n",
    "from six.moves import cPickle as pickle\n",
    "from sklearn import preprocessing\n",
    "import tensorflow as tf\n",
    "from pylab import *\n",
    "from skimage import measure\n",
    "from scipy import ndimage\n",
    "import tensorflow.contrib.keras as keras\n",
    "\n",
    "def install(package):\n",
    "    pip.main(['install', package])"
   ]
  },
  {
   "cell_type": "markdown",
   "metadata": {},
   "source": [
    "## Rec"
   ]
  },
  {
   "cell_type": "code",
   "execution_count": null,
   "metadata": {
    "collapsed": true
   },
   "outputs": [],
   "source": [
    "def is_number(s):\n",
    "    \"\"\" Returns True is string is a number. \"\"\"\n",
    "    return s.replace('.','',1).isdigit()\n",
    "\n",
    "def record_audio(dur=3, fs=44.1e3, ch=1, play=False, save=True):\n",
    "    dir_path = 'sounds/recorded/large'\n",
    "    new_file_path = ''\n",
    "    max_file_int = 0\n",
    "    for f in (f for f in os.listdir(dir_path) if f.endswith('.wav')):\n",
    "        filename = f.split('.')[0]\n",
    "        print('fiename = %s'%(filename))\n",
    "        if(is_number(filename) and int(float(filename)) > max_file_int):\n",
    "            max_file_int = int(filename)\n",
    "    new_file_path = os.path.join(dir_path, (str(max_file_int + 1) + '.wav'))\n",
    "    sd.default.samplerate = fs\n",
    "    sd.default.channels = ch\n",
    "    #myrecording = sd.rec(int(duration * fs), samplerate=fs, channels=2)\n",
    "    myrecording = sd.rec(int(dur * fs), dtype='float32')\n",
    "    sd.wait()\n",
    "    if save:\n",
    "        wav.write(new_file_path, int(fs), myrecording)\n",
    "    if play:\n",
    "        sd.play(myrecording)\n",
    "    return myrecording, new_file_path\n"
   ]
  },
  {
   "cell_type": "code",
   "execution_count": 6,
   "metadata": {},
   "outputs": [
    {
     "name": "stdout",
     "output_type": "stream",
     "text": [
      "fiename = 10\n",
      "fiename = 11\n",
      "fiename = 12\n",
      "fiename = 15\n",
      "fiename = 16\n",
      "fiename = 17\n",
      "fiename = 19\n",
      "fiename = 20\n",
      "fiename = 21\n",
      "fiename = 22\n",
      "fiename = 23\n",
      "fiename = 24\n",
      "fiename = 25\n",
      "fiename = 26\n",
      "fiename = 27\n",
      "fiename = 3\n",
      "fiename = 4\n",
      "fiename = 7\n",
      "fiename = ah_drakht_boht_sohna_lag_reha --- 111\n",
      "fiename = ah_gana_download_kar --- 287\n",
      "fiename = ah_gana_download_kar --- 289\n",
      "fiename = ah_gana_download_kar --- 29\n",
      "fiename = ah_gana_download_kar --- gandasi\n",
      "fiename = balli_ik_kam_kar --- 51\n",
      "fiename = balli_ik_kam_kar --- 53\n",
      "fiename = balli_ik_kamm_kar --- chit razi\n",
      "fiename = input\n",
      "fiename = kuch_nava_try_karo --- balle\n",
      "fiename = kuch_nava_try_karo --- gap\n",
      "fiename = last_sample --- yeah\n",
      "fiename = mausam_vadia_ajj --- 73\n",
      "fiename = mausam_vadia_ajj --- 78\n",
      "fiename = mausam_vadia_ajj --- 79\n",
      "fiename = mausam_vadia_ajj --- iiiiiiiiiiiiiiiiiiiiiiiiiiiiiiiiiiiiiiiii\n",
      "fiename = noise\n",
      "fiename = noise_dhathe_nu_phone_la\n",
      "fiename = tathe_nu_phone_la --- 101\n",
      "fiename = tathe_nu_phone_la --- 102\n",
      "fiename = tathe_nu_phone_la --- 28__________burrrrrrrraaaaa\n",
      "fiename = tathe_nu_phone_la --- 28__________burrrrrrrrpppp\n",
      "fiename = tathe_nu_phone_la --- hello\n"
     ]
    },
    {
     "ename": "NameError",
     "evalue": "name 'sd' is not defined",
     "output_type": "error",
     "traceback": [
      "\u001b[0;31m---------------------------------------------------------------------------\u001b[0m",
      "\u001b[0;31mNameError\u001b[0m                                 Traceback (most recent call last)",
      "\u001b[0;32m<ipython-input-6-a29f5fd24ed3>\u001b[0m in \u001b[0;36m<module>\u001b[0;34m()\u001b[0m\n\u001b[0;32m----> 1\u001b[0;31m \u001b[0mrecording\u001b[0m\u001b[0;34m,\u001b[0m \u001b[0mfile_path\u001b[0m \u001b[0;34m=\u001b[0m \u001b[0mrecord_audio\u001b[0m\u001b[0;34m(\u001b[0m\u001b[0mplay\u001b[0m\u001b[0;34m=\u001b[0m\u001b[0;32mFalse\u001b[0m\u001b[0;34m)\u001b[0m\u001b[0;34m\u001b[0m\u001b[0m\n\u001b[0m\u001b[1;32m      2\u001b[0m \u001b[0mprint\u001b[0m\u001b[0;34m(\u001b[0m\u001b[0;34m'rec shape = %s'\u001b[0m\u001b[0;34m%\u001b[0m\u001b[0mstr\u001b[0m\u001b[0;34m(\u001b[0m\u001b[0mrecording\u001b[0m\u001b[0;34m.\u001b[0m\u001b[0mshape\u001b[0m\u001b[0;34m)\u001b[0m\u001b[0;34m)\u001b[0m\u001b[0;31m## Wav to png function\u001b[0m\u001b[0;34m\u001b[0m\u001b[0m\n\u001b[1;32m      3\u001b[0m \u001b[0;31m# https://docs.scipy.org/doc/scipy/reference/generated/scipy.signal.stft.html\u001b[0m\u001b[0;34m\u001b[0m\u001b[0;34m\u001b[0m\u001b[0m\n\u001b[1;32m      4\u001b[0m \u001b[0;34m\u001b[0m\u001b[0m\n\u001b[1;32m      5\u001b[0m \u001b[0;31m### Convert wav to png\u001b[0m\u001b[0;34m\u001b[0m\u001b[0;34m\u001b[0m\u001b[0m\n",
      "\u001b[0;32m<ipython-input-3-f90784cf3951>\u001b[0m in \u001b[0;36mrecord_audio\u001b[0;34m(dur, fs, ch, play, save)\u001b[0m\n\u001b[1;32m     13\u001b[0m             \u001b[0mmax_file_int\u001b[0m \u001b[0;34m=\u001b[0m \u001b[0mint\u001b[0m\u001b[0;34m(\u001b[0m\u001b[0mfilename\u001b[0m\u001b[0;34m)\u001b[0m\u001b[0;34m\u001b[0m\u001b[0m\n\u001b[1;32m     14\u001b[0m     \u001b[0mnew_file_path\u001b[0m \u001b[0;34m=\u001b[0m \u001b[0mos\u001b[0m\u001b[0;34m.\u001b[0m\u001b[0mpath\u001b[0m\u001b[0;34m.\u001b[0m\u001b[0mjoin\u001b[0m\u001b[0;34m(\u001b[0m\u001b[0mdir_path\u001b[0m\u001b[0;34m,\u001b[0m \u001b[0;34m(\u001b[0m\u001b[0mstr\u001b[0m\u001b[0;34m(\u001b[0m\u001b[0mmax_file_int\u001b[0m \u001b[0;34m+\u001b[0m \u001b[0;36m1\u001b[0m\u001b[0;34m)\u001b[0m \u001b[0;34m+\u001b[0m \u001b[0;34m'.wav'\u001b[0m\u001b[0;34m)\u001b[0m\u001b[0;34m)\u001b[0m\u001b[0;34m\u001b[0m\u001b[0m\n\u001b[0;32m---> 15\u001b[0;31m     \u001b[0msd\u001b[0m\u001b[0;34m.\u001b[0m\u001b[0mdefault\u001b[0m\u001b[0;34m.\u001b[0m\u001b[0msamplerate\u001b[0m \u001b[0;34m=\u001b[0m \u001b[0mfs\u001b[0m\u001b[0;34m\u001b[0m\u001b[0m\n\u001b[0m\u001b[1;32m     16\u001b[0m     \u001b[0msd\u001b[0m\u001b[0;34m.\u001b[0m\u001b[0mdefault\u001b[0m\u001b[0;34m.\u001b[0m\u001b[0mchannels\u001b[0m \u001b[0;34m=\u001b[0m \u001b[0mch\u001b[0m\u001b[0;34m\u001b[0m\u001b[0m\n\u001b[1;32m     17\u001b[0m     \u001b[0;31m#myrecording = sd.rec(int(duration * fs), samplerate=fs, channels=2)\u001b[0m\u001b[0;34m\u001b[0m\u001b[0;34m\u001b[0m\u001b[0m\n",
      "\u001b[0;31mNameError\u001b[0m: name 'sd' is not defined"
     ]
    }
   ],
   "source": [
    "recording, file_path = record_audio(play=False)\n",
    "print('rec shape = %s'%str(recording.shape))## Wav to png function\n",
    "# https://docs.scipy.org/doc/scipy/reference/generated/scipy.signal.stft.html\n",
    "\n",
    "### Convert wav to png"
   ]
  },
  {
   "cell_type": "markdown",
   "metadata": {},
   "source": [
    "## Wav to features function\n",
    "\n",
    "### Extract features from wav file"
   ]
  },
  {
   "cell_type": "code",
   "execution_count": 4,
   "metadata": {},
   "outputs": [],
   "source": [
    "from pyAudioAnalysis import audioFeatureExtraction as aF\n",
    "from pyAudioAnalysis import audioTrainTest as aT\n",
    "\n",
    "sampling_freq = 44.1e3 # 44khz\n",
    "window_in_ms = 50 # 50ms window\n",
    "window_step_in_ms = 25 # 25ms overlap\n",
    "MS_IN_ONE_SECOND = 1000\n",
    "win = window_in_ms/MS_IN_ONE_SECOND * sampling_freq\n",
    "step = window_step_in_ms/MS_IN_ONE_SECOND * sampling_freq\n",
    "\n",
    "def getStFeatures(signal, Fs=sampling_freq, log = True):\n",
    "  features = aF.stFeatureExtraction(signal=signal, Fs=Fs, Win=win, Step=step)\n",
    "  if log:\n",
    "    print('features shape = %s'%str(features.shape))\n",
    "    print(features)\n",
    "  return features"
   ]
  },
  {
   "cell_type": "code",
   "execution_count": 5,
   "metadata": {},
   "outputs": [
    {
     "data": {
      "text/plain": [
       "2205.0"
      ]
     },
     "execution_count": 5,
     "metadata": {},
     "output_type": "execute_result"
    }
   ],
   "source": [
    "win"
   ]
  },
  {
   "cell_type": "code",
   "execution_count": 68,
   "metadata": {},
   "outputs": [
    {
     "name": "stdout",
     "output_type": "stream",
     "text": [
      "temp_mt_Shape =  (68, 1) (34, 119)\n"
     ]
    }
   ],
   "source": [
    "wave_file_path = '/Users/gundeepsingh/Dropbox/notebook/sounds/recorded/large/tathe_nu_phone_la/1.wav'\n",
    "Fs, x = audioBasicIO.readAudioFile(wave_file_path)\n",
    "# temp_mt_features = aF.stFeatureExtraction(signal=x, Fs=Fs, Win=win, Step=step)\n",
    "temp_mt_features = aF.mtFeatureExtraction(signal=x, Fs=Fs, mtWin=win*119, mtStep=step*119, stWin=win, stStep=step)\n",
    "print(\"temp_mt_Shape = \", temp_mt_features[0].shape,temp_mt_features[1].shape)"
   ]
  },
  {
   "cell_type": "code",
   "execution_count": 8,
   "metadata": {
    "collapsed": true
   },
   "outputs": [],
   "source": [
    "import pyAudioAnalysis as pyaa"
   ]
  },
  {
   "cell_type": "code",
   "execution_count": 6,
   "metadata": {},
   "outputs": [
    {
     "data": {
      "text/plain": [
       "'0.3.5'"
      ]
     },
     "execution_count": 6,
     "metadata": {},
     "output_type": "execute_result"
    }
   ],
   "source": [
    "pyaa.__version__"
   ]
  },
  {
   "cell_type": "markdown",
   "metadata": {},
   "source": [
    "### Extract features from all files"
   ]
  },
  {
   "cell_type": "code",
   "execution_count": 9,
   "metadata": {
    "scrolled": true
   },
   "outputs": [
    {
     "name": "stdout",
     "output_type": "stream",
     "text": [
      "shape of fts = (9, 15, 34, 119)\n",
      "features at innercount, 10 :\n",
      "[[  1.95099819e-02   5.08166969e-02   6.30671506e-02 ...,   1.95099819e-02\n",
      "    3.31215971e-02   2.90381125e-02]\n",
      " [  4.73174782e-03   4.42574545e-03   4.05643226e-03 ...,   2.61673631e-03\n",
      "    3.22592223e-03   4.58932918e-03]\n",
      " [  3.04848202e+00   2.93448058e+00   3.00423723e+00 ...,   3.08455006e+00\n",
      "    2.88329792e+00   2.97150473e+00]\n",
      " ..., \n",
      " [  1.70257813e-01   3.40076012e-02   8.72472037e-02 ...,   1.64082507e-02\n",
      "    2.59605160e-02   1.50394133e-01]\n",
      " [  2.00607850e-03   6.49151648e-03   7.80853279e-03 ...,   1.64966440e-04\n",
      "    9.88491524e-04   3.72389704e-04]\n",
      " [  4.62201384e-02   2.68189860e-02   2.61569012e-02 ...,   4.92229967e-02\n",
      "    5.72811731e-02   5.45315099e-02]]\n",
      "features saved for folder = 0, file = 12\n",
      "just set labels[0] = 0\n",
      "[  0.00000000e+000   1.29074226e-231   2.15861654e-314   2.35704025e-314\n",
      "   2.15860502e-314   2.15804879e-314   2.15802895e-314   2.15813054e-314\n",
      "   2.15818944e-314]\n",
      "features at innercount, 20 :\n",
      "[[  4.99092559e-03   4.53720508e-03   4.53720508e-03 ...,   1.45190563e-02\n",
      "    2.04174229e-02   2.13248639e-02]\n",
      " [  3.72712486e-02   3.97887277e-02   3.73532802e-02 ...,   1.31115508e-02\n",
      "    6.50241036e-03   7.26785811e-03]\n",
      " [  3.18592277e+00   3.22930210e+00   3.25077277e+00 ...,   2.77215847e+00\n",
      "    2.99524000e+00   2.98076283e+00]\n",
      " ..., \n",
      " [  7.66955956e-03   9.20701653e-04   7.98017199e-03 ...,   5.15703984e-02\n",
      "    1.49240236e-02   2.45213006e-02]\n",
      " [  1.89270215e-03   6.22431485e-04   5.23444823e-04 ...,   1.07390896e-03\n",
      "    8.93562052e-04   3.78737159e-03]\n",
      " [  8.01787424e-02   8.03257120e-02   8.08786592e-02 ...,   4.45158217e-02\n",
      "    3.99014665e-02   3.92741807e-02]]\n",
      "features saved for folder = 1, file = 11\n",
      "just set labels[1] = 1\n",
      "[  0.00000000e+000   1.00000000e+000   2.15861654e-314   2.35704025e-314\n",
      "   2.15860502e-314   2.15804879e-314   2.15802895e-314   2.15813054e-314\n",
      "   2.15818944e-314]\n",
      "features at innercount, 30 :\n",
      "[[  2.58620690e-02   3.31215971e-02   3.13067151e-02 ...,   2.22323049e-02\n",
      "    1.49727768e-02   2.31397459e-02]\n",
      " [  7.03949493e-03   4.24308385e-03   5.99061902e-03 ...,   5.50507183e-03\n",
      "    6.15632639e-03   4.25067063e-03]\n",
      " [  2.84883876e+00   3.08095157e+00   2.88195319e+00 ...,   2.93002759e+00\n",
      "    3.09711751e+00   3.07587849e+00]\n",
      " ..., \n",
      " [  1.07055953e-01   1.00515300e-01   2.71074663e-02 ...,   9.32176460e-02\n",
      "    9.25597467e-02   5.88240394e-02]\n",
      " [  7.46628090e-04   9.95761418e-04   2.21958064e-03 ...,   2.05905473e-04\n",
      "    1.02339922e-03   2.43000712e-03]\n",
      " [  4.46794653e-02   4.71256150e-02   5.55239279e-02 ...,   4.97213489e-02\n",
      "    5.93428513e-02   5.78292910e-02]]\n",
      "features saved for folder = 2, file = 11\n",
      "just set labels[2] = 2\n",
      "[  0.00000000e+000   1.00000000e+000   2.00000000e+000   2.35704025e-314\n",
      "   2.15860502e-314   2.15804879e-314   2.15802895e-314   2.15813054e-314\n",
      "   2.15818944e-314]\n",
      "features at innercount, 40 :\n",
      "[[  8.66606171e-02   5.12704174e-02   5.44464610e-02 ...,   3.67513612e-02\n",
      "    4.40108893e-02   4.94555354e-02]\n",
      " [  2.78019369e-03   3.40855058e-03   1.07778765e-02 ...,   1.96736257e-03\n",
      "    2.34310901e-03   2.63980634e-03]\n",
      " [  3.15807014e+00   3.10492546e+00   2.39329102e+00 ...,   3.12547952e+00\n",
      "    3.01400182e+00   3.05479883e+00]\n",
      " ..., \n",
      " [  5.56787021e-02   9.80297466e-02   4.90732521e-02 ...,   1.17227444e-01\n",
      "    3.51317973e-02   9.18972449e-02]\n",
      " [  1.55526041e-03   1.66283845e-03   1.09765578e-02 ...,   6.49629321e-04\n",
      "    1.25614429e-03   2.12533926e-03]\n",
      " [  3.54926422e-02   3.99407789e-02   1.59192225e-02 ...,   4.02303417e-02\n",
      "    3.62176702e-02   4.54546835e-02]]\n",
      "features saved for folder = 3, file = 10\n",
      "just set labels[3] = 3\n",
      "[  0.00000000e+000   1.00000000e+000   2.00000000e+000   3.00000000e+000\n",
      "   2.15860502e-314   2.15804879e-314   2.15802895e-314   2.15813054e-314\n",
      "   2.15818944e-314]\n",
      "features at innercount, 50 :\n",
      "[[  3.72050817e-02   3.62976407e-02   3.40290381e-02 ...,   2.81306715e-02\n",
      "    3.13067151e-02   2.76769510e-02]\n",
      " [  1.36223116e-03   7.87138564e-03   8.80645096e-03 ...,   2.52834535e-03\n",
      "    1.93585394e-03   3.09999225e-03]\n",
      " [  3.01232608e+00   2.45600278e+00   2.59457488e+00 ...,   3.11263839e+00\n",
      "    3.04639280e+00   2.76432611e+00]\n",
      " ..., \n",
      " [  3.23383474e-02   3.11692108e-02   5.55928115e-02 ...,   2.78101065e-02\n",
      "    2.68448535e-02   1.46202207e-02]\n",
      " [  3.67617270e-03   8.12974105e-03   1.14827622e-02 ...,   5.01416086e-04\n",
      "    1.18024373e-03   1.67467002e-04]\n",
      " [  5.42104935e-02   2.06986171e-02   1.60080982e-02 ...,   4.12604238e-02\n",
      "    4.58164296e-02   6.56450813e-02]]\n",
      "features saved for folder = 4, file = 10\n",
      "just set labels[4] = 4\n",
      "[  0.00000000e+000   1.00000000e+000   2.00000000e+000   3.00000000e+000\n",
      "   4.00000000e+000   2.15804879e-314   2.15802895e-314   2.15813054e-314\n",
      "   2.15818944e-314]\n",
      "features at innercount, 60 :\n",
      "[[  2.13248639e-02   2.40471869e-02   3.72050817e-02 ...,   3.08529946e-02\n",
      "    3.26678766e-02   2.72232305e-02]\n",
      " [  8.50886775e-03   6.10202857e-03   7.88082302e-03 ...,   6.95967149e-03\n",
      "    5.68095069e-03   5.39259447e-03]\n",
      " [  2.93564001e+00   3.00563111e+00   2.98249003e+00 ...,   2.86194109e+00\n",
      "    2.67751797e+00   2.96033140e+00]\n",
      " ..., \n",
      " [  1.42591088e-01   5.76288773e-02   4.30618548e-02 ...,   1.35674885e-01\n",
      "    8.15948994e-02   3.68753846e-02]\n",
      " [  1.27756806e-04   1.52346556e-03   7.60644000e-04 ...,   1.67014981e-04\n",
      "    8.71047177e-04   1.05276032e-03]\n",
      " [  4.38137800e-02   4.78511726e-02   4.08749266e-02 ...,   4.38654792e-02\n",
      "    5.83837454e-02   5.67909225e-02]]\n",
      "features saved for folder = 5, file = 12\n",
      "just set labels[5] = 5\n",
      "[  0.00000000e+000   1.00000000e+000   2.00000000e+000   3.00000000e+000\n",
      "   4.00000000e+000   5.00000000e+000   2.15802895e-314   2.15813054e-314\n",
      "   2.15818944e-314]\n",
      "features at innercount, 70 :\n",
      "[[  5.30852995e-02   4.35571688e-02   3.49364791e-02 ...,   2.49546279e-02\n",
      "    2.31397459e-02   3.13067151e-02]\n",
      " [  3.60135054e-03   3.59610849e-03   4.53658781e-03 ...,   3.18269380e-03\n",
      "    3.48941740e-03   4.10859581e-03]\n",
      " [  2.90338277e+00   3.05884509e+00   3.03900174e+00 ...,   3.02293201e+00\n",
      "    2.96278090e+00   2.96822338e+00]\n",
      " ..., \n",
      " [  9.32615576e-02   3.81386079e-02   9.41346282e-02 ...,   2.98651323e-02\n",
      "    4.91516877e-02   7.47507608e-02]\n",
      " [  9.82658981e-04   4.24725817e-03   1.19599541e-03 ...,   1.22832622e-03\n",
      "    1.91613143e-03   5.08991494e-04]\n",
      " [  3.83958814e-02   3.68911612e-02   3.53608467e-02 ...,   5.07383199e-02\n",
      "    4.42336831e-02   4.91279043e-02]]\n",
      "features saved for folder = 6, file = 10\n",
      "just set labels[6] = 6\n",
      "[  0.00000000e+000   1.00000000e+000   2.00000000e+000   3.00000000e+000\n",
      "   4.00000000e+000   5.00000000e+000   6.00000000e+000   2.15813054e-314\n",
      "   2.15818944e-314]\n",
      "features at innercount, 80 :\n",
      "[[  3.03992740e-02   3.17604356e-02   3.13067151e-02 ...,   3.17604356e-02\n",
      "    4.53720508e-02   5.44464610e-02]\n",
      " [  4.61043637e-03   4.85202265e-03   5.61188010e-03 ...,   4.07277601e-03\n",
      "    3.13826565e-03   1.83884088e-03]\n",
      " [  2.98279344e+00   2.98940995e+00   3.02509330e+00 ...,   3.12383939e+00\n",
      "    2.95603534e+00   2.96215250e+00]\n",
      " ..., \n",
      " [  1.01145105e-01   5.10135474e-02   2.08861708e-02 ...,   2.71332320e-02\n",
      "    1.07922333e-02   3.25925041e-02]\n",
      " [  3.47050160e-04   3.53067324e-03   9.28724518e-04 ...,   6.01676214e-04\n",
      "    1.04897578e-03   2.26144436e-03]\n",
      " [  4.11912839e-02   3.42445338e-02   4.94576433e-02 ...,   6.26594779e-02\n",
      "    5.53210056e-02   4.03725459e-02]]\n",
      "features saved for folder = 7, file = 11\n",
      "just set labels[7] = 7\n",
      "[  0.00000000e+000   1.00000000e+000   2.00000000e+000   3.00000000e+000\n",
      "   4.00000000e+000   5.00000000e+000   6.00000000e+000   7.00000000e+000\n",
      "   2.15818944e-314]\n",
      "features at innercount, 90 :\n",
      "[[  6.03448276e-02   5.12704174e-02   5.80762250e-02 ...,   3.72050817e-02\n",
      "    2.94918330e-02   3.03992740e-02]\n",
      " [  2.78299143e-03   3.17032982e-03   4.70899006e-03 ...,   3.29122696e-03\n",
      "    5.67445678e-03   5.97405493e-03]\n",
      " [  3.07815081e+00   3.09146079e+00   2.96484376e+00 ...,   2.78994133e+00\n",
      "    2.57150542e+00   2.63731555e+00]\n",
      " ..., \n",
      " [  1.07830318e-01   7.12393302e-03   4.69557578e-02 ...,   1.61778316e-02\n",
      "    8.47906095e-02   1.05731683e-01]\n",
      " [  2.00285713e-03   4.86464521e-03   6.25714566e-03 ...,   1.67775106e-03\n",
      "    9.81596269e-04   1.78836496e-04]\n",
      " [  3.65720006e-02   5.26737810e-02   2.79081291e-02 ...,   4.41216545e-02\n",
      "    4.80907272e-02   4.35093318e-02]]\n",
      "features saved for folder = 8, file = 10\n",
      "just set labels[8] = 8\n",
      "[ 0.  1.  2.  3.  4.  5.  6.  7.  8.]\n",
      "shape of fts = (9, 1, 34, 119)\n",
      "features saved for folder = 0, file = 1\n",
      "just set labels[0] = 0\n",
      "[  0.00000000e+000   8.00386346e-322   8.05327003e-322   8.10267659e-322\n",
      "   8.15208316e-322   8.20148972e-322   8.25089629e-322   8.30030285e-322\n",
      "   8.34970941e-322]\n",
      "features saved for folder = 1, file = 1\n",
      "just set labels[1] = 1\n",
      "[  0.00000000e+000   1.00000000e+000   8.05327003e-322   8.10267659e-322\n",
      "   8.15208316e-322   8.20148972e-322   8.25089629e-322   8.30030285e-322\n",
      "   8.34970941e-322]\n",
      "features saved for folder = 2, file = 1\n",
      "just set labels[2] = 2\n",
      "[  0.00000000e+000   1.00000000e+000   2.00000000e+000   8.10267659e-322\n",
      "   8.15208316e-322   8.20148972e-322   8.25089629e-322   8.30030285e-322\n",
      "   8.34970941e-322]\n",
      "features saved for folder = 3, file = 1\n",
      "just set labels[3] = 3\n",
      "[  0.00000000e+000   1.00000000e+000   2.00000000e+000   3.00000000e+000\n",
      "   8.15208316e-322   8.20148972e-322   8.25089629e-322   8.30030285e-322\n",
      "   8.34970941e-322]\n",
      "features saved for folder = 4, file = 1\n",
      "just set labels[4] = 4\n",
      "[  0.00000000e+000   1.00000000e+000   2.00000000e+000   3.00000000e+000\n",
      "   4.00000000e+000   8.20148972e-322   8.25089629e-322   8.30030285e-322\n",
      "   8.34970941e-322]\n",
      "features saved for folder = 5, file = 1\n",
      "just set labels[5] = 5\n",
      "[  0.00000000e+000   1.00000000e+000   2.00000000e+000   3.00000000e+000\n",
      "   4.00000000e+000   5.00000000e+000   8.25089629e-322   8.30030285e-322\n",
      "   8.34970941e-322]\n",
      "features saved for folder = 6, file = 1\n",
      "just set labels[6] = 6\n",
      "[  0.00000000e+000   1.00000000e+000   2.00000000e+000   3.00000000e+000\n",
      "   4.00000000e+000   5.00000000e+000   6.00000000e+000   8.30030285e-322\n",
      "   8.34970941e-322]\n",
      "features saved for folder = 7, file = 1\n",
      "just set labels[7] = 7\n",
      "[  0.00000000e+000   1.00000000e+000   2.00000000e+000   3.00000000e+000\n",
      "   4.00000000e+000   5.00000000e+000   6.00000000e+000   7.00000000e+000\n",
      "   8.34970941e-322]\n",
      "features saved for folder = 8, file = 1\n",
      "just set labels[8] = 8\n",
      "[ 0.  1.  2.  3.  4.  5.  6.  7.  8.]\n"
     ]
    }
   ],
   "source": [
    "root_path_large = 'sounds/recorded/large'\n",
    "root_path_small = 'sounds/recorded/small'\n",
    "\n",
    "from pyAudioAnalysis import audioBasicIO\n",
    "\n",
    "def extract_features(root_path, max_files):\n",
    "    folders = (os.path.join(root_path,f) for f in os.listdir(root_path) \n",
    "                  if (os.path.isdir(os.path.join(root_path,f)) and not f.startswith('.')\n",
    "                     and not f.startswith('hawker')))\n",
    "    max_files_in_folder = max_files\n",
    "    num_folders = 9\n",
    "    fts = np.ndarray((num_folders,max_files_in_folder,34,119), dtype=np.float32)\n",
    "    feature_size = np.ndarray((num_folders), dtype=np.int8)\n",
    "    labels = np.ndarray(shape=(num_folders))\n",
    "    print('shape of fts = %s'%str(fts.shape))\n",
    "    count = 0\n",
    "    innercount = 0\n",
    "    for fldr in folders:\n",
    "        file_number = 0\n",
    "        for f in os.listdir(fldr):\n",
    "            if f.endswith('.wav'):\n",
    "              wave_file_path = os.path.join(fldr, f)\n",
    "              if not os.path.isfile(wave_file_path):\n",
    "                raise Exception(\"Input audio file not found!\")\n",
    "              Fs, x = audioBasicIO.readAudioFile(wave_file_path)\n",
    "              features_current = getStFeatures(x, Fs, False)\n",
    "              fts[count,file_number,:] = features_current\n",
    "              file_number = file_number + 1\n",
    "              innercount = innercount + 1\n",
    "              if(innercount % 10 == 0):\n",
    "                print('features at innercount, %s :\\n%s'%(innercount, features_current))\n",
    "        print('features saved for folder = %s, file = %s'%(count, file_number))\n",
    "        feature_size[count] = file_number\n",
    "        labels[count] = count\n",
    "        print('just set labels[%s] = %s'%(count,count))\n",
    "        print(labels)\n",
    "        count = count + 1\n",
    "    return fts,feature_size,labels\n",
    "           \n",
    "features_large,feature_size_large,labels_large = extract_features(root_path_large, max_files = 15)\n",
    "features_small,feature_size_small,labels_small = extract_features(root_path_small, max_files = 1)\n"
   ]
  },
  {
   "cell_type": "code",
   "execution_count": 10,
   "metadata": {},
   "outputs": [
    {
     "data": {
      "text/plain": [
       "array([12, 11, 11, 10, 10, 12, 10, 11, 10], dtype=int8)"
      ]
     },
     "execution_count": 10,
     "metadata": {},
     "output_type": "execute_result"
    }
   ],
   "source": [
    "feature_size_large"
   ]
  },
  {
   "cell_type": "code",
   "execution_count": 7,
   "metadata": {},
   "outputs": [
    {
     "data": {
      "text/plain": [
       "array([ 0.,  1.,  2.,  3.,  4.,  5.,  6.,  7.,  8.])"
      ]
     },
     "execution_count": 7,
     "metadata": {},
     "output_type": "execute_result"
    }
   ],
   "source": [
    "labels_large"
   ]
  },
  {
   "cell_type": "code",
   "execution_count": 11,
   "metadata": {},
   "outputs": [
    {
     "name": "stdout",
     "output_type": "stream",
     "text": [
      "(15, 34, 119)\n",
      "(15, 34, 119)\n",
      "(15, 34, 119)\n",
      "(15, 34, 119)\n",
      "(15, 34, 119)\n",
      "(15, 34, 119)\n",
      "(15, 34, 119)\n",
      "(15, 34, 119)\n",
      "(15, 34, 119)\n"
     ]
    }
   ],
   "source": [
    "for i in range(9):\n",
    "    print(features_large[i].shape)"
   ]
  },
  {
   "cell_type": "markdown",
   "metadata": {},
   "source": [
    "### Format features for pickling"
   ]
  },
  {
   "cell_type": "code",
   "execution_count": 12,
   "metadata": {
    "scrolled": true
   },
   "outputs": [
    {
     "name": "stdout",
     "output_type": "stream",
     "text": [
      "X_train.shape = (77, 34, 119)\n",
      "y_train.shape = (77, 9)\n",
      "X_test.shape = (9, 34, 119)\n",
      "y_test.shape = (9, 9)\n",
      "X_valid.shape = (20, 34, 119)\n",
      "y_valid.shape = (20, 9)\n"
     ]
    }
   ],
   "source": [
    "# for all the wav files, get the features\n",
    "# then convert to pickle format\n",
    "from sklearn.model_selection import train_test_split\n",
    "\n",
    "def format_data(features, labels, feature_size, split=0.0, force = False, grayscale = False):\n",
    "    num_folders = features.shape[0]\n",
    "    num_files = feature_size.sum(0)\n",
    "    dataset = np.ndarray(shape=(num_files, features.shape[2], features.shape[3]))\n",
    "    dataset_labels = np.ndarray(shape=(num_files))\n",
    "    index = 0\n",
    "    for i in range(num_folders):\n",
    "      for j in range(feature_size[i]):\n",
    "        wav_features = features[i,j,...]\n",
    "        dataset[index,:,:] = wav_features\n",
    "        dataset_labels[index] = i\n",
    "        index = index + 1\n",
    "    \n",
    "    # 1-hot encoding\n",
    "    dataset_labels = (np.arange(num_folders) == dataset_labels[:,None]).astype(np.float32)\n",
    "    \n",
    "    # split into train, test\n",
    "    if split > 0:\n",
    "        X_train, X_test, y_train, y_test = train_test_split(\n",
    "          dataset, dataset_labels, test_size=split, random_state=42)\n",
    "        return X_train, X_test, y_train, y_test\n",
    "    else:\n",
    "        return dataset, dataset_labels, None, None\n",
    "\n",
    "\n",
    "X_train, X_valid, y_train, y_valid = format_data(features_large, labels_large, feature_size_large, split=0.2)\n",
    "X_test, y_test, _, _ = format_data(features_small, labels_small, feature_size_small)\n",
    "    \n",
    "print('X_train.shape = %s'%str(X_train.shape))\n",
    "print('y_train.shape = %s'%str(y_train.shape))\n",
    "print('X_test.shape = %s'%str(X_test.shape))\n",
    "print('y_test.shape = %s'%str(y_test.shape))\n",
    "print('X_valid.shape = %s'%str(X_valid.shape))\n",
    "print('y_valid.shape = %s'%str(y_valid.shape))"
   ]
  },
  {
   "cell_type": "markdown",
   "metadata": {},
   "source": [
    "### Save the pickle"
   ]
  },
  {
   "cell_type": "code",
   "execution_count": 16,
   "metadata": {
    "collapsed": true
   },
   "outputs": [],
   "source": [
    "if not 'running_with_paperspace' in globals():\n",
    "    running_with_paperspace = False\n",
    "if not running_with_paperspace:\n",
    "  pickle_file = os.path.join('sounds/', 'extracted_features.pickle')\n",
    "else:\n",
    "  pickle_file = os.path.join('/home/paperspace/Dropbox/notebook/sounds/', 'extracted_features_ps.pickle')\n",
    "\n",
    "try:\n",
    "  f = open(pickle_file, 'wb')\n",
    "  save = {\n",
    "    'X_train': X_train,\n",
    "    'y_train': y_train,\n",
    "    'X_test': X_test,\n",
    "    'y_test': y_test,\n",
    "    'X_valid': X_valid,\n",
    "    'y_valid': y_valid,\n",
    "    }\n",
    "  pickle.dump(save, f, pickle.HIGHEST_PROTOCOL)\n",
    "  f.close()\n",
    "except Exception as e:\n",
    "  print('Unable to save data to', pickle_file, ':', e)\n",
    "  raise"
   ]
  },
  {
   "cell_type": "code",
   "execution_count": 17,
   "metadata": {},
   "outputs": [
    {
     "name": "stdout",
     "output_type": "stream",
     "text": [
      "Compressed pickle size: 3.276142120361328\n"
     ]
    }
   ],
   "source": [
    "statinfo = os.stat(pickle_file)\n",
    "print('Compressed pickle size:', statinfo.st_size/(1024*1024))"
   ]
  },
  {
   "cell_type": "markdown",
   "metadata": {},
   "source": [
    "### Load from pickle"
   ]
  },
  {
   "cell_type": "code",
   "execution_count": 18,
   "metadata": {},
   "outputs": [
    {
     "name": "stdout",
     "output_type": "stream",
     "text": [
      "Training set (77, 34, 119) (77, 9)\n",
      "Validation set (20, 34, 119) (20, 9)\n",
      "Test set (9, 34, 119) (9, 9)\n"
     ]
    }
   ],
   "source": [
    "if not 'running_with_paperspace' in globals():\n",
    "    running_with_paperspace = False\n",
    "if not running_with_paperspace:\n",
    "  pickle_file = os.path.join('sounds/', 'extracted_features.pickle')\n",
    "else:\n",
    "  pickle_file = os.path.join('/home/paperspace/Dropbox/notebook/sounds/', 'extracted_features_ps.pickle')\n",
    "\n",
    "\n",
    "with open(pickle_file, 'rb') as f:\n",
    "  save = pickle.load(f)\n",
    "  X_train = save['X_train']\n",
    "  y_train = save['y_train']\n",
    "  X_test = save['X_test']\n",
    "  y_test = save['y_test']\n",
    "  X_valid = save['X_valid']\n",
    "  y_valid = save['y_valid']\n",
    "  del save  # hint to help gc free up memory\n",
    "  print('Training set', X_train.shape, y_train.shape)\n",
    "  print('Validation set', X_valid.shape, y_valid.shape)\n",
    "  print('Test set', X_test.shape, y_test.shape)"
   ]
  },
  {
   "cell_type": "code",
   "execution_count": 11,
   "metadata": {},
   "outputs": [
    {
     "name": "stdout",
     "output_type": "stream",
     "text": [
      "(119,)\n",
      "(119,)\n",
      "(119,)\n",
      "(119,)\n",
      "(119,)\n",
      "(119,)\n",
      "(119,)\n",
      "(119,)\n",
      "(119,)\n",
      "(119,)\n",
      "(119,)\n",
      "(119,)\n",
      "(119,)\n",
      "(119,)\n",
      "(119,)\n",
      "(119,)\n",
      "(119,)\n",
      "(119,)\n",
      "(119,)\n",
      "(119,)\n",
      "(119,)\n",
      "(119,)\n",
      "(119,)\n",
      "(119,)\n",
      "(119,)\n",
      "(119,)\n",
      "(119,)\n",
      "(119,)\n",
      "(119,)\n",
      "(119,)\n",
      "(119,)\n",
      "(119,)\n",
      "(119,)\n",
      "(119,)\n"
     ]
    }
   ],
   "source": [
    "'''\n",
    "X_train[0].shape\n",
    "for i in range(34):\n",
    "    print(X_train[0][i].shape)\n",
    "'''"
   ]
  },
  {
   "cell_type": "markdown",
   "metadata": {},
   "source": [
    "### Visualize the data"
   ]
  },
  {
   "cell_type": "code",
   "execution_count": 19,
   "metadata": {
    "collapsed": true
   },
   "outputs": [],
   "source": [
    "import matplotlib.pyplot as plt\n",
    "import pandas as pd\n",
    "\n",
    "from sklearn.decomposition import PCA as sklearnPCA\n",
    "from sklearn.discriminant_analysis import LinearDiscriminantAnalysis as LDA\n",
    "from sklearn.datasets.samples_generator import make_blobs\n",
    "\n",
    "from sklearn.manifold import TSNE"
   ]
  },
  {
   "cell_type": "code",
   "execution_count": 20,
   "metadata": {},
   "outputs": [
    {
     "data": {
      "image/png": "[encoded data removed]",
      "text/plain": [
       "<matplotlib.figure.Figure at 0x11c81f438>"
      ]
     },
     "metadata": {},
     "output_type": "display_data"
    }
   ],
   "source": [
    "X, y = make_blobs(n_samples=200, centers=3, n_features=2, random_state=32)\n",
    "plt.scatter(X[:,0], X[:,1], c=y)\n",
    "plt.show()"
   ]
  },
  {
   "cell_type": "code",
   "execution_count": 21,
   "metadata": {},
   "outputs": [
    {
     "name": "stderr",
     "output_type": "stream",
     "text": [
      "/Users/gundeepsingh/Applications/anaconda3/lib/python3.6/site-packages/ipykernel/__main__.py:8: DeprecationWarning: \n",
      ".ix is deprecated. Please use\n",
      ".loc for label based indexing or\n",
      ".iloc for positional indexing\n",
      "\n",
      "See the documentation here:\n",
      "http://pandas.pydata.org/pandas-docs/stable/indexing.html#ix-indexer-is-deprecated\n"
     ]
    }
   ],
   "source": [
    "url = 'https://archive.ics.uci.edu/ml/machine-learning-databases/wine/wine.data'\n",
    "cols =  ['Class', 'Alcohol', 'MalicAcid', 'Ash', 'AlcalinityOfAsh', 'Magnesium', 'TotalPhenols', \n",
    "         'Flavanoids', 'NonflavanoidPhenols', 'Proanthocyanins', 'ColorIntensity', \n",
    "         'Hue', 'OD280/OD315', 'Proline']\n",
    "data = pd.read_csv(url, names=cols)\n",
    "\n",
    "y = data['Class']          # Split off classifications\n",
    "X = data.ix[:, 'Alcohol':] # Split off features"
   ]
  },
  {
   "cell_type": "code",
   "execution_count": 23,
   "metadata": {},
   "outputs": [
    {
     "data": {
      "text/plain": [
       "True"
      ]
     },
     "execution_count": 23,
     "metadata": {},
     "output_type": "execute_result"
    }
   ],
   "source": [
    "X_train.shape\n",
    "np.array_equal(y_train[0],y_train[15])"
   ]
  },
  {
   "cell_type": "code",
   "execution_count": 26,
   "metadata": {
    "collapsed": true
   },
   "outputs": [
    {
     "ename": "KeyError",
     "evalue": "(0, 2)",
     "output_type": "error",
     "traceback": [
      "\u001b[0;31m---------------------------------------------------------------------------\u001b[0m",
      "\u001b[0;31mKeyError\u001b[0m                                  Traceback (most recent call last)",
      "\u001b[0;32m/Users/gundeepsingh/Applications/anaconda3/lib/python3.6/site-packages/pandas/core/indexes/base.py\u001b[0m in \u001b[0;36mget_loc\u001b[0;34m(self, key, method, tolerance)\u001b[0m\n\u001b[1;32m   2441\u001b[0m             \u001b[0;32mtry\u001b[0m\u001b[0;34m:\u001b[0m\u001b[0;34m\u001b[0m\u001b[0m\n\u001b[0;32m-> 2442\u001b[0;31m                 \u001b[0;32mreturn\u001b[0m \u001b[0mself\u001b[0m\u001b[0;34m.\u001b[0m\u001b[0m_engine\u001b[0m\u001b[0;34m.\u001b[0m\u001b[0mget_loc\u001b[0m\u001b[0;34m(\u001b[0m\u001b[0mkey\u001b[0m\u001b[0;34m)\u001b[0m\u001b[0;34m\u001b[0m\u001b[0m\n\u001b[0m\u001b[1;32m   2443\u001b[0m             \u001b[0;32mexcept\u001b[0m \u001b[0mKeyError\u001b[0m\u001b[0;34m:\u001b[0m\u001b[0;34m\u001b[0m\u001b[0m\n",
      "\u001b[0;32mpandas/_libs/index.pyx\u001b[0m in \u001b[0;36mpandas._libs.index.IndexEngine.get_loc (pandas/_libs/index.c:5280)\u001b[0;34m()\u001b[0m\n",
      "\u001b[0;32mpandas/_libs/index.pyx\u001b[0m in \u001b[0;36mpandas._libs.index.IndexEngine.get_loc (pandas/_libs/index.c:5126)\u001b[0;34m()\u001b[0m\n",
      "\u001b[0;32mpandas/_libs/hashtable_class_helper.pxi\u001b[0m in \u001b[0;36mpandas._libs.hashtable.PyObjectHashTable.get_item (pandas/_libs/hashtable.c:20523)\u001b[0;34m()\u001b[0m\n",
      "\u001b[0;32mpandas/_libs/hashtable_class_helper.pxi\u001b[0m in \u001b[0;36mpandas._libs.hashtable.PyObjectHashTable.get_item (pandas/_libs/hashtable.c:20477)\u001b[0;34m()\u001b[0m\n",
      "\u001b[0;31mKeyError\u001b[0m: (0, 2)",
      "\nDuring handling of the above exception, another exception occurred:\n",
      "\u001b[0;31mKeyError\u001b[0m                                  Traceback (most recent call last)",
      "\u001b[0;32m<ipython-input-26-88a82977d406>\u001b[0m in \u001b[0;36m<module>\u001b[0;34m()\u001b[0m\n\u001b[1;32m      1\u001b[0m \u001b[0;31m# three different scatter series so the class labels in the legend are distinct\u001b[0m\u001b[0;34m\u001b[0m\u001b[0;34m\u001b[0m\u001b[0m\n\u001b[0;32m----> 2\u001b[0;31m \u001b[0mplt\u001b[0m\u001b[0;34m.\u001b[0m\u001b[0mscatter\u001b[0m\u001b[0;34m(\u001b[0m\u001b[0mX_train\u001b[0m\u001b[0;34m[\u001b[0m\u001b[0;36m0\u001b[0m\u001b[0;34m,\u001b[0m\u001b[0;36m1\u001b[0m\u001b[0;34m]\u001b[0m\u001b[0;34m,\u001b[0m \u001b[0mX\u001b[0m\u001b[0;34m[\u001b[0m\u001b[0;36m0\u001b[0m\u001b[0;34m,\u001b[0m\u001b[0;36m2\u001b[0m\u001b[0;34m]\u001b[0m\u001b[0;34m,\u001b[0m \u001b[0mlabel\u001b[0m\u001b[0;34m=\u001b[0m\u001b[0;34m'Class 1'\u001b[0m\u001b[0;34m,\u001b[0m \u001b[0mc\u001b[0m\u001b[0;34m=\u001b[0m\u001b[0;34m'red'\u001b[0m\u001b[0;34m)\u001b[0m\u001b[0;34m\u001b[0m\u001b[0m\n\u001b[0m\u001b[1;32m      3\u001b[0m \u001b[0mplt\u001b[0m\u001b[0;34m.\u001b[0m\u001b[0mscatter\u001b[0m\u001b[0;34m(\u001b[0m\u001b[0mX_train\u001b[0m\u001b[0;34m[\u001b[0m\u001b[0;36m1\u001b[0m\u001b[0;34m,\u001b[0m\u001b[0;36m1\u001b[0m\u001b[0;34m]\u001b[0m\u001b[0;34m,\u001b[0m \u001b[0mX\u001b[0m\u001b[0;34m[\u001b[0m\u001b[0;36m1\u001b[0m\u001b[0;34m,\u001b[0m\u001b[0;36m2\u001b[0m\u001b[0;34m]\u001b[0m\u001b[0;34m,\u001b[0m \u001b[0mlabel\u001b[0m\u001b[0;34m=\u001b[0m\u001b[0;34m'Class 2'\u001b[0m\u001b[0;34m,\u001b[0m \u001b[0mc\u001b[0m\u001b[0;34m=\u001b[0m\u001b[0;34m'blue'\u001b[0m\u001b[0;34m)\u001b[0m\u001b[0;34m\u001b[0m\u001b[0m\n\u001b[1;32m      4\u001b[0m \u001b[0mplt\u001b[0m\u001b[0;34m.\u001b[0m\u001b[0mscatter\u001b[0m\u001b[0;34m(\u001b[0m\u001b[0mX_train\u001b[0m\u001b[0;34m[\u001b[0m\u001b[0;36m15\u001b[0m\u001b[0;34m,\u001b[0m\u001b[0;36m1\u001b[0m\u001b[0;34m]\u001b[0m\u001b[0;34m,\u001b[0m \u001b[0mX\u001b[0m\u001b[0;34m[\u001b[0m\u001b[0;36m15\u001b[0m\u001b[0;34m,\u001b[0m\u001b[0;36m2\u001b[0m\u001b[0;34m]\u001b[0m\u001b[0;34m,\u001b[0m \u001b[0mlabel\u001b[0m\u001b[0;34m=\u001b[0m\u001b[0;34m'Class 3'\u001b[0m\u001b[0;34m,\u001b[0m \u001b[0mc\u001b[0m\u001b[0;34m=\u001b[0m\u001b[0;34m'lightgreen'\u001b[0m\u001b[0;34m)\u001b[0m\u001b[0;34m\u001b[0m\u001b[0m\n\u001b[1;32m      5\u001b[0m \u001b[0;34m\u001b[0m\u001b[0m\n",
      "\u001b[0;32m/Users/gundeepsingh/Applications/anaconda3/lib/python3.6/site-packages/pandas/core/frame.py\u001b[0m in \u001b[0;36m__getitem__\u001b[0;34m(self, key)\u001b[0m\n\u001b[1;32m   1962\u001b[0m             \u001b[0;32mreturn\u001b[0m \u001b[0mself\u001b[0m\u001b[0;34m.\u001b[0m\u001b[0m_getitem_multilevel\u001b[0m\u001b[0;34m(\u001b[0m\u001b[0mkey\u001b[0m\u001b[0;34m)\u001b[0m\u001b[0;34m\u001b[0m\u001b[0m\n\u001b[1;32m   1963\u001b[0m         \u001b[0;32melse\u001b[0m\u001b[0;34m:\u001b[0m\u001b[0;34m\u001b[0m\u001b[0m\n\u001b[0;32m-> 1964\u001b[0;31m             \u001b[0;32mreturn\u001b[0m \u001b[0mself\u001b[0m\u001b[0;34m.\u001b[0m\u001b[0m_getitem_column\u001b[0m\u001b[0;34m(\u001b[0m\u001b[0mkey\u001b[0m\u001b[0;34m)\u001b[0m\u001b[0;34m\u001b[0m\u001b[0m\n\u001b[0m\u001b[1;32m   1965\u001b[0m \u001b[0;34m\u001b[0m\u001b[0m\n\u001b[1;32m   1966\u001b[0m     \u001b[0;32mdef\u001b[0m \u001b[0m_getitem_column\u001b[0m\u001b[0;34m(\u001b[0m\u001b[0mself\u001b[0m\u001b[0;34m,\u001b[0m \u001b[0mkey\u001b[0m\u001b[0;34m)\u001b[0m\u001b[0;34m:\u001b[0m\u001b[0;34m\u001b[0m\u001b[0m\n",
      "\u001b[0;32m/Users/gundeepsingh/Applications/anaconda3/lib/python3.6/site-packages/pandas/core/frame.py\u001b[0m in \u001b[0;36m_getitem_column\u001b[0;34m(self, key)\u001b[0m\n\u001b[1;32m   1969\u001b[0m         \u001b[0;31m# get column\u001b[0m\u001b[0;34m\u001b[0m\u001b[0;34m\u001b[0m\u001b[0m\n\u001b[1;32m   1970\u001b[0m         \u001b[0;32mif\u001b[0m \u001b[0mself\u001b[0m\u001b[0;34m.\u001b[0m\u001b[0mcolumns\u001b[0m\u001b[0;34m.\u001b[0m\u001b[0mis_unique\u001b[0m\u001b[0;34m:\u001b[0m\u001b[0;34m\u001b[0m\u001b[0m\n\u001b[0;32m-> 1971\u001b[0;31m             \u001b[0;32mreturn\u001b[0m \u001b[0mself\u001b[0m\u001b[0;34m.\u001b[0m\u001b[0m_get_item_cache\u001b[0m\u001b[0;34m(\u001b[0m\u001b[0mkey\u001b[0m\u001b[0;34m)\u001b[0m\u001b[0;34m\u001b[0m\u001b[0m\n\u001b[0m\u001b[1;32m   1972\u001b[0m \u001b[0;34m\u001b[0m\u001b[0m\n\u001b[1;32m   1973\u001b[0m         \u001b[0;31m# duplicate columns & possible reduce dimensionality\u001b[0m\u001b[0;34m\u001b[0m\u001b[0;34m\u001b[0m\u001b[0m\n",
      "\u001b[0;32m/Users/gundeepsingh/Applications/anaconda3/lib/python3.6/site-packages/pandas/core/generic.py\u001b[0m in \u001b[0;36m_get_item_cache\u001b[0;34m(self, item)\u001b[0m\n\u001b[1;32m   1643\u001b[0m         \u001b[0mres\u001b[0m \u001b[0;34m=\u001b[0m \u001b[0mcache\u001b[0m\u001b[0;34m.\u001b[0m\u001b[0mget\u001b[0m\u001b[0;34m(\u001b[0m\u001b[0mitem\u001b[0m\u001b[0;34m)\u001b[0m\u001b[0;34m\u001b[0m\u001b[0m\n\u001b[1;32m   1644\u001b[0m         \u001b[0;32mif\u001b[0m \u001b[0mres\u001b[0m \u001b[0;32mis\u001b[0m \u001b[0;32mNone\u001b[0m\u001b[0;34m:\u001b[0m\u001b[0;34m\u001b[0m\u001b[0m\n\u001b[0;32m-> 1645\u001b[0;31m             \u001b[0mvalues\u001b[0m \u001b[0;34m=\u001b[0m \u001b[0mself\u001b[0m\u001b[0;34m.\u001b[0m\u001b[0m_data\u001b[0m\u001b[0;34m.\u001b[0m\u001b[0mget\u001b[0m\u001b[0;34m(\u001b[0m\u001b[0mitem\u001b[0m\u001b[0;34m)\u001b[0m\u001b[0;34m\u001b[0m\u001b[0m\n\u001b[0m\u001b[1;32m   1646\u001b[0m             \u001b[0mres\u001b[0m \u001b[0;34m=\u001b[0m \u001b[0mself\u001b[0m\u001b[0;34m.\u001b[0m\u001b[0m_box_item_values\u001b[0m\u001b[0;34m(\u001b[0m\u001b[0mitem\u001b[0m\u001b[0;34m,\u001b[0m \u001b[0mvalues\u001b[0m\u001b[0;34m)\u001b[0m\u001b[0;34m\u001b[0m\u001b[0m\n\u001b[1;32m   1647\u001b[0m             \u001b[0mcache\u001b[0m\u001b[0;34m[\u001b[0m\u001b[0mitem\u001b[0m\u001b[0;34m]\u001b[0m \u001b[0;34m=\u001b[0m \u001b[0mres\u001b[0m\u001b[0;34m\u001b[0m\u001b[0m\n",
      "\u001b[0;32m/Users/gundeepsingh/Applications/anaconda3/lib/python3.6/site-packages/pandas/core/internals.py\u001b[0m in \u001b[0;36mget\u001b[0;34m(self, item, fastpath)\u001b[0m\n\u001b[1;32m   3588\u001b[0m \u001b[0;34m\u001b[0m\u001b[0m\n\u001b[1;32m   3589\u001b[0m             \u001b[0;32mif\u001b[0m \u001b[0;32mnot\u001b[0m \u001b[0misnull\u001b[0m\u001b[0;34m(\u001b[0m\u001b[0mitem\u001b[0m\u001b[0;34m)\u001b[0m\u001b[0;34m:\u001b[0m\u001b[0;34m\u001b[0m\u001b[0m\n\u001b[0;32m-> 3590\u001b[0;31m                 \u001b[0mloc\u001b[0m \u001b[0;34m=\u001b[0m \u001b[0mself\u001b[0m\u001b[0;34m.\u001b[0m\u001b[0mitems\u001b[0m\u001b[0;34m.\u001b[0m\u001b[0mget_loc\u001b[0m\u001b[0;34m(\u001b[0m\u001b[0mitem\u001b[0m\u001b[0;34m)\u001b[0m\u001b[0;34m\u001b[0m\u001b[0m\n\u001b[0m\u001b[1;32m   3591\u001b[0m             \u001b[0;32melse\u001b[0m\u001b[0;34m:\u001b[0m\u001b[0;34m\u001b[0m\u001b[0m\n\u001b[1;32m   3592\u001b[0m                 \u001b[0mindexer\u001b[0m \u001b[0;34m=\u001b[0m \u001b[0mnp\u001b[0m\u001b[0;34m.\u001b[0m\u001b[0marange\u001b[0m\u001b[0;34m(\u001b[0m\u001b[0mlen\u001b[0m\u001b[0;34m(\u001b[0m\u001b[0mself\u001b[0m\u001b[0;34m.\u001b[0m\u001b[0mitems\u001b[0m\u001b[0;34m)\u001b[0m\u001b[0;34m)\u001b[0m\u001b[0;34m[\u001b[0m\u001b[0misnull\u001b[0m\u001b[0;34m(\u001b[0m\u001b[0mself\u001b[0m\u001b[0;34m.\u001b[0m\u001b[0mitems\u001b[0m\u001b[0;34m)\u001b[0m\u001b[0;34m]\u001b[0m\u001b[0;34m\u001b[0m\u001b[0m\n",
      "\u001b[0;32m/Users/gundeepsingh/Applications/anaconda3/lib/python3.6/site-packages/pandas/core/indexes/base.py\u001b[0m in \u001b[0;36mget_loc\u001b[0;34m(self, key, method, tolerance)\u001b[0m\n\u001b[1;32m   2442\u001b[0m                 \u001b[0;32mreturn\u001b[0m \u001b[0mself\u001b[0m\u001b[0;34m.\u001b[0m\u001b[0m_engine\u001b[0m\u001b[0;34m.\u001b[0m\u001b[0mget_loc\u001b[0m\u001b[0;34m(\u001b[0m\u001b[0mkey\u001b[0m\u001b[0;34m)\u001b[0m\u001b[0;34m\u001b[0m\u001b[0m\n\u001b[1;32m   2443\u001b[0m             \u001b[0;32mexcept\u001b[0m \u001b[0mKeyError\u001b[0m\u001b[0;34m:\u001b[0m\u001b[0;34m\u001b[0m\u001b[0m\n\u001b[0;32m-> 2444\u001b[0;31m                 \u001b[0;32mreturn\u001b[0m \u001b[0mself\u001b[0m\u001b[0;34m.\u001b[0m\u001b[0m_engine\u001b[0m\u001b[0;34m.\u001b[0m\u001b[0mget_loc\u001b[0m\u001b[0;34m(\u001b[0m\u001b[0mself\u001b[0m\u001b[0;34m.\u001b[0m\u001b[0m_maybe_cast_indexer\u001b[0m\u001b[0;34m(\u001b[0m\u001b[0mkey\u001b[0m\u001b[0;34m)\u001b[0m\u001b[0;34m)\u001b[0m\u001b[0;34m\u001b[0m\u001b[0m\n\u001b[0m\u001b[1;32m   2445\u001b[0m \u001b[0;34m\u001b[0m\u001b[0m\n\u001b[1;32m   2446\u001b[0m         \u001b[0mindexer\u001b[0m \u001b[0;34m=\u001b[0m \u001b[0mself\u001b[0m\u001b[0;34m.\u001b[0m\u001b[0mget_indexer\u001b[0m\u001b[0;34m(\u001b[0m\u001b[0;34m[\u001b[0m\u001b[0mkey\u001b[0m\u001b[0;34m]\u001b[0m\u001b[0;34m,\u001b[0m \u001b[0mmethod\u001b[0m\u001b[0;34m=\u001b[0m\u001b[0mmethod\u001b[0m\u001b[0;34m,\u001b[0m \u001b[0mtolerance\u001b[0m\u001b[0;34m=\u001b[0m\u001b[0mtolerance\u001b[0m\u001b[0;34m)\u001b[0m\u001b[0;34m\u001b[0m\u001b[0m\n",
      "\u001b[0;32mpandas/_libs/index.pyx\u001b[0m in \u001b[0;36mpandas._libs.index.IndexEngine.get_loc (pandas/_libs/index.c:5280)\u001b[0;34m()\u001b[0m\n",
      "\u001b[0;32mpandas/_libs/index.pyx\u001b[0m in \u001b[0;36mpandas._libs.index.IndexEngine.get_loc (pandas/_libs/index.c:5126)\u001b[0;34m()\u001b[0m\n",
      "\u001b[0;32mpandas/_libs/hashtable_class_helper.pxi\u001b[0m in \u001b[0;36mpandas._libs.hashtable.PyObjectHashTable.get_item (pandas/_libs/hashtable.c:20523)\u001b[0;34m()\u001b[0m\n",
      "\u001b[0;32mpandas/_libs/hashtable_class_helper.pxi\u001b[0m in \u001b[0;36mpandas._libs.hashtable.PyObjectHashTable.get_item (pandas/_libs/hashtable.c:20477)\u001b[0;34m()\u001b[0m\n",
      "\u001b[0;31mKeyError\u001b[0m: (0, 2)"
     ]
    }
   ],
   "source": [
    "# three different scatter series so the class labels in the legend are distinct\n",
    "plt.scatter(X_train[0,1], X[0,2], label='Class 1', c='red')\n",
    "plt.scatter(X_train[1,1], X[1,2], label='Class 2', c='blue')\n",
    "plt.scatter(X_train[15,1], X[15,2], label='Class 3', c='lightgreen')\n",
    "\n",
    "# Prettify the graph\n",
    "plt.legend()\n",
    "plt.xlabel('Dim 1')\n",
    "plt.ylabel('Dim 2')\n",
    "\n",
    "# display\n",
    "plt.show()"
   ]
  },
  {
   "cell_type": "code",
   "execution_count": null,
   "metadata": {
    "collapsed": true
   },
   "outputs": [],
   "source": [
    "from pandas import Series\n",
    "from pandas import DataFrame\n",
    "from pandas import TimeGrouper\n",
    "from matplotlib import pyplot\n",
    "years = DataFrame()\n",
    "for name, group in groups:\n",
    "    years[name.year] = group.values\n",
    "years.plot(subplots=True, legend=False)\n",
    "pyplot.show()"
   ]
  },
  {
   "cell_type": "code",
   "execution_count": 33,
   "metadata": {},
   "outputs": [
    {
     "data": {
      "text/plain": [
       "pandas.core.series.Series"
      ]
     },
     "execution_count": 33,
     "metadata": {},
     "output_type": "execute_result"
    }
   ],
   "source": [
    "type(X[y==2]['Ash'])"
   ]
  },
  {
   "cell_type": "code",
   "execution_count": 14,
   "metadata": {},
   "outputs": [
    {
     "data": {
      "image/png": "[encoded data removed]",
      "text/plain": [
       "<matplotlib.figure.Figure at 0x127270b00>"
      ]
     },
     "metadata": {},
     "output_type": "display_data"
    }
   ],
   "source": [
    "# three different scatter series so the class labels in the legend are distinct\n",
    "plt.scatter(X[y==1]['Flavanoids'], X[y==1]['NonflavanoidPhenols'], label='Class 1', c='red')\n",
    "plt.scatter(X[y==2]['Flavanoids'], X[y==2]['NonflavanoidPhenols'], label='Class 2', c='blue')\n",
    "plt.scatter(X[y==3]['Flavanoids'], X[y==3]['NonflavanoidPhenols'], label='Class 3', c='lightgreen')\n",
    "\n",
    "# Prettify the graph\n",
    "plt.legend()\n",
    "plt.xlabel('Flavanoids')\n",
    "plt.ylabel('NonflavanoidPhenols')\n",
    "\n",
    "# display\n",
    "plt.show()"
   ]
  },
  {
   "cell_type": "code",
   "execution_count": 48,
   "metadata": {},
   "outputs": [
    {
     "ename": "ValueError",
     "evalue": "LinearDiscriminantAnalysis expects at least 2 samples provided in a 2 dimensional array-like input",
     "output_type": "error",
     "traceback": [
      "\u001b[0;31m---------------------------------------------------------------------------\u001b[0m",
      "\u001b[0;31mValueError\u001b[0m                                Traceback (most recent call last)",
      "\u001b[0;32m<ipython-input-48-3410a553908b>\u001b[0m in \u001b[0;36m<module>\u001b[0;34m()\u001b[0m\n\u001b[1;32m      3\u001b[0m \u001b[0;34m\u001b[0m\u001b[0m\n\u001b[1;32m      4\u001b[0m \u001b[0mlda\u001b[0m \u001b[0;34m=\u001b[0m \u001b[0mLDA\u001b[0m\u001b[0;34m(\u001b[0m\u001b[0mn_components\u001b[0m\u001b[0;34m=\u001b[0m\u001b[0;36m2\u001b[0m\u001b[0;34m)\u001b[0m \u001b[0;31m#2-dimensional LDA\u001b[0m\u001b[0;34m\u001b[0m\u001b[0m\n\u001b[0;32m----> 5\u001b[0;31m \u001b[0mlda_transformed\u001b[0m \u001b[0;34m=\u001b[0m \u001b[0mpd\u001b[0m\u001b[0;34m.\u001b[0m\u001b[0mDataFrame\u001b[0m\u001b[0;34m(\u001b[0m\u001b[0mlda\u001b[0m\u001b[0;34m.\u001b[0m\u001b[0mfit_transform\u001b[0m\u001b[0;34m(\u001b[0m\u001b[0mX_norm\u001b[0m\u001b[0;34m,\u001b[0m \u001b[0my_train\u001b[0m\u001b[0;34m)\u001b[0m\u001b[0;34m)\u001b[0m\u001b[0;34m\u001b[0m\u001b[0m\n\u001b[0m\u001b[1;32m      6\u001b[0m \u001b[0;34m\u001b[0m\u001b[0m\n\u001b[1;32m      7\u001b[0m \u001b[0;31m# Plot all three series\u001b[0m\u001b[0;34m\u001b[0m\u001b[0;34m\u001b[0m\u001b[0m\n",
      "\u001b[0;32m/Users/gundeepsingh/Applications/anaconda3/lib/python3.6/site-packages/sklearn/base.py\u001b[0m in \u001b[0;36mfit_transform\u001b[0;34m(self, X, y, **fit_params)\u001b[0m\n\u001b[1;32m    495\u001b[0m         \u001b[0;32melse\u001b[0m\u001b[0;34m:\u001b[0m\u001b[0;34m\u001b[0m\u001b[0m\n\u001b[1;32m    496\u001b[0m             \u001b[0;31m# fit method of arity 2 (supervised transformation)\u001b[0m\u001b[0;34m\u001b[0m\u001b[0;34m\u001b[0m\u001b[0m\n\u001b[0;32m--> 497\u001b[0;31m             \u001b[0;32mreturn\u001b[0m \u001b[0mself\u001b[0m\u001b[0;34m.\u001b[0m\u001b[0mfit\u001b[0m\u001b[0;34m(\u001b[0m\u001b[0mX\u001b[0m\u001b[0;34m,\u001b[0m \u001b[0my\u001b[0m\u001b[0;34m,\u001b[0m \u001b[0;34m**\u001b[0m\u001b[0mfit_params\u001b[0m\u001b[0;34m)\u001b[0m\u001b[0;34m.\u001b[0m\u001b[0mtransform\u001b[0m\u001b[0;34m(\u001b[0m\u001b[0mX\u001b[0m\u001b[0;34m)\u001b[0m\u001b[0;34m\u001b[0m\u001b[0m\n\u001b[0m\u001b[1;32m    498\u001b[0m \u001b[0;34m\u001b[0m\u001b[0m\n\u001b[1;32m    499\u001b[0m \u001b[0;34m\u001b[0m\u001b[0m\n",
      "\u001b[0;32m/Users/gundeepsingh/Applications/anaconda3/lib/python3.6/site-packages/sklearn/discriminant_analysis.py\u001b[0m in \u001b[0;36mfit\u001b[0;34m(self, X, y, store_covariance, tol)\u001b[0m\n\u001b[1;32m    440\u001b[0m                           DeprecationWarning)\n\u001b[1;32m    441\u001b[0m             \u001b[0mself\u001b[0m\u001b[0;34m.\u001b[0m\u001b[0mtol\u001b[0m \u001b[0;34m=\u001b[0m \u001b[0mtol\u001b[0m\u001b[0;34m\u001b[0m\u001b[0m\n\u001b[0;32m--> 442\u001b[0;31m         \u001b[0mX\u001b[0m\u001b[0;34m,\u001b[0m \u001b[0my\u001b[0m \u001b[0;34m=\u001b[0m \u001b[0mcheck_X_y\u001b[0m\u001b[0;34m(\u001b[0m\u001b[0mX\u001b[0m\u001b[0;34m,\u001b[0m \u001b[0my\u001b[0m\u001b[0;34m,\u001b[0m \u001b[0mensure_min_samples\u001b[0m\u001b[0;34m=\u001b[0m\u001b[0;36m2\u001b[0m\u001b[0;34m,\u001b[0m \u001b[0mestimator\u001b[0m\u001b[0;34m=\u001b[0m\u001b[0mself\u001b[0m\u001b[0;34m)\u001b[0m\u001b[0;34m\u001b[0m\u001b[0m\n\u001b[0m\u001b[1;32m    443\u001b[0m         \u001b[0mself\u001b[0m\u001b[0;34m.\u001b[0m\u001b[0mclasses_\u001b[0m \u001b[0;34m=\u001b[0m \u001b[0munique_labels\u001b[0m\u001b[0;34m(\u001b[0m\u001b[0my\u001b[0m\u001b[0;34m)\u001b[0m\u001b[0;34m\u001b[0m\u001b[0m\n\u001b[1;32m    444\u001b[0m \u001b[0;34m\u001b[0m\u001b[0m\n",
      "\u001b[0;32m/Users/gundeepsingh/Applications/anaconda3/lib/python3.6/site-packages/sklearn/utils/validation.py\u001b[0m in \u001b[0;36mcheck_X_y\u001b[0;34m(X, y, accept_sparse, dtype, order, copy, force_all_finite, ensure_2d, allow_nd, multi_output, ensure_min_samples, ensure_min_features, y_numeric, warn_on_dtype, estimator)\u001b[0m\n\u001b[1;32m    519\u001b[0m     X = check_array(X, accept_sparse, dtype, order, copy, force_all_finite,\n\u001b[1;32m    520\u001b[0m                     \u001b[0mensure_2d\u001b[0m\u001b[0;34m,\u001b[0m \u001b[0mallow_nd\u001b[0m\u001b[0;34m,\u001b[0m \u001b[0mensure_min_samples\u001b[0m\u001b[0;34m,\u001b[0m\u001b[0;34m\u001b[0m\u001b[0m\n\u001b[0;32m--> 521\u001b[0;31m                     ensure_min_features, warn_on_dtype, estimator)\n\u001b[0m\u001b[1;32m    522\u001b[0m     \u001b[0;32mif\u001b[0m \u001b[0mmulti_output\u001b[0m\u001b[0;34m:\u001b[0m\u001b[0;34m\u001b[0m\u001b[0m\n\u001b[1;32m    523\u001b[0m         y = check_array(y, 'csr', force_all_finite=True, ensure_2d=False,\n",
      "\u001b[0;32m/Users/gundeepsingh/Applications/anaconda3/lib/python3.6/site-packages/sklearn/utils/validation.py\u001b[0m in \u001b[0;36mcheck_array\u001b[0;34m(array, accept_sparse, dtype, order, copy, force_all_finite, ensure_2d, allow_nd, ensure_min_samples, ensure_min_features, warn_on_dtype, estimator)\u001b[0m\n\u001b[1;32m    387\u001b[0m                     raise ValueError(\"%s expects at least 2 samples provided \"\n\u001b[1;32m    388\u001b[0m                                      \u001b[0;34m\"in a 2 dimensional array-like input\"\u001b[0m\u001b[0;34m\u001b[0m\u001b[0m\n\u001b[0;32m--> 389\u001b[0;31m                                      % estimator_name)\n\u001b[0m\u001b[1;32m    390\u001b[0m                 warnings.warn(\n\u001b[1;32m    391\u001b[0m                     \u001b[0;34m\"Passing 1d arrays as data is deprecated in 0.17 and will \"\u001b[0m\u001b[0;34m\u001b[0m\u001b[0m\n",
      "\u001b[0;31mValueError\u001b[0m: LinearDiscriminantAnalysis expects at least 2 samples provided in a 2 dimensional array-like input"
     ]
    }
   ],
   "source": [
    "num_points = 400\n",
    "\n",
    "tsne = TSNE(perplexity=30, n_components=2, init='pca', n_iter=5000)\n",
    "print('shape of final embeddings:%s',)\n",
    "print(final_embeddings.shape)\n",
    "two_d_embeddings = tsne.fit_transform(final_embeddings[1:num_points+1, :])\n",
    "print('shape of two_d_embeddings:',)\n",
    "print(two_d_embeddings.shape)\n",
    "\n",
    "def plot(embeddings, labels):\n",
    "  assert embeddings.shape[0] >= len(labels), 'More labels than embeddings'\n",
    "  pylab.figure(figsize=(15,15))  # in inches\n",
    "  for i, label in enumerate(labels):\n",
    "    x, y = embeddings[i,:]\n",
    "    pylab.scatter(x, y)\n",
    "    pylab.annotate(label, xy=(x, y), xytext=(5, 2), textcoords='offset points',\n",
    "                   ha='right', va='bottom')\n",
    "  pylab.show()\n",
    "\n",
    "words = [reverse_dictionary[i] for i in range(1, num_points+1)]\n",
    "plot(two_d_embeddings, words)"
   ]
  },
  {
   "cell_type": "code",
   "execution_count": null,
   "metadata": {
    "collapsed": true
   },
   "outputs": [],
   "source": [
    "# feed the features to neural network\n",
    "from tensorflow.contrib.keras import models\n",
    "from tensorflow.contrib.keras import layers\n",
    "from tensorflow.contrib.keras import applications\n",
    "from tensorflow.contrib.keras import preprocessing\n",
    "\n"
   ]
  }
 ],
 "metadata": {
  "kernelspec": {
   "display_name": "Python 3",
   "language": "python",
   "name": "python3"
  },
  "language_info": {
   "codemirror_mode": {
    "name": "ipython",
    "version": 3
   },
   "file_extension": ".py",
   "mimetype": "text/x-python",
   "name": "python",
   "nbconvert_exporter": "python",
   "pygments_lexer": "ipython3",
   "version": "3.6.2"
  },
  "toc": {
   "colors": {
    "hover_highlight": "#DAA520",
    "navigate_num": "#000000",
    "navigate_text": "#333333",
    "running_highlight": "#FF0000",
    "selected_highlight": "#FFD700",
    "sidebar_border": "#EEEEEE",
    "wrapper_background": "#FFFFFF"
   },
   "moveMenuLeft": true,
   "nav_menu": {
    "height": "148px",
    "width": "252px"
   },
   "navigate_menu": true,
   "number_sections": true,
   "sideBar": true,
   "threshold": 4,
   "toc_cell": true,
   "toc_position": {
    "height": "623px",
    "left": "0px",
    "right": "1074px",
    "top": "106px",
    "width": "212px"
   },
   "toc_section_display": "block",
   "toc_window_display": true,
   "widenNotebook": false
  }
 },
 "nbformat": 4,
 "nbformat_minor": 2
}
