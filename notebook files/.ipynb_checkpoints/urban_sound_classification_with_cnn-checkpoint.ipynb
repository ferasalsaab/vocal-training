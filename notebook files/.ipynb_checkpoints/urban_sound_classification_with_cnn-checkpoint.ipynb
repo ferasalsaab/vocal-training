{
 "cells": [
  {
   "cell_type": "code",
   "execution_count": 1,
   "metadata": {
    "collapsed": true
   },
   "outputs": [],
   "source": [
    "import glob\n",
    "import os\n",
    "import librosa\n",
    "import matplotlib.pyplot as plt\n",
    "import tensorflow as tf\n",
    "import numpy as np\n",
    "from tensorflow.contrib.keras import models\n",
    "from tensorflow.contrib.keras import layers\n",
    "from tensorflow.contrib import keras\n",
    "%matplotlib inline\n",
    "plt.style.use('ggplot')\n",
    "\n",
    "plt.rcParams['font.family'] = 'serif'\n",
    "plt.rcParams['font.serif'] = 'Ubuntu'\n",
    "plt.rcParams['font.monospace'] = 'Ubuntu Mono'\n",
    "plt.rcParams['font.size'] = 12\n",
    "plt.rcParams['axes.labelsize'] = 11\n",
    "plt.rcParams['axes.labelweight'] = 'bold'\n",
    "plt.rcParams['axes.titlesize'] = 12\n",
    "plt.rcParams['xtick.labelsize'] = 9\n",
    "plt.rcParams['ytick.labelsize'] = 9\n",
    "plt.rcParams['legend.fontsize'] = 11\n",
    "plt.rcParams['figure.titlesize'] = 13"
   ]
  },
  {
   "cell_type": "code",
   "execution_count": 2,
   "metadata": {
    "collapsed": true
   },
   "outputs": [],
   "source": [
    "def windows(data, window_size):\n",
    "    start = 0\n",
    "    while start < len(data):\n",
    "        yield int(start), int(start + window_size)\n",
    "        start += (window_size / 2)\n",
    "\n",
    "def extract_features(parent_dir,sub_dirs,file_ext=\"*.wav\",bands = 60, frames = 41):\n",
    "    window_size = 512 * (frames - 1)\n",
    "    log_specgrams = []\n",
    "    labels = []\n",
    "    for l, sub_dir in enumerate(sub_dirs):\n",
    "        for fn in glob.glob(os.path.join(parent_dir, sub_dir, file_ext)):\n",
    "            sound_clip,s = librosa.load(fn)\n",
    "            label = fn.split('/')[-1].split('-')[1]\n",
    "            for (start,end) in windows(sound_clip,window_size):\n",
    "                if(len(sound_clip[start:end]) == window_size):\n",
    "                    signal = sound_clip[start:end]\n",
    "                    melspec = librosa.feature.melspectrogram(signal, n_mels = bands)\n",
    "                    logspec = librosa.logamplitude(melspec)\n",
    "                    logspec = logspec.T.flatten()[:, np.newaxis].T\n",
    "                    log_specgrams.append(logspec)\n",
    "                    labels.append(label)\n",
    "            \n",
    "    log_specgrams = np.asarray(log_specgrams).reshape(len(log_specgrams),bands,frames,1)\n",
    "    features = np.concatenate((log_specgrams, np.zeros(np.shape(log_specgrams))), axis = 3)\n",
    "    for i in range(len(features)):\n",
    "        features[i, :, :, 1] = librosa.feature.delta(features[i, :, :, 0])\n",
    "    \n",
    "    return np.array(features), np.array(labels,dtype = np.int) \n",
    "\n",
    "def one_hot_encode(labels):\n",
    "    n_labels = len(labels)\n",
    "    n_unique_labels = len(np.unique(labels))\n",
    "    one_hot_encode = np.zeros((n_labels,n_unique_labels))\n",
    "    one_hot_encode[np.arange(n_labels), labels] = 1\n",
    "    return one_hot_encode"
   ]
  },
  {
   "cell_type": "code",
   "execution_count": 3,
   "metadata": {
    "collapsed": true
   },
   "outputs": [],
   "source": [
    "def extract_single_file_feature(fn, fn2, bands = 25, frames = 41):\n",
    "    window_size = 512 * (frames - 1)\n",
    "    log_specgrams = []\n",
    "    labels = []\n",
    "    sound_clip,s = librosa.load(fn)\n",
    "    label = os.path.basename(os.path.splitext(fn)[0])\n",
    "    count = 1\n",
    "    for (start,end) in windows(sound_clip,window_size):\n",
    "        if(len(sound_clip[start:end]) == window_size):\n",
    "            print('\\nwindow %d shapes:'%count)\n",
    "            signal = sound_clip[start:end]\n",
    "            melspec = librosa.feature.melspectrogram(signal, n_mels = bands)\n",
    "            print('melspec.shape - %s'%str(melspec.shape))\n",
    "            logspec = librosa.logamplitude(melspec)\n",
    "            print('logspec.shape - %s'%str(logspec.shape))\n",
    "            logspec = logspec.T.flatten()[:, np.newaxis].T\n",
    "            print('logspec.shape - %s'%str(logspec.shape))\n",
    "            log_specgrams.append(logspec)\n",
    "            labels.append(label)\n",
    "            count = count + 1\n",
    "            \n",
    "    sound_clip,s = librosa.load(fn2)\n",
    "    label = os.path.basename(os.path.splitext(fn2)[0])\n",
    "    count = 1\n",
    "    for (start,end) in windows(sound_clip,window_size):\n",
    "        if(len(sound_clip[start:end]) == window_size):\n",
    "            print('\\nwindow %d shapes:'%count)\n",
    "            signal = sound_clip[start:end]\n",
    "            melspec = librosa.feature.melspectrogram(signal, n_mels = bands)\n",
    "            print('melspec.shape - %s'%str(melspec.shape))\n",
    "            logspec = librosa.logamplitude(melspec)\n",
    "            print('logspec.shape - %s'%str(logspec.shape))\n",
    "            logspec = logspec.T.flatten()[:, np.newaxis].T\n",
    "            print('logspec.shape - %s'%str(logspec.shape))\n",
    "            log_specgrams.append(logspec)\n",
    "            labels.append(label)\n",
    "            count = count + 1\n",
    "\n",
    "\n",
    "    log_specgrams = np.asarray(log_specgrams).reshape(len(log_specgrams),bands,frames,1)\n",
    "    print('\\nlog_specgrams.shape - %s'%str(log_specgrams.shape))\n",
    "    features = np.concatenate((log_specgrams, np.zeros(np.shape(log_specgrams))), axis = 3)\n",
    "    print('features.shape - %s'%str(features.shape))\n",
    "    print('len of features = %s'%str(len(features)))\n",
    "    for i in range(len(features)):\n",
    "        features[i, :, :, 1] = librosa.feature.delta(features[i, :, :, 0])\n",
    "    print('features.shape - %s'%str(features.shape))\n",
    "    return np.array(features), np.array(labels,dtype = np.int) "
   ]
  },
  {
   "cell_type": "code",
   "execution_count": 36,
   "metadata": {},
   "outputs": [
    {
     "name": "stdout",
     "output_type": "stream",
     "text": [
      "\n",
      "window 1 shapes:\n",
      "melspec.shape - (25, 41)\n",
      "logspec.shape - (25, 41)\n",
      "logspec.shape - (1, 1025)\n",
      "\n",
      "window 2 shapes:\n",
      "melspec.shape - (25, 41)\n",
      "logspec.shape - (25, 41)\n",
      "logspec.shape - (1, 1025)\n",
      "\n",
      "window 3 shapes:\n",
      "melspec.shape - (25, 41)\n",
      "logspec.shape - (25, 41)\n",
      "logspec.shape - (1, 1025)\n",
      "\n",
      "window 4 shapes:\n",
      "melspec.shape - (25, 41)\n",
      "logspec.shape - (25, 41)\n",
      "logspec.shape - (1, 1025)\n",
      "\n",
      "window 5 shapes:\n",
      "melspec.shape - (25, 41)\n",
      "logspec.shape - (25, 41)\n",
      "logspec.shape - (1, 1025)\n",
      "\n",
      "window 1 shapes:\n",
      "melspec.shape - (25, 41)\n",
      "logspec.shape - (25, 41)\n",
      "logspec.shape - (1, 1025)\n",
      "\n",
      "window 2 shapes:\n",
      "melspec.shape - (25, 41)\n",
      "logspec.shape - (25, 41)\n",
      "logspec.shape - (1, 1025)\n",
      "\n",
      "window 3 shapes:\n",
      "melspec.shape - (25, 41)\n",
      "logspec.shape - (25, 41)\n",
      "logspec.shape - (1, 1025)\n",
      "\n",
      "window 4 shapes:\n",
      "melspec.shape - (25, 41)\n",
      "logspec.shape - (25, 41)\n",
      "logspec.shape - (1, 1025)\n",
      "\n",
      "window 5 shapes:\n",
      "melspec.shape - (25, 41)\n",
      "logspec.shape - (25, 41)\n",
      "logspec.shape - (1, 1025)\n",
      "\n",
      "log_specgrams.shape - (10, 25, 41, 1)\n",
      "features.shape - (10, 25, 41, 2)\n",
      "len of features = 10\n",
      "features.shape - (10, 25, 41, 2)\n"
     ]
    }
   ],
   "source": [
    "ft, lb = extract_single_file_feature('/Users/Gundeep/Dropbox/notebook/sounds/recorded/large/ah_drakht_boht_sohna_lag_reha/1.wav','/Users/Gundeep/Dropbox/notebook/sounds/recorded/large/ah_drakht_boht_sohna_lag_reha/3.wav')"
   ]
  },
  {
   "cell_type": "code",
   "execution_count": 37,
   "metadata": {},
   "outputs": [
    {
     "data": {
      "text/plain": [
       "array([1, 1, 1, 1, 1, 3, 3, 3, 3, 3])"
      ]
     },
     "execution_count": 37,
     "metadata": {},
     "output_type": "execute_result"
    }
   ],
   "source": [
    "lb"
   ]
  },
  {
   "cell_type": "code",
   "execution_count": 6,
   "metadata": {
    "collapsed": true
   },
   "outputs": [],
   "source": [
    "parent_dir = '/home/paperspace/Documents/Projects/Urban Sound Classification/UrbanSound8K/audio/'\n",
    "sub_dirs= ['fold1','fold2']\n",
    "features,labels = extract_features(parent_dir,sub_dirs)\n",
    "labels = one_hot_encode(labels)"
   ]
  },
  {
   "cell_type": "markdown",
   "metadata": {},
   "source": [
    "### Dump to pickle"
   ]
  },
  {
   "cell_type": "code",
   "execution_count": 7,
   "metadata": {
    "collapsed": true
   },
   "outputs": [],
   "source": [
    "rnd_indices = np.random.rand(len(labels)) < 0.70\n",
    "\n",
    "train_x = features[rnd_indices]\n",
    "train_y = labels[rnd_indices]\n",
    "test_x = features[~rnd_indices]\n",
    "test_y = labels[~rnd_indices]"
   ]
  },
  {
   "cell_type": "code",
   "execution_count": 9,
   "metadata": {
    "collapsed": true
   },
   "outputs": [],
   "source": [
    "# dump to pickle\n",
    "if os.environ['HOME'] == '/Users/Gundeep':\n",
    "    pickle_filename = 'urban_pickle_cnn.pickle'\n",
    "else:\n",
    "    pickle_filename = '/home/paperspace/Documents/Projects/Urban Sound Classification/urban_pickle_cnn.pickle'\n",
    "\n",
    "pickle_dump = {'train_x' : train_x,\n",
    "               'train_y' : train_y,\n",
    "               'test_x' : test_x,\n",
    "               'test_y' : test_y}\n",
    "import pickle\n",
    "try:\n",
    "  with open(pickle_filename, 'wb') as f:\n",
    "    pickle.dump(pickle_dump, f, pickle.HIGHEST_PROTOCOL)\n",
    "except Exception as e:\n",
    "  print('Unable to save data to', pickle_filename, ':', e)"
   ]
  },
  {
   "cell_type": "markdown",
   "metadata": {},
   "source": [
    "### Load from pickle"
   ]
  },
  {
   "cell_type": "code",
   "execution_count": 3,
   "metadata": {
    "collapsed": true
   },
   "outputs": [],
   "source": [
    "# load from pickle\n",
    "import pickle\n",
    "if os.environ['HOME'] == '/Users/Gundeep':\n",
    "    pickle_filename = 'urban_pickle_cnn.pickle'\n",
    "else:\n",
    "    pickle_filename = '/home/paperspace/Documents/Projects/Urban Sound Classification/urban_pickle_cnn.pickle'\n",
    "pickle_dump = {}\n",
    "try:\n",
    "  with open(pickle_filename, 'rb') as f:\n",
    "    pickle_dump = pickle.load(f)\n",
    "except Exception as e:\n",
    "  print('Unable to load pickle', pickle_filename, ':', e)"
   ]
  },
  {
   "cell_type": "code",
   "execution_count": 5,
   "metadata": {
    "collapsed": true
   },
   "outputs": [],
   "source": [
    "train_x = pickle_dump['train_x']\n",
    "train_y = pickle_dump['train_y']\n",
    "test_x = pickle_dump['test_x']\n",
    "test_y = pickle_dump['test_y']"
   ]
  },
  {
   "cell_type": "code",
   "execution_count": 6,
   "metadata": {},
   "outputs": [
    {
     "name": "stdout",
     "output_type": "stream",
     "text": [
      "train_x:(7594, 60, 41, 2)\n",
      "train_y(7594, 10)\n",
      "test_x(3240, 60, 41, 2)\n",
      "test_y:(3240, 10)\n"
     ]
    }
   ],
   "source": [
    "print('train_x:%s'%str(train_x.shape))\n",
    "print('train_y%s'%str(train_y.shape))\n",
    "print('test_x%s'%str(test_x.shape))\n",
    "print('test_y:%s'%str(test_y.shape))"
   ]
  },
  {
   "cell_type": "markdown",
   "metadata": {},
   "source": [
    "### Create neural net"
   ]
  },
  {
   "cell_type": "code",
   "execution_count": 12,
   "metadata": {
    "collapsed": true
   },
   "outputs": [],
   "source": [
    "# keras class shorthands\n",
    "Sequential = models.Sequential\n",
    "Dense = layers.Dense\n",
    "Conv2D = layers.Conv2D"
   ]
  },
  {
   "cell_type": "code",
   "execution_count": 19,
   "metadata": {
    "collapsed": true
   },
   "outputs": [],
   "source": [
    "frames = 41\n",
    "bands = 60\n",
    "\n",
    "feature_size = 2460 #60x41\n",
    "num_classes = 10\n",
    "num_channels = 2\n",
    "epochs = 2000\n",
    "\n",
    "batch_size = 50\n",
    "kernel_size = 30\n",
    "depth = 20\n",
    "num_hidden = 200\n",
    "\n",
    "learning_rate = 0.01\n",
    "training_iterations = 2000"
   ]
  },
  {
   "cell_type": "code",
   "execution_count": 14,
   "metadata": {},
   "outputs": [
    {
     "data": {
      "text/plain": [
       "(60, 41, 2)"
      ]
     },
     "execution_count": 14,
     "metadata": {},
     "output_type": "execute_result"
    }
   ],
   "source": [
    "train_x.shape[1:]"
   ]
  },
  {
   "cell_type": "code",
   "execution_count": 15,
   "metadata": {
    "collapsed": true
   },
   "outputs": [],
   "source": [
    "model = Sequential()\n",
    "model.add(Conv2D(depth, (5,5), input_shape=train_x.shape[1:], activation='relu', padding='same'))\n",
    "model.add(layers.Flatten())\n",
    "model.add(Dense(num_hidden, activation='sigmoid'))\n",
    "model.add(Dense(num_classes, activation='softmax'))"
   ]
  },
  {
   "cell_type": "code",
   "execution_count": 16,
   "metadata": {
    "collapsed": true
   },
   "outputs": [],
   "source": [
    "opt = keras.optimizers.Adam(lr=learning_rate)#, decay=1e-6)"
   ]
  },
  {
   "cell_type": "code",
   "execution_count": 17,
   "metadata": {
    "collapsed": true
   },
   "outputs": [],
   "source": [
    "model.compile(loss='categorical_crossentropy', optimizer=opt, metrics=['accuracy'])"
   ]
  },
  {
   "cell_type": "markdown",
   "metadata": {},
   "source": [
    "### setup file logger"
   ]
  },
  {
   "cell_type": "code",
   "execution_count": 16,
   "metadata": {},
   "outputs": [
    {
     "name": "stderr",
     "output_type": "stream",
     "text": [
      "Using TensorFlow backend.\n"
     ]
    }
   ],
   "source": [
    "from keras.callbacks import CSVLogger\n",
    "csv_logger = CSVLogger('log.csv', append=True, separator=';')"
   ]
  },
  {
   "cell_type": "code",
   "execution_count": null,
   "metadata": {},
   "outputs": [
    {
     "name": "stdout",
     "output_type": "stream",
     "text": [
      "Train on 7594 samples, validate on 3240 samples\n",
      "Epoch 1/2000\n",
      "7594/7594 [==============================] - 3s - loss: 2.0368 - acc: 0.2260 - val_loss: 2.0287 - val_acc: 0.2265\n",
      "Epoch 2/2000\n",
      "7594/7594 [==============================] - 3s - loss: 2.0430 - acc: 0.2278 - val_loss: 2.1267 - val_acc: 0.2373\n",
      "Epoch 3/2000\n",
      "7594/7594 [==============================] - 3s - loss: 2.0435 - acc: 0.2235 - val_loss: 2.0975 - val_acc: 0.2127\n",
      "Epoch 4/2000\n",
      "7594/7594 [==============================] - 3s - loss: 2.0504 - acc: 0.2270 - val_loss: 2.0927 - val_acc: 0.2114\n",
      "Epoch 5/2000\n",
      "7594/7594 [==============================] - 3s - loss: 2.0500 - acc: 0.2262 - val_loss: 2.1006 - val_acc: 0.2114\n",
      "Epoch 6/2000\n",
      "7594/7594 [==============================] - 3s - loss: 2.0456 - acc: 0.2308 - val_loss: 2.1200 - val_acc: 0.2201\n",
      "Epoch 7/2000\n",
      "7594/7594 [==============================] - 3s - loss: 2.0336 - acc: 0.2252 - val_loss: 2.0614 - val_acc: 0.2102\n",
      "Epoch 8/2000\n",
      "7594/7594 [==============================] - 3s - loss: 2.0371 - acc: 0.2348 - val_loss: 2.1025 - val_acc: 0.2185\n",
      "Epoch 9/2000\n",
      "7594/7594 [==============================] - 3s - loss: 2.0329 - acc: 0.2273 - val_loss: 2.0860 - val_acc: 0.2065\n",
      "Epoch 10/2000\n",
      "7594/7594 [==============================] - 3s - loss: 2.0363 - acc: 0.2228 - val_loss: 2.0623 - val_acc: 0.2435\n",
      "Epoch 11/2000\n",
      "7594/7594 [==============================] - 3s - loss: 2.0373 - acc: 0.2353 - val_loss: 2.0637 - val_acc: 0.2420\n",
      "Epoch 12/2000\n",
      "7594/7594 [==============================] - 3s - loss: 2.0542 - acc: 0.2253 - val_loss: 2.0382 - val_acc: 0.2253\n",
      "Epoch 13/2000\n",
      "7594/7594 [==============================] - 3s - loss: 2.0346 - acc: 0.2273 - val_loss: 2.0855 - val_acc: 0.2123\n",
      "Epoch 14/2000\n",
      "7594/7594 [==============================] - 3s - loss: 2.0429 - acc: 0.2240 - val_loss: 2.1576 - val_acc: 0.2056\n",
      "Epoch 15/2000\n",
      "7594/7594 [==============================] - 3s - loss: 2.0371 - acc: 0.2306 - val_loss: 2.0276 - val_acc: 0.2444\n",
      "Epoch 16/2000\n",
      "7594/7594 [==============================] - 3s - loss: 2.0400 - acc: 0.2307 - val_loss: 2.0730 - val_acc: 0.2198\n",
      "Epoch 17/2000\n",
      "7594/7594 [==============================] - 3s - loss: 2.0388 - acc: 0.2247 - val_loss: 2.0425 - val_acc: 0.2435\n",
      "Epoch 18/2000\n",
      "7594/7594 [==============================] - 3s - loss: 2.0522 - acc: 0.2204 - val_loss: 2.0960 - val_acc: 0.2358\n",
      "Epoch 19/2000\n",
      "7594/7594 [==============================] - 3s - loss: 2.0490 - acc: 0.2324 - val_loss: 2.0948 - val_acc: 0.2377\n",
      "Epoch 20/2000\n",
      "7594/7594 [==============================] - 3s - loss: 2.0357 - acc: 0.2314 - val_loss: 2.0439 - val_acc: 0.2059\n",
      "Epoch 21/2000\n",
      "7594/7594 [==============================] - 3s - loss: 2.0329 - acc: 0.2301 - val_loss: 2.0501 - val_acc: 0.2432\n",
      "Epoch 22/2000\n",
      "7594/7594 [==============================] - 3s - loss: 2.0367 - acc: 0.2354 - val_loss: 2.0036 - val_acc: 0.2432\n",
      "Epoch 23/2000\n",
      "7594/7594 [==============================] - 3s - loss: 2.0420 - acc: 0.2353 - val_loss: 2.0182 - val_acc: 0.2377\n",
      "Epoch 24/2000\n",
      "7594/7594 [==============================] - 3s - loss: 2.0633 - acc: 0.2219 - val_loss: 2.0681 - val_acc: 0.2185\n",
      "Epoch 25/2000\n",
      "7594/7594 [==============================] - 3s - loss: 2.0292 - acc: 0.2299 - val_loss: 2.0163 - val_acc: 0.2247\n",
      "Epoch 26/2000\n",
      "7594/7594 [==============================] - 3s - loss: 2.0407 - acc: 0.2287 - val_loss: 2.0711 - val_acc: 0.2102\n",
      "Epoch 27/2000\n",
      "7594/7594 [==============================] - 3s - loss: 2.0311 - acc: 0.2291 - val_loss: 2.0321 - val_acc: 0.2373\n",
      "Epoch 28/2000\n",
      "7594/7594 [==============================] - 3s - loss: 2.0349 - acc: 0.2333 - val_loss: 2.1152 - val_acc: 0.2059\n",
      "Epoch 29/2000\n",
      "7594/7594 [==============================] - 3s - loss: 2.0443 - acc: 0.2301 - val_loss: 2.0325 - val_acc: 0.2201\n",
      "Epoch 30/2000\n",
      "7594/7594 [==============================] - 3s - loss: 2.0408 - acc: 0.2289 - val_loss: 2.1187 - val_acc: 0.2188\n",
      "Epoch 31/2000\n",
      "7594/7594 [==============================] - 3s - loss: 2.0474 - acc: 0.2256 - val_loss: 2.0353 - val_acc: 0.2420\n",
      "Epoch 32/2000\n",
      "7594/7594 [==============================] - 3s - loss: 2.0429 - acc: 0.2275 - val_loss: 2.1206 - val_acc: 0.2182\n",
      "Epoch 33/2000\n",
      "7594/7594 [==============================] - 3s - loss: 2.0669 - acc: 0.2304 - val_loss: 2.0706 - val_acc: 0.2185\n",
      "Epoch 34/2000\n",
      "7594/7594 [==============================] - 3s - loss: 2.0622 - acc: 0.2285 - val_loss: 2.0413 - val_acc: 0.2435\n",
      "Epoch 35/2000\n",
      "7594/7594 [==============================] - 3s - loss: 2.0474 - acc: 0.2185 - val_loss: 2.0480 - val_acc: 0.2278\n",
      "Epoch 36/2000\n",
      "7594/7594 [==============================] - 3s - loss: 2.0520 - acc: 0.2221 - val_loss: 2.0523 - val_acc: 0.2278\n",
      "Epoch 37/2000\n",
      "7594/7594 [==============================] - 3s - loss: 2.0356 - acc: 0.2290 - val_loss: 2.1136 - val_acc: 0.2123\n",
      "Epoch 38/2000\n",
      "7594/7594 [==============================] - 3s - loss: 2.0407 - acc: 0.2266 - val_loss: 2.0301 - val_acc: 0.2435\n",
      "Epoch 39/2000\n",
      "7594/7594 [==============================] - 3s - loss: 2.0392 - acc: 0.2302 - val_loss: 2.0432 - val_acc: 0.2420\n",
      "Epoch 40/2000\n",
      "7594/7594 [==============================] - 3s - loss: 2.0368 - acc: 0.2268 - val_loss: 2.0518 - val_acc: 0.2198\n",
      "Epoch 41/2000\n",
      "7594/7594 [==============================] - 3s - loss: 2.0371 - acc: 0.2239 - val_loss: 2.0378 - val_acc: 0.2420\n",
      "Epoch 42/2000\n",
      "7594/7594 [==============================] - 3s - loss: 2.0318 - acc: 0.2354 - val_loss: 2.0569 - val_acc: 0.2111\n",
      "Epoch 43/2000\n",
      "7594/7594 [==============================] - 3s - loss: 2.0393 - acc: 0.2243 - val_loss: 2.0586 - val_acc: 0.2117\n",
      "Epoch 44/2000\n",
      "7594/7594 [==============================] - 3s - loss: 2.0409 - acc: 0.2311 - val_loss: 2.0657 - val_acc: 0.2432\n",
      "Epoch 45/2000\n",
      "7594/7594 [==============================] - 3s - loss: 2.0438 - acc: 0.2295 - val_loss: 2.1602 - val_acc: 0.2191\n",
      "Epoch 46/2000\n",
      "7594/7594 [==============================] - 3s - loss: 2.0540 - acc: 0.2281 - val_loss: 2.1105 - val_acc: 0.2444\n",
      "Epoch 47/2000\n",
      "7594/7594 [==============================] - 3s - loss: 2.0490 - acc: 0.2252 - val_loss: 2.0782 - val_acc: 0.2188\n",
      "Epoch 48/2000\n",
      "7594/7594 [==============================] - 3s - loss: 2.0516 - acc: 0.2340 - val_loss: 2.0744 - val_acc: 0.2188\n",
      "Epoch 49/2000\n",
      "7594/7594 [==============================] - 3s - loss: 2.0500 - acc: 0.2248 - val_loss: 2.0642 - val_acc: 0.2102\n",
      "Epoch 50/2000\n",
      "7594/7594 [==============================] - 3s - loss: 2.0442 - acc: 0.2232 - val_loss: 2.0513 - val_acc: 0.2377\n",
      "Epoch 51/2000\n",
      "7594/7594 [==============================] - 3s - loss: 2.0585 - acc: 0.2249 - val_loss: 2.0423 - val_acc: 0.2231\n",
      "Epoch 52/2000\n",
      "7594/7594 [==============================] - 3s - loss: 2.0327 - acc: 0.2235 - val_loss: 2.0714 - val_acc: 0.2432\n",
      "Epoch 53/2000\n",
      "7594/7594 [==============================] - 3s - loss: 2.0455 - acc: 0.2304 - val_loss: 2.0498 - val_acc: 0.2191\n",
      "Epoch 54/2000\n",
      "7594/7594 [==============================] - 3s - loss: 2.0538 - acc: 0.2200 - val_loss: 2.0860 - val_acc: 0.2185\n",
      "Epoch 55/2000\n",
      "7594/7594 [==============================] - 3s - loss: 2.0505 - acc: 0.2215 - val_loss: 2.0154 - val_acc: 0.2444\n",
      "Epoch 56/2000\n",
      "7594/7594 [==============================] - 3s - loss: 2.0636 - acc: 0.2150 - val_loss: 2.0299 - val_acc: 0.2247\n",
      "Epoch 57/2000\n",
      "7594/7594 [==============================] - 3s - loss: 2.0453 - acc: 0.2293 - val_loss: 2.1608 - val_acc: 0.2059\n",
      "Epoch 58/2000\n",
      "7594/7594 [==============================] - 3s - loss: 2.0458 - acc: 0.2266 - val_loss: 2.0845 - val_acc: 0.2253\n",
      "Epoch 59/2000\n",
      "7594/7594 [==============================] - 3s - loss: 2.0584 - acc: 0.2278 - val_loss: 2.0313 - val_acc: 0.2191\n",
      "Epoch 60/2000\n",
      "7594/7594 [==============================] - 3s - loss: 2.0490 - acc: 0.2249 - val_loss: 2.0226 - val_acc: 0.2114\n",
      "Epoch 61/2000\n",
      "7594/7594 [==============================] - 3s - loss: 2.0304 - acc: 0.2224 - val_loss: 2.1593 - val_acc: 0.2185\n",
      "Epoch 62/2000\n",
      "7594/7594 [==============================] - 3s - loss: 2.0376 - acc: 0.2232 - val_loss: 2.0446 - val_acc: 0.1799\n",
      "Epoch 63/2000\n",
      "7594/7594 [==============================] - 3s - loss: 2.0327 - acc: 0.2316 - val_loss: 2.0475 - val_acc: 0.2117\n",
      "Epoch 64/2000\n",
      "7594/7594 [==============================] - 3s - loss: 2.0455 - acc: 0.2277 - val_loss: 2.1336 - val_acc: 0.2068\n",
      "Epoch 65/2000\n",
      "7594/7594 [==============================] - 3s - loss: 2.0394 - acc: 0.2314 - val_loss: 2.1137 - val_acc: 0.2185\n",
      "Epoch 66/2000\n",
      "7594/7594 [==============================] - 3s - loss: 2.0342 - acc: 0.2262 - val_loss: 2.1490 - val_acc: 0.2207\n",
      "Epoch 67/2000\n",
      "3800/7594 [==============>...............] - ETA: 1s - loss: 2.0758 - acc: 0.2158"
     ]
    }
   ],
   "source": [
    "model.fit(train_x, train_y,\n",
    "              batch_size=batch_size,\n",
    "              epochs=epochs,\n",
    "              validation_data=(test_x, test_y),\n",
    "              shuffle=True)"
   ]
  },
  {
   "cell_type": "code",
   "execution_count": null,
   "metadata": {
    "collapsed": true
   },
   "outputs": [],
   "source": []
  }
 ],
 "metadata": {
  "kernelspec": {
   "display_name": "Python 3",
   "language": "python",
   "name": "python3"
  },
  "language_info": {
   "codemirror_mode": {
    "name": "ipython",
    "version": 2
   },
   "file_extension": ".py",
   "mimetype": "text/x-python",
   "name": "python",
   "nbconvert_exporter": "python",
   "pygments_lexer": "ipython2",
   "version": "2.7.6"
  }
 },
 "nbformat": 4,
 "nbformat_minor": 2
}
