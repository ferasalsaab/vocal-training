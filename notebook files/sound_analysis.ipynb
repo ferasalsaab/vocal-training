{
 "cells": [
  {
   "cell_type": "code",
   "execution_count": 1,
   "metadata": {
    "collapsed": true
   },
   "outputs": [],
   "source": [
    "import librosa\n",
    "import os\n",
    "import numpy as np\n",
    "import glob\n",
    "import matplotlib.pyplot as plt\n",
    "import tensorflow as tf\n",
    "from matplotlib.pyplot import specgram\n",
    "%matplotlib inline\n",
    "plt.style.use('ggplot')\n",
    "\n",
    "plt.rcParams['font.family'] = 'serif'\n",
    "plt.rcParams['font.serif'] = 'Ubuntu'\n",
    "plt.rcParams['font.monospace'] = 'Ubuntu Mono'\n",
    "plt.rcParams['font.size'] = 12\n",
    "plt.rcParams['axes.labelsize'] = 11\n",
    "plt.rcParams['axes.labelweight'] = 'bold'\n",
    "plt.rcParams['axes.titlesize'] = 14\n",
    "plt.rcParams['xtick.labelsize'] = 10\n",
    "plt.rcParams['ytick.labelsize'] = 10\n",
    "plt.rcParams['legend.fontsize'] = 11\n",
    "plt.rcParams['figure.titlesize'] = 13"
   ]
  },
  {
   "cell_type": "code",
   "execution_count": 5,
   "metadata": {
    "collapsed": true
   },
   "outputs": [
    {
     "name": "stderr",
     "output_type": "stream",
     "text": [
      "/Users/Gundeep/anaconda3/lib/python3.6/site-packages/librosa/core/pitch.py:145: UserWarning: Trying to estimate tuning from empty frequency set.\n",
      "  warnings.warn('Trying to estimate tuning from empty frequency set.')\n",
      "/Users/Gundeep/anaconda3/lib/python3.6/site-packages/librosa/util/utils.py:1632: RuntimeWarning: invalid value encountered in less\n",
      "  if np.any(X < 0) or np.any(X_ref < 0):\n",
      "/Users/Gundeep/anaconda3/lib/python3.6/site-packages/librosa/util/utils.py:1644: RuntimeWarning: invalid value encountered in maximum\n",
      "  Z = np.maximum(X, X_ref).astype(dtype)\n",
      "/Users/Gundeep/anaconda3/lib/python3.6/site-packages/librosa/util/utils.py:1645: RuntimeWarning: invalid value encountered in less\n",
      "  bad_idx = (Z < np.finfo(dtype).tiny)\n"
     ]
    },
    {
     "name": "stdout",
     "output_type": "stream",
     "text": [
      "Error encountered while parsing file:  UrbanSound8K/audio/fold1/87275-1-2-0.wav\n",
      "lengths - {4.0: 1478, 1.64: 1, 2.61: 1, 1.38: 1, 3.24: 1, 0.52: 1, 3.15: 1, 2.04: 2, 2.59: 1, 2.37: 2, 1.7: 4, 3.08: 2, 0.65: 1, 1.11: 3, 1.03: 3, 1.19: 2, 0.69: 4, 0.49: 3, 0.45: 3, 2.77: 2, 0.25: 2, 0.19: 1, 0.36: 1, 0.31: 1, 0.47: 1, 1.16: 1, 3.45: 1, 1.99: 2, 1.68: 2, 0.88: 2, 0.94: 1, 0.87: 3, 1.01: 3, 0.24: 1, 1.44: 2, 0.21: 2, 2.36: 1, 2.46: 3, 2.87: 1, 3.04: 1, 2.09: 2, 2.53: 1, 2.32: 1, 2.41: 1, 2.54: 2, 3.18: 1, 0.74: 1, 0.55: 1, 0.8: 3, 1.05: 2, 1.95: 1, 0.35: 4, 0.54: 2, 2.6: 1, 0.66: 2, 1.04: 1, 2.71: 1, 2.39: 1, 3.14: 1, 0.96: 2, 1.53: 2, 1.81: 1, 1.28: 2, 1.83: 2, 1.33: 2, 1.93: 2, 1.96: 2, 1.71: 1, 2.08: 1, 3.53: 1, 0.61: 5, 0.39: 3, 1.14: 4, 1.42: 2, 1.32: 2, 1.5: 1, 1.51: 1, 1.35: 1, 1.46: 3, 0.46: 2, 1.09: 2, 0.89: 2, 1.72: 1, 2.25: 2, 1.22: 1, 3.96: 1, 0.63: 2, 3.48: 1, 0.15: 1, 0.05: 1, 0.06: 2, 0.07: 1, 0.11: 1, 1.66: 1, 0.42: 2, 2.3: 1, 1.73: 1, 0.83: 1, 0.37: 4, 0.99: 2, 3.46: 1, 2.84: 2, 1.61: 2, 2.23: 2, 1.98: 1, 1.48: 1, 0.81: 2, 0.5: 2, 1.08: 2, 1.39: 1, 0.44: 2, 0.6: 1, 0.68: 1, 2.65: 1, 2.13: 1, 2.5: 1, 1.15: 1, 0.78: 1, 1.36: 1, 0.91: 1, 0.38: 1, 0.82: 1, 0.1: 1, 0.16: 1, 2.2: 1, 2.11: 1, 1.26: 1, 1.23: 1, 0.56: 2, 2.82: 1, 1.12: 1, 1.06: 2, 1.76: 1, 2.57: 1, 1.17: 2, 1.02: 1, 2.38: 2, 0.13: 1, 0.67: 1, 2.33: 1, 0.27: 1, 0.72: 1, 3.03: 1, 2.06: 1, 1.31: 1, 3.32: 1, 2.05: 1, 2.03: 1, 2.63: 1, 3.02: 1, 2.51: 1, 2.86: 1, 2.7: 1, 2.4: 2, 2.42: 1, 1.89: 3, 1.77: 1, 1.8: 1, 0.71: 1, 0.26: 1, 1.37: 1, 0.53: 2, 0.76: 1, 0.58: 3, 0.64: 1, 0.84: 1, 1.54: 1, 0.51: 2, 0.48: 3, 1.87: 1, 2.17: 1, 0.28: 1, 3.59: 1, 1.43: 1, 3.21: 1, 3.97: 1, 1.91: 1, 2.01: 1, 1.25: 1, 2.21: 1, 2.19: 1, 0.41: 1, 0.2: 1, 0.18: 1, 0.17: 1, 3.82: 1, 3.89: 1, 3.63: 1, 1.2: 1, 3.34: 1, 1.1: 1}\n"
     ]
    }
   ],
   "source": [
    "def extract_feature(file_name):\n",
    "    X, sample_rate = librosa.load(file_name)\n",
    "    duration = round(librosa.get_duration(X, sample_rate),2)\n",
    "    stft = np.abs(librosa.stft(X))\n",
    "    mfccs = np.mean(librosa.feature.mfcc(y=X, sr=sample_rate, n_mfcc=40).T,axis=0)\n",
    "    chroma = np.mean(librosa.feature.chroma_stft(S=stft, sr=sample_rate).T,axis=0) # stft used\n",
    "    mel = np.mean(librosa.feature.melspectrogram(X, sr=sample_rate).T,axis=0)\n",
    "    contrast = np.mean(librosa.feature.spectral_contrast(S=stft, sr=sample_rate).T,axis=0) # stft used\n",
    "    tonnetz = np.mean(librosa.feature.tonnetz(y=librosa.effects.harmonic(X),\n",
    "    sr=sample_rate).T,axis=0)\n",
    "    return mfccs,chroma,mel,contrast,tonnetz,duration\n",
    "\n",
    "def parse_audio_files(parent_dir,sub_dirs,file_ext=\"*.wav\"):\n",
    "    features, labels = np.empty((0,193)), np.empty(0)\n",
    "    lengths = dict()\n",
    "    for label, sub_dir in enumerate(sub_dirs):\n",
    "        for fn in glob.glob(os.path.join(parent_dir, sub_dir, file_ext)):\n",
    "            try:\n",
    "              mfccs, chroma, mel, contrast,tonnetz, duration = extract_feature(fn)\n",
    "              if duration in lengths:\n",
    "                    lengths[duration] = lengths[duration] + 1\n",
    "              else:\n",
    "                    lengths[duration] = 1\n",
    "            except Exception as e:\n",
    "              print(\"Error encountered while parsing file: \", fn)\n",
    "              continue\n",
    "            ext_features = np.hstack([mfccs,chroma,mel,contrast,tonnetz])\n",
    "            features = np.vstack([features,ext_features])\n",
    "            labels = np.append(labels, fn.split('/')[-1].split('-')[1])\n",
    "    return np.array(features), np.array(labels, dtype = np.int),lengths\n",
    "\n",
    "parent_dir = 'UrbanSound8K/audio'\n",
    "tr_sub_dirs = [\"fold1\",\"fold2\"]\n",
    "tr_features, tr_labels, lengths = parse_audio_files(parent_dir,tr_sub_dirs)\n"
   ]
  },
  {
   "cell_type": "code",
   "execution_count": 134,
   "metadata": {},
   "outputs": [
    {
     "name": "stdout",
     "output_type": "stream",
     "text": [
      "(50662,)\n"
     ]
    }
   ],
   "source": [
    "def analyse_file(path):\n",
    "    try:\n",
    "      X, sample_rate = librosa.load(path, mono=False)\n",
    "      print(X.shape)\n",
    "    except Exception as e:\n",
    "      print(\"Error encountered while parsing file: \", path)\n",
    "    return X\n",
    "\n",
    "\n",
    "\n",
    "parent_dir = 'UrbanSound8K/audio'\n",
    "tr_sub_dirs = 'fold1'\n",
    "path = os.path.join(parent_dir,tr_sub_dirs,'9031-3-2-0.wav')\n",
    "# path = '/Users/Gundeep/Music/hona_nai.mp3'\n",
    "x = analyse_file(path)\n",
    "\n"
   ]
  },
  {
   "cell_type": "code",
   "execution_count": 131,
   "metadata": {},
   "outputs": [
    {
     "data": {
      "text/plain": [
       "(2, 1588932)"
      ]
     },
     "execution_count": 131,
     "metadata": {},
     "output_type": "execute_result"
    }
   ],
   "source": [
    "x.shape"
   ]
  },
  {
   "cell_type": "code",
   "execution_count": 64,
   "metadata": {},
   "outputs": [],
   "source": [
    "arr_len = np.empty((len(lengths), 2), dtype = np.int32)\n",
    "arr_len[:,0] = (np.array((list((lengths.keys())))) * 4.0).astype(np.int32)\n",
    "arr_len[:,1] = np.array(list(lengths.values())).astype(np.int32)"
   ]
  },
  {
   "cell_type": "code",
   "execution_count": 87,
   "metadata": {},
   "outputs": [],
   "source": [
    "hist_list = []\n",
    "for ln in range(arr_len.shape[0]):\n",
    "    for times in range(arr_len[ln][1]):\n",
    "        hist_list.append(arr_len[ln][0])"
   ]
  },
  {
   "cell_type": "code",
   "execution_count": 104,
   "metadata": {},
   "outputs": [
    {
     "data": {
      "image/png": "[encoded data removed]",
      "text/plain": [
       "<matplotlib.figure.Figure at 0x1c327a8630>"
      ]
     },
     "metadata": {},
     "output_type": "display_data"
    }
   ],
   "source": [
    "%matplotlib inline\n",
    "bins = [0,1,2,3,4,5,6,7,8,9,10,11,12,13,14,15,16]\n",
    "plt.hist(hist_list, bins, histtype='bar', rwidth=0.8)\n",
    "plt.ylabel('length');"
   ]
  },
  {
   "cell_type": "code",
   "execution_count": null,
   "metadata": {
    "collapsed": true
   },
   "outputs": [],
   "source": [
    "%matplotlib inline\n",
    "bins = [0,1,2,3,4,5,6,7,8,9,10,11,12,13,14,15,16]\n",
    "plt.hist(hist_list, bins, histtype='bar', rwidth=0.8)\n",
    "plt.ylabel('length');"
   ]
  },
  {
   "cell_type": "code",
   "execution_count": 112,
   "metadata": {},
   "outputs": [
    {
     "data": {
      "text/plain": [
       "[22050, 22050, 22050, 22050, 22050, 22050, 22050, 22050, 22050, 22050]"
      ]
     },
     "execution_count": 112,
     "metadata": {},
     "output_type": "execute_result"
    }
   ],
   "source": [
    "freqs[0:10]"
   ]
  },
  {
   "cell_type": "code",
   "execution_count": 116,
   "metadata": {},
   "outputs": [
    {
     "data": {
      "text/plain": [
       "True"
      ]
     },
     "execution_count": 116,
     "metadata": {},
     "output_type": "execute_result"
    }
   ],
   "source": [
    "freqs == [22050 for x in range(len(freqs))]"
   ]
  },
  {
   "cell_type": "code",
   "execution_count": null,
   "metadata": {
    "collapsed": true
   },
   "outputs": [],
   "source": []
  }
 ],
 "metadata": {
  "kernelspec": {
   "display_name": "Python 3",
   "language": "python",
   "name": "python3"
  },
  "language_info": {
   "codemirror_mode": {
    "name": "ipython",
    "version": 3
   },
   "file_extension": ".py",
   "mimetype": "text/x-python",
   "name": "python",
   "nbconvert_exporter": "python",
   "pygments_lexer": "ipython3",
   "version": "3.6.2"
  }
 },
 "nbformat": 4,
 "nbformat_minor": 2
}
